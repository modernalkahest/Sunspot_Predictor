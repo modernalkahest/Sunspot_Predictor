{
 "cells": [
  {
   "cell_type": "markdown",
   "id": "1fec3bf0-fbc1-489d-a879-44b9fa6a1bbe",
   "metadata": {},
   "source": [
    "* The number of sun spots observed on the \"surface\" of the Sun varies from year to year.\n",
    "* The sun is most active during the years of sunspot maximums, pouring the greatest amount of energy and radiation into the Earth's environment.\n",
    "* Therefore during sunspot maximums, the Earth will see an increase in the Northern and Southern Lights and a possible disruption in radio transmissions and power grids.\n",
    "* Therefore it is important to keep track of a sunspot count.\n",
    "\n",
    "**Note: Use only the provided \"train.csv\" dataset for your model training.  Use of any external datasets for training will result in rejection.**"
   ]
  },
  {
   "cell_type": "code",
   "execution_count": 1,
   "id": "dfbe2330-9a4c-4aae-b0c1-39acc6a0231e",
   "metadata": {},
   "outputs": [
    {
     "data": {
      "text/html": [
       "<div>\n",
       "<style scoped>\n",
       "    .dataframe tbody tr th:only-of-type {\n",
       "        vertical-align: middle;\n",
       "    }\n",
       "\n",
       "    .dataframe tbody tr th {\n",
       "        vertical-align: top;\n",
       "    }\n",
       "\n",
       "    .dataframe thead th {\n",
       "        text-align: right;\n",
       "    }\n",
       "</style>\n",
       "<table border=\"1\" class=\"dataframe\">\n",
       "  <thead>\n",
       "    <tr style=\"text-align: right;\">\n",
       "      <th></th>\n",
       "      <th>Month</th>\n",
       "      <th>Avg_sunspot_count</th>\n",
       "    </tr>\n",
       "  </thead>\n",
       "  <tbody>\n",
       "    <tr>\n",
       "      <th>0</th>\n",
       "      <td>01-01-1749</td>\n",
       "      <td>97</td>\n",
       "    </tr>\n",
       "    <tr>\n",
       "      <th>1</th>\n",
       "      <td>02-01-1749</td>\n",
       "      <td>104</td>\n",
       "    </tr>\n",
       "    <tr>\n",
       "      <th>2</th>\n",
       "      <td>03-01-1749</td>\n",
       "      <td>117</td>\n",
       "    </tr>\n",
       "    <tr>\n",
       "      <th>3</th>\n",
       "      <td>04-01-1749</td>\n",
       "      <td>93</td>\n",
       "    </tr>\n",
       "    <tr>\n",
       "      <th>4</th>\n",
       "      <td>05-01-1749</td>\n",
       "      <td>142</td>\n",
       "    </tr>\n",
       "  </tbody>\n",
       "</table>\n",
       "</div>"
      ],
      "text/plain": [
       "        Month  Avg_sunspot_count\n",
       "0  01-01-1749                 97\n",
       "1  02-01-1749                104\n",
       "2  03-01-1749                117\n",
       "3  04-01-1749                 93\n",
       "4  05-01-1749                142"
      ]
     },
     "execution_count": 1,
     "metadata": {},
     "output_type": "execute_result"
    }
   ],
   "source": [
    "import pandas as pd\n",
    "from warnings import filterwarnings\n",
    "filterwarnings('ignore')\n",
    "train = pd.read_csv('train.csv')\n",
    "test = pd.read_csv('test.csv')\n",
    "train.head()"
   ]
  },
  {
   "cell_type": "code",
   "execution_count": 2,
   "id": "cea9ef4d-e110-4dff-8fb8-79fec1f973a4",
   "metadata": {},
   "outputs": [
    {
     "data": {
      "text/html": [
       "<div>\n",
       "<style scoped>\n",
       "    .dataframe tbody tr th:only-of-type {\n",
       "        vertical-align: middle;\n",
       "    }\n",
       "\n",
       "    .dataframe tbody tr th {\n",
       "        vertical-align: top;\n",
       "    }\n",
       "\n",
       "    .dataframe thead th {\n",
       "        text-align: right;\n",
       "    }\n",
       "</style>\n",
       "<table border=\"1\" class=\"dataframe\">\n",
       "  <thead>\n",
       "    <tr style=\"text-align: right;\">\n",
       "      <th></th>\n",
       "      <th>Month</th>\n",
       "    </tr>\n",
       "  </thead>\n",
       "  <tbody>\n",
       "    <tr>\n",
       "      <th>0</th>\n",
       "      <td>01-01-2011</td>\n",
       "    </tr>\n",
       "    <tr>\n",
       "      <th>1</th>\n",
       "      <td>02-01-2011</td>\n",
       "    </tr>\n",
       "    <tr>\n",
       "      <th>2</th>\n",
       "      <td>03-01-2011</td>\n",
       "    </tr>\n",
       "    <tr>\n",
       "      <th>3</th>\n",
       "      <td>04-01-2011</td>\n",
       "    </tr>\n",
       "    <tr>\n",
       "      <th>4</th>\n",
       "      <td>05-01-2011</td>\n",
       "    </tr>\n",
       "  </tbody>\n",
       "</table>\n",
       "</div>"
      ],
      "text/plain": [
       "        Month\n",
       "0  01-01-2011\n",
       "1  02-01-2011\n",
       "2  03-01-2011\n",
       "3  04-01-2011\n",
       "4  05-01-2011"
      ]
     },
     "execution_count": 2,
     "metadata": {},
     "output_type": "execute_result"
    }
   ],
   "source": [
    "test.head()"
   ]
  },
  {
   "cell_type": "markdown",
   "id": "cbc77d6c-bb8b-4266-8051-14909d154438",
   "metadata": {},
   "source": [
    "# Checking Data types"
   ]
  },
  {
   "cell_type": "code",
   "execution_count": 3,
   "id": "66975a91-be2c-4482-b70c-7993a1188e80",
   "metadata": {},
   "outputs": [
    {
     "name": "stdout",
     "output_type": "stream",
     "text": [
      "<class 'pandas.core.frame.DataFrame'>\n",
      "RangeIndex: 3144 entries, 0 to 3143\n",
      "Data columns (total 2 columns):\n",
      " #   Column             Non-Null Count  Dtype \n",
      "---  ------             --------------  ----- \n",
      " 0   Month              3144 non-null   object\n",
      " 1   Avg_sunspot_count  3144 non-null   int64 \n",
      "dtypes: int64(1), object(1)\n",
      "memory usage: 49.3+ KB\n"
     ]
    }
   ],
   "source": [
    "train.info()"
   ]
  },
  {
   "cell_type": "code",
   "execution_count": 4,
   "id": "b4b71081-fb3e-48fd-92d1-afa016ce2a07",
   "metadata": {},
   "outputs": [
    {
     "name": "stdout",
     "output_type": "stream",
     "text": [
      "<class 'pandas.core.frame.DataFrame'>\n",
      "RangeIndex: 120 entries, 0 to 119\n",
      "Data columns (total 1 columns):\n",
      " #   Column  Non-Null Count  Dtype \n",
      "---  ------  --------------  ----- \n",
      " 0   Month   120 non-null    object\n",
      "dtypes: object(1)\n",
      "memory usage: 1.1+ KB\n"
     ]
    }
   ],
   "source": [
    "test.info()"
   ]
  },
  {
   "cell_type": "markdown",
   "id": "545838de-0316-45f7-95c8-cef8485bd3b8",
   "metadata": {},
   "source": [
    "# Converting object columns into date-time format"
   ]
  },
  {
   "cell_type": "code",
   "execution_count": 5,
   "id": "e7060a85-114d-4d9b-a6b3-1976834e2262",
   "metadata": {},
   "outputs": [],
   "source": [
    "train = pd.read_csv('train.csv',parse_dates=['Month'])\n",
    "test = pd.read_csv('test.csv',parse_dates=['Month'])"
   ]
  },
  {
   "cell_type": "code",
   "execution_count": 6,
   "id": "6f5b6fae-5a45-4843-a271-2dcc6c07212d",
   "metadata": {},
   "outputs": [
    {
     "name": "stdout",
     "output_type": "stream",
     "text": [
      "<class 'pandas.core.frame.DataFrame'>\n",
      "RangeIndex: 3144 entries, 0 to 3143\n",
      "Data columns (total 2 columns):\n",
      " #   Column             Non-Null Count  Dtype         \n",
      "---  ------             --------------  -----         \n",
      " 0   Month              3144 non-null   datetime64[ns]\n",
      " 1   Avg_sunspot_count  3144 non-null   int64         \n",
      "dtypes: datetime64[ns](1), int64(1)\n",
      "memory usage: 49.3 KB\n"
     ]
    }
   ],
   "source": [
    "train.info()"
   ]
  },
  {
   "cell_type": "code",
   "execution_count": 7,
   "id": "ee59d855-9785-4a40-aca3-2fec20714cf2",
   "metadata": {},
   "outputs": [
    {
     "name": "stdout",
     "output_type": "stream",
     "text": [
      "<class 'pandas.core.frame.DataFrame'>\n",
      "RangeIndex: 120 entries, 0 to 119\n",
      "Data columns (total 1 columns):\n",
      " #   Column  Non-Null Count  Dtype         \n",
      "---  ------  --------------  -----         \n",
      " 0   Month   120 non-null    datetime64[ns]\n",
      "dtypes: datetime64[ns](1)\n",
      "memory usage: 1.1 KB\n"
     ]
    }
   ],
   "source": [
    "test.info()"
   ]
  },
  {
   "cell_type": "code",
   "execution_count": 8,
   "id": "b66c641c-a3ef-46ee-90aa-a12538675fb8",
   "metadata": {},
   "outputs": [],
   "source": [
    "train['Month'] = pd.to_datetime(train['Month'],format='%DD-%MM-%YYYY')"
   ]
  },
  {
   "cell_type": "code",
   "execution_count": 9,
   "id": "f22d7493-c644-47f7-b427-d333d8b96bb9",
   "metadata": {},
   "outputs": [
    {
     "data": {
      "text/html": [
       "<div>\n",
       "<style scoped>\n",
       "    .dataframe tbody tr th:only-of-type {\n",
       "        vertical-align: middle;\n",
       "    }\n",
       "\n",
       "    .dataframe tbody tr th {\n",
       "        vertical-align: top;\n",
       "    }\n",
       "\n",
       "    .dataframe thead th {\n",
       "        text-align: right;\n",
       "    }\n",
       "</style>\n",
       "<table border=\"1\" class=\"dataframe\">\n",
       "  <thead>\n",
       "    <tr style=\"text-align: right;\">\n",
       "      <th></th>\n",
       "      <th>Month</th>\n",
       "      <th>Avg_sunspot_count</th>\n",
       "    </tr>\n",
       "  </thead>\n",
       "  <tbody>\n",
       "    <tr>\n",
       "      <th>0</th>\n",
       "      <td>1749-01-01</td>\n",
       "      <td>97</td>\n",
       "    </tr>\n",
       "    <tr>\n",
       "      <th>1</th>\n",
       "      <td>1749-02-01</td>\n",
       "      <td>104</td>\n",
       "    </tr>\n",
       "    <tr>\n",
       "      <th>2</th>\n",
       "      <td>1749-03-01</td>\n",
       "      <td>117</td>\n",
       "    </tr>\n",
       "    <tr>\n",
       "      <th>3</th>\n",
       "      <td>1749-04-01</td>\n",
       "      <td>93</td>\n",
       "    </tr>\n",
       "    <tr>\n",
       "      <th>4</th>\n",
       "      <td>1749-05-01</td>\n",
       "      <td>142</td>\n",
       "    </tr>\n",
       "  </tbody>\n",
       "</table>\n",
       "</div>"
      ],
      "text/plain": [
       "       Month  Avg_sunspot_count\n",
       "0 1749-01-01                 97\n",
       "1 1749-02-01                104\n",
       "2 1749-03-01                117\n",
       "3 1749-04-01                 93\n",
       "4 1749-05-01                142"
      ]
     },
     "execution_count": 9,
     "metadata": {},
     "output_type": "execute_result"
    }
   ],
   "source": [
    "train.head()"
   ]
  },
  {
   "cell_type": "markdown",
   "id": "a5d8df46-f674-473c-b63d-e6229f1516a0",
   "metadata": {},
   "source": [
    "# Null count check"
   ]
  },
  {
   "cell_type": "code",
   "execution_count": 10,
   "id": "eabcde0a-f983-40c6-84fa-5d981f170cbb",
   "metadata": {},
   "outputs": [
    {
     "data": {
      "text/plain": [
       "Month                0\n",
       "Avg_sunspot_count    0\n",
       "dtype: int64"
      ]
     },
     "execution_count": 10,
     "metadata": {},
     "output_type": "execute_result"
    }
   ],
   "source": [
    "train.isnull().sum()"
   ]
  },
  {
   "cell_type": "code",
   "execution_count": 11,
   "id": "953f7630-618e-4e7b-9b9d-0ee5c4150a09",
   "metadata": {},
   "outputs": [
    {
     "data": {
      "text/plain": [
       "Month    0\n",
       "dtype: int64"
      ]
     },
     "execution_count": 11,
     "metadata": {},
     "output_type": "execute_result"
    }
   ],
   "source": [
    "test.isnull().sum()"
   ]
  },
  {
   "cell_type": "markdown",
   "id": "f6b6853e-454c-4037-a29f-d5bda1a57591",
   "metadata": {},
   "source": [
    "# Converting the indices to the column ```Month```"
   ]
  },
  {
   "cell_type": "code",
   "execution_count": 12,
   "id": "e22c61e4-e792-4dbe-ad71-4eae462aecba",
   "metadata": {},
   "outputs": [],
   "source": [
    "train.set_index('Month',inplace=True)\n",
    "test.set_index('Month',inplace=True)"
   ]
  },
  {
   "cell_type": "code",
   "execution_count": 13,
   "id": "433d5c6c-6429-4a91-8562-7e13d4b5ade7",
   "metadata": {},
   "outputs": [
    {
     "data": {
      "text/html": [
       "<div>\n",
       "<style scoped>\n",
       "    .dataframe tbody tr th:only-of-type {\n",
       "        vertical-align: middle;\n",
       "    }\n",
       "\n",
       "    .dataframe tbody tr th {\n",
       "        vertical-align: top;\n",
       "    }\n",
       "\n",
       "    .dataframe thead th {\n",
       "        text-align: right;\n",
       "    }\n",
       "</style>\n",
       "<table border=\"1\" class=\"dataframe\">\n",
       "  <thead>\n",
       "    <tr style=\"text-align: right;\">\n",
       "      <th></th>\n",
       "      <th>Avg_sunspot_count</th>\n",
       "    </tr>\n",
       "    <tr>\n",
       "      <th>Month</th>\n",
       "      <th></th>\n",
       "    </tr>\n",
       "  </thead>\n",
       "  <tbody>\n",
       "    <tr>\n",
       "      <th>1749-01-01</th>\n",
       "      <td>97</td>\n",
       "    </tr>\n",
       "    <tr>\n",
       "      <th>1749-02-01</th>\n",
       "      <td>104</td>\n",
       "    </tr>\n",
       "    <tr>\n",
       "      <th>1749-03-01</th>\n",
       "      <td>117</td>\n",
       "    </tr>\n",
       "    <tr>\n",
       "      <th>1749-04-01</th>\n",
       "      <td>93</td>\n",
       "    </tr>\n",
       "    <tr>\n",
       "      <th>1749-05-01</th>\n",
       "      <td>142</td>\n",
       "    </tr>\n",
       "  </tbody>\n",
       "</table>\n",
       "</div>"
      ],
      "text/plain": [
       "            Avg_sunspot_count\n",
       "Month                        \n",
       "1749-01-01                 97\n",
       "1749-02-01                104\n",
       "1749-03-01                117\n",
       "1749-04-01                 93\n",
       "1749-05-01                142"
      ]
     },
     "execution_count": 13,
     "metadata": {},
     "output_type": "execute_result"
    }
   ],
   "source": [
    "train.head()"
   ]
  },
  {
   "cell_type": "code",
   "execution_count": 14,
   "id": "b49a53bf-3fc2-4430-8b5b-54ba052cada0",
   "metadata": {},
   "outputs": [
    {
     "data": {
      "text/html": [
       "<div>\n",
       "<style scoped>\n",
       "    .dataframe tbody tr th:only-of-type {\n",
       "        vertical-align: middle;\n",
       "    }\n",
       "\n",
       "    .dataframe tbody tr th {\n",
       "        vertical-align: top;\n",
       "    }\n",
       "\n",
       "    .dataframe thead th {\n",
       "        text-align: right;\n",
       "    }\n",
       "</style>\n",
       "<table border=\"1\" class=\"dataframe\">\n",
       "  <thead>\n",
       "    <tr style=\"text-align: right;\">\n",
       "      <th></th>\n",
       "      <th>Avg_sunspot_count</th>\n",
       "    </tr>\n",
       "    <tr>\n",
       "      <th>Month</th>\n",
       "      <th></th>\n",
       "    </tr>\n",
       "  </thead>\n",
       "  <tbody>\n",
       "    <tr>\n",
       "      <th>2010-08-01</th>\n",
       "      <td>30</td>\n",
       "    </tr>\n",
       "    <tr>\n",
       "      <th>2010-09-01</th>\n",
       "      <td>36</td>\n",
       "    </tr>\n",
       "    <tr>\n",
       "      <th>2010-10-01</th>\n",
       "      <td>34</td>\n",
       "    </tr>\n",
       "    <tr>\n",
       "      <th>2010-11-01</th>\n",
       "      <td>34</td>\n",
       "    </tr>\n",
       "    <tr>\n",
       "      <th>2010-12-01</th>\n",
       "      <td>25</td>\n",
       "    </tr>\n",
       "  </tbody>\n",
       "</table>\n",
       "</div>"
      ],
      "text/plain": [
       "            Avg_sunspot_count\n",
       "Month                        \n",
       "2010-08-01                 30\n",
       "2010-09-01                 36\n",
       "2010-10-01                 34\n",
       "2010-11-01                 34\n",
       "2010-12-01                 25"
      ]
     },
     "execution_count": 14,
     "metadata": {},
     "output_type": "execute_result"
    }
   ],
   "source": [
    "train.tail()"
   ]
  },
  {
   "cell_type": "code",
   "execution_count": 15,
   "id": "7fd99d7a-0bf4-4fea-83bf-d27fc8761089",
   "metadata": {},
   "outputs": [
    {
     "data": {
      "text/html": [
       "<div>\n",
       "<style scoped>\n",
       "    .dataframe tbody tr th:only-of-type {\n",
       "        vertical-align: middle;\n",
       "    }\n",
       "\n",
       "    .dataframe tbody tr th {\n",
       "        vertical-align: top;\n",
       "    }\n",
       "\n",
       "    .dataframe thead th {\n",
       "        text-align: right;\n",
       "    }\n",
       "</style>\n",
       "<table border=\"1\" class=\"dataframe\">\n",
       "  <thead>\n",
       "    <tr style=\"text-align: right;\">\n",
       "      <th></th>\n",
       "    </tr>\n",
       "    <tr>\n",
       "      <th>Month</th>\n",
       "    </tr>\n",
       "  </thead>\n",
       "  <tbody>\n",
       "    <tr>\n",
       "      <th>2011-01-01</th>\n",
       "    </tr>\n",
       "    <tr>\n",
       "      <th>2011-02-01</th>\n",
       "    </tr>\n",
       "    <tr>\n",
       "      <th>2011-03-01</th>\n",
       "    </tr>\n",
       "    <tr>\n",
       "      <th>2011-04-01</th>\n",
       "    </tr>\n",
       "    <tr>\n",
       "      <th>2011-05-01</th>\n",
       "    </tr>\n",
       "  </tbody>\n",
       "</table>\n",
       "</div>"
      ],
      "text/plain": [
       "Empty DataFrame\n",
       "Columns: []\n",
       "Index: [2011-01-01 00:00:00, 2011-02-01 00:00:00, 2011-03-01 00:00:00, 2011-04-01 00:00:00, 2011-05-01 00:00:00]"
      ]
     },
     "execution_count": 15,
     "metadata": {},
     "output_type": "execute_result"
    }
   ],
   "source": [
    "test.head()"
   ]
  },
  {
   "cell_type": "markdown",
   "id": "10c4a419-4939-4942-a6e2-a365c4c5b31a",
   "metadata": {},
   "source": [
    "# Performing Dicky Fuller test"
   ]
  },
  {
   "cell_type": "code",
   "execution_count": 16,
   "id": "793ef451-972c-4d67-9be8-bd5c5690bf1b",
   "metadata": {},
   "outputs": [
    {
     "name": "stdout",
     "output_type": "stream",
     "text": [
      "(-10.390308589912834, 2.0290768019122996e-18, 28, 3115, {'1%': -3.43245102630828, '5%': -2.862468302843017, '10%': -2.5672641578701927}, 28786.33743096589)\n",
      "Series is stationary\n"
     ]
    }
   ],
   "source": [
    "from statsmodels.tsa.stattools            import  adfuller\n",
    "observations= train.values\n",
    "test_result = adfuller(observations)\n",
    "print(test_result)\n",
    "if test_result[1]<0.05:\n",
    "    print(\"Series is stationary\")\n",
    "\n",
    "else:\n",
    "    print(\"Series is not stationary\")"
   ]
  },
  {
   "cell_type": "markdown",
   "id": "104d0beb-9e42-48d1-9ab8-e459ef5fe94b",
   "metadata": {},
   "source": [
    "# Plotting ACF and PACF"
   ]
  },
  {
   "cell_type": "code",
   "execution_count": 20,
   "id": "88964491-db20-40f6-9a0f-ae03714a5316",
   "metadata": {},
   "outputs": [
    {
     "data": {
      "image/png": "[encoded data removed]",
      "text/plain": [
       "<Figure size 640x480 with 1 Axes>"
      ]
     },
     "metadata": {},
     "output_type": "display_data"
    }
   ],
   "source": [
    "from statsmodels.graphics.tsaplots import  plot_acf,plot_pacf\n",
    "plot_acf(train,lags=40);"
   ]
  },
  {
   "cell_type": "code",
   "execution_count": 21,
   "id": "fbf9f871-0588-4f81-86a4-f99cfa77e26f",
   "metadata": {},
   "outputs": [
    {
     "data": {
      "image/png": "[encoded data removed]",
      "text/plain": [
       "<Figure size 640x480 with 1 Axes>"
      ]
     },
     "metadata": {},
     "output_type": "display_data"
    }
   ],
   "source": [
    "plot_pacf(train,lags=40);"
   ]
  },
  {
   "cell_type": "markdown",
   "id": "90549393-eab0-4f3f-9024-69ed4f0fe87d",
   "metadata": {},
   "source": [
    "# LSTM Approach"
   ]
  },
  {
   "cell_type": "code",
   "execution_count": 22,
   "id": "83210dee-8473-4802-aa0c-9a2f3c0a36c3",
   "metadata": {},
   "outputs": [],
   "source": [
    "import pandas as pd\n",
    "import numpy as np\n",
    "train = pd.read_csv('train.csv',parse_dates=['Month'])\n",
    "test = pd.read_csv('test.csv',parse_dates=['Month'])\n",
    "train.set_index('Month',inplace=True)\n",
    "test.set_index('Month',inplace=True)"
   ]
  },
  {
   "cell_type": "code",
   "execution_count": 125,
   "id": "f141f347-7b10-4def-8efc-56e03c13537b",
   "metadata": {},
   "outputs": [
    {
     "name": "stdout",
     "output_type": "stream",
     "text": [
      "Epoch 1/20\n",
      "\u001b[1m284/284\u001b[0m \u001b[32m━━━━━━━━━━━━━━━━━━━━\u001b[0m\u001b[37m\u001b[0m \u001b[1m2s\u001b[0m 2ms/step - loss: 0.0380\n",
      "Epoch 2/20\n",
      "\u001b[1m284/284\u001b[0m \u001b[32m━━━━━━━━━━━━━━━━━━━━\u001b[0m\u001b[37m\u001b[0m \u001b[1m1s\u001b[0m 2ms/step - loss: 0.0189\n",
      "Epoch 3/20\n",
      "\u001b[1m284/284\u001b[0m \u001b[32m━━━━━━━━━━━━━━━━━━━━\u001b[0m\u001b[37m\u001b[0m \u001b[1m1s\u001b[0m 2ms/step - loss: 0.0115\n",
      "Epoch 4/20\n",
      "\u001b[1m284/284\u001b[0m \u001b[32m━━━━━━━━━━━━━━━━━━━━\u001b[0m\u001b[37m\u001b[0m \u001b[1m1s\u001b[0m 2ms/step - loss: 0.0119\n",
      "Epoch 5/20\n",
      "\u001b[1m284/284\u001b[0m \u001b[32m━━━━━━━━━━━━━━━━━━━━\u001b[0m\u001b[37m\u001b[0m \u001b[1m1s\u001b[0m 2ms/step - loss: 0.0122\n",
      "Epoch 6/20\n",
      "\u001b[1m284/284\u001b[0m \u001b[32m━━━━━━━━━━━━━━━━━━━━\u001b[0m\u001b[37m\u001b[0m \u001b[1m1s\u001b[0m 2ms/step - loss: 0.0148\n",
      "Epoch 7/20\n",
      "\u001b[1m284/284\u001b[0m \u001b[32m━━━━━━━━━━━━━━━━━━━━\u001b[0m\u001b[37m\u001b[0m \u001b[1m1s\u001b[0m 2ms/step - loss: 0.0131\n",
      "Epoch 8/20\n",
      "\u001b[1m284/284\u001b[0m \u001b[32m━━━━━━━━━━━━━━━━━━━━\u001b[0m\u001b[37m\u001b[0m \u001b[1m1s\u001b[0m 2ms/step - loss: 0.0116\n",
      "Epoch 9/20\n",
      "\u001b[1m284/284\u001b[0m \u001b[32m━━━━━━━━━━━━━━━━━━━━\u001b[0m\u001b[37m\u001b[0m \u001b[1m1s\u001b[0m 2ms/step - loss: 0.0138\n",
      "Epoch 10/20\n",
      "\u001b[1m284/284\u001b[0m \u001b[32m━━━━━━━━━━━━━━━━━━━━\u001b[0m\u001b[37m\u001b[0m \u001b[1m1s\u001b[0m 2ms/step - loss: 0.0174\n",
      "Epoch 11/20\n",
      "\u001b[1m284/284\u001b[0m \u001b[32m━━━━━━━━━━━━━━━━━━━━\u001b[0m\u001b[37m\u001b[0m \u001b[1m1s\u001b[0m 2ms/step - loss: 0.0169\n",
      "Epoch 12/20\n",
      "\u001b[1m284/284\u001b[0m \u001b[32m━━━━━━━━━━━━━━━━━━━━\u001b[0m\u001b[37m\u001b[0m \u001b[1m1s\u001b[0m 2ms/step - loss: 0.0131\n",
      "Epoch 13/20\n",
      "\u001b[1m284/284\u001b[0m \u001b[32m━━━━━━━━━━━━━━━━━━━━\u001b[0m\u001b[37m\u001b[0m \u001b[1m1s\u001b[0m 2ms/step - loss: 0.0119\n",
      "Epoch 14/20\n",
      "\u001b[1m284/284\u001b[0m \u001b[32m━━━━━━━━━━━━━━━━━━━━\u001b[0m\u001b[37m\u001b[0m \u001b[1m1s\u001b[0m 2ms/step - loss: 0.0133\n",
      "Epoch 15/20\n",
      "\u001b[1m284/284\u001b[0m \u001b[32m━━━━━━━━━━━━━━━━━━━━\u001b[0m\u001b[37m\u001b[0m \u001b[1m1s\u001b[0m 2ms/step - loss: 0.0136\n",
      "Epoch 16/20\n",
      "\u001b[1m284/284\u001b[0m \u001b[32m━━━━━━━━━━━━━━━━━━━━\u001b[0m\u001b[37m\u001b[0m \u001b[1m1s\u001b[0m 2ms/step - loss: 0.0123\n",
      "Epoch 17/20\n",
      "\u001b[1m284/284\u001b[0m \u001b[32m━━━━━━━━━━━━━━━━━━━━\u001b[0m\u001b[37m\u001b[0m \u001b[1m1s\u001b[0m 2ms/step - loss: 0.0096\n",
      "Epoch 18/20\n",
      "\u001b[1m284/284\u001b[0m \u001b[32m━━━━━━━━━━━━━━━━━━━━\u001b[0m\u001b[37m\u001b[0m \u001b[1m1s\u001b[0m 2ms/step - loss: 0.0161\n",
      "Epoch 19/20\n",
      "\u001b[1m284/284\u001b[0m \u001b[32m━━━━━━━━━━━━━━━━━━━━\u001b[0m\u001b[37m\u001b[0m \u001b[1m1s\u001b[0m 2ms/step - loss: 0.0130\n",
      "Epoch 20/20\n",
      "\u001b[1m284/284\u001b[0m \u001b[32m━━━━━━━━━━━━━━━━━━━━\u001b[0m\u001b[37m\u001b[0m \u001b[1m1s\u001b[0m 2ms/step - loss: 0.0127\n",
      "\u001b[1m9/9\u001b[0m \u001b[32m━━━━━━━━━━━━━━━━━━━━\u001b[0m\u001b[37m\u001b[0m \u001b[1m0s\u001b[0m 20ms/step\n",
      "\u001b[1m90/90\u001b[0m \u001b[32m━━━━━━━━━━━━━━━━━━━━\u001b[0m\u001b[37m\u001b[0m \u001b[1m0s\u001b[0m 1ms/step\n",
      "Train RMSE: 30.953965354121305\n",
      "Test RMSE: 26.87115472945016\n"
     ]
    },
    {
     "data": {
      "image/png": "[encoded data removed]",
      "text/plain": [
       "<Figure size 1000x600 with 1 Axes>"
      ]
     },
     "metadata": {},
     "output_type": "display_data"
    }
   ],
   "source": [
    "import pandas as pd\n",
    "import numpy as np\n",
    "import matplotlib.pyplot as plt\n",
    "from sklearn.preprocessing import MinMaxScaler\n",
    "from tensorflow.keras.models import Sequential\n",
    "from tensorflow.keras.layers import LSTM, Dense\n",
    "\n",
    "train = train.diff().dropna()\n",
    "# Normalize the data\n",
    "scaler = MinMaxScaler(feature_range=(0, 1))\n",
    "train['Avg_sunspot_count'] = scaler.fit_transform(train['Avg_sunspot_count'].values.reshape(-1, 1))\n",
    "\n",
    "seq_length=12\n",
    "# Create sequences of data points\n",
    "def create_sequences(data, seq_length):\n",
    "    xs, ys = [], []\n",
    "    for i in range(len(data) - seq_length):\n",
    "        x = data[i:i + seq_length]\n",
    "        y = data[i + seq_length]\n",
    "        xs.append(x)\n",
    "        ys.append(y)\n",
    "    return np.array(xs), np.array(ys)\n",
    "\n",
    "seq_length = 7\n",
    "X, y = create_sequences(train['Avg_sunspot_count'].values, seq_length)\n",
    "\n",
    "# Split the data into training and testing sets\n",
    "split = int(len(X)/11)-1\n",
    "X_train, X_test = X[:split], X[split:]\n",
    "y_train, y_test = y[:split], y[split:]\n",
    "\n",
    "# Reshape data for LSTM [samples, time steps, features]\n",
    "X_train = X_train.reshape((X_train.shape[0], X_train.shape[1], 1))\n",
    "X_test = X_test.reshape((X_test.shape[0], X_test.shape[1], 1))\n",
    "\n",
    "# Build the LSTM model\n",
    "model = Sequential()\n",
    "model.add(LSTM(50, return_sequences=True, input_shape=(seq_length, 1)))\n",
    "model.add(LSTM(50, return_sequences=False))\n",
    "model.add(Dense(128))\n",
    "model.add(Dense(1))\n",
    "\n",
    "model.compile(optimizer='adam', loss='mean_squared_error')\n",
    "\n",
    "# Train the model\n",
    "history = model.fit(X_train, y_train, batch_size=1, epochs=20)\n",
    "\n",
    "# Make predictions\n",
    "train_predict = model.predict(X_train)\n",
    "test_predict = model.predict(X_test)\n",
    "\n",
    "# Inverse transform the predictions\n",
    "train_predict = scaler.inverse_transform(train_predict)\n",
    "test_predict = scaler.inverse_transform(test_predict)\n",
    "y_train = scaler.inverse_transform(y_train.reshape(-1, 1))\n",
    "y_test = scaler.inverse_transform(y_test.reshape(-1, 1))\n",
    "\n",
    "# Calculate RMSE\n",
    "train_rmse = np.sqrt(np.mean((train_predict - y_train) ** 2))\n",
    "test_rmse = np.sqrt(np.mean((test_predict - y_test) ** 2))\n",
    "print('Train RMSE:', train_rmse)\n",
    "print('Test RMSE:', test_rmse)\n",
    "\n",
    "# Plot the results\n",
    "plt.figure(figsize=(10, 6))\n",
    "plt.plot(train.index, scaler.inverse_transform(train['Avg_sunspot_count'].values.reshape(-1, 1)), label='True Data')\n",
    "plt.plot(train.index[seq_length:split + seq_length], train_predict, label='Train Predict')\n",
    "plt.plot(train.index[split + seq_length:], test_predict, label='Test Predict')\n",
    "plt.xlabel('Date')\n",
    "plt.ylabel('Number of Sunspots')\n",
    "plt.legend()\n",
    "plt.title('Sunspot Prediction using LSTM')\n",
    "plt.show()\n"
   ]
  },
  {
   "cell_type": "code",
   "execution_count": 126,
   "id": "be2a31d4-aac0-492e-abaa-4d2ab27aaa41",
   "metadata": {},
   "outputs": [],
   "source": [
    "X, y = create_sequences(train['Avg_sunspot_count'].values, seq_length)"
   ]
  },
  {
   "cell_type": "code",
   "execution_count": 127,
   "id": "9c7827db-9d16-43bd-92bb-de6327e03746",
   "metadata": {},
   "outputs": [
    {
     "data": {
      "text/plain": [
       "(3136, 7)"
      ]
     },
     "execution_count": 127,
     "metadata": {},
     "output_type": "execute_result"
    }
   ],
   "source": [
    "X.shape"
   ]
  },
  {
   "cell_type": "code",
   "execution_count": 128,
   "id": "8176e6e5-c115-43c6-b4f9-641cf867fbd3",
   "metadata": {},
   "outputs": [
    {
     "data": {
      "text/plain": [
       "(3136,)"
      ]
     },
     "execution_count": 128,
     "metadata": {},
     "output_type": "execute_result"
    }
   ],
   "source": [
    "y.shape"
   ]
  },
  {
   "cell_type": "code",
   "execution_count": 129,
   "id": "b041600a-5b21-47bc-b93b-cc798aeb5c18",
   "metadata": {},
   "outputs": [],
   "source": [
    "import pandas as pd\n",
    "import numpy as np\n",
    "train = pd.read_csv('train.csv',parse_dates=['Month'])\n",
    "test = pd.read_csv('test.csv',parse_dates=['Month'])\n",
    "train.set_index('Month',inplace=True)\n",
    "test.set_index('Month',inplace=True)"
   ]
  },
  {
   "cell_type": "code",
   "execution_count": 248,
   "id": "93fd6a38-72f7-41e9-adb2-8000ec7895ad",
   "metadata": {
    "scrolled": true
   },
   "outputs": [
    {
     "name": "stdout",
     "output_type": "stream",
     "text": [
      "Epoch 1/300\n",
      "\u001b[1m49/49\u001b[0m \u001b[32m━━━━━━━━━━━━━━━━━━━━\u001b[0m\u001b[37m\u001b[0m \u001b[1m4s\u001b[0m 64ms/step - accuracy: 0.0306 - loss: 0.0316\n",
      "Epoch 2/300\n",
      "\u001b[1m49/49\u001b[0m \u001b[32m━━━━━━━━━━━━━━━━━━━━\u001b[0m\u001b[37m\u001b[0m \u001b[1m3s\u001b[0m 64ms/step - accuracy: 0.0246 - loss: 0.0171\n",
      "Epoch 3/300\n",
      "\u001b[1m49/49\u001b[0m \u001b[32m━━━━━━━━━━━━━━━━━━━━\u001b[0m\u001b[37m\u001b[0m \u001b[1m3s\u001b[0m 69ms/step - accuracy: 0.0254 - loss: 0.0125\n",
      "Epoch 4/300\n",
      "\u001b[1m49/49\u001b[0m \u001b[32m━━━━━━━━━━━━━━━━━━━━\u001b[0m\u001b[37m\u001b[0m \u001b[1m4s\u001b[0m 72ms/step - accuracy: 0.0270 - loss: 0.0102\n",
      "Epoch 5/300\n",
      "\u001b[1m49/49\u001b[0m \u001b[32m━━━━━━━━━━━━━━━━━━━━\u001b[0m\u001b[37m\u001b[0m \u001b[1m4s\u001b[0m 87ms/step - accuracy: 0.0257 - loss: 0.0084\n",
      "Epoch 6/300\n",
      "\u001b[1m49/49\u001b[0m \u001b[32m━━━━━━━━━━━━━━━━━━━━\u001b[0m\u001b[37m\u001b[0m \u001b[1m4s\u001b[0m 90ms/step - accuracy: 0.0244 - loss: 0.0081\n",
      "Epoch 7/300\n",
      "\u001b[1m49/49\u001b[0m \u001b[32m━━━━━━━━━━━━━━━━━━━━\u001b[0m\u001b[37m\u001b[0m \u001b[1m6s\u001b[0m 116ms/step - accuracy: 0.0270 - loss: 0.0079\n",
      "Epoch 8/300\n",
      "\u001b[1m49/49\u001b[0m \u001b[32m━━━━━━━━━━━━━━━━━━━━\u001b[0m\u001b[37m\u001b[0m \u001b[1m4s\u001b[0m 75ms/step - accuracy: 0.0248 - loss: 0.0079\n",
      "Epoch 9/300\n",
      "\u001b[1m49/49\u001b[0m \u001b[32m━━━━━━━━━━━━━━━━━━━━\u001b[0m\u001b[37m\u001b[0m \u001b[1m3s\u001b[0m 70ms/step - accuracy: 0.0268 - loss: 0.0082\n",
      "Epoch 10/300\n",
      "\u001b[1m49/49\u001b[0m \u001b[32m━━━━━━━━━━━━━━━━━━━━\u001b[0m\u001b[37m\u001b[0m \u001b[1m4s\u001b[0m 77ms/step - accuracy: 0.0275 - loss: 0.0080\n",
      "Epoch 11/300\n",
      "\u001b[1m49/49\u001b[0m \u001b[32m━━━━━━━━━━━━━━━━━━━━\u001b[0m\u001b[37m\u001b[0m \u001b[1m3s\u001b[0m 70ms/step - accuracy: 0.0214 - loss: 0.0070\n",
      "Epoch 12/300\n",
      "\u001b[1m49/49\u001b[0m \u001b[32m━━━━━━━━━━━━━━━━━━━━\u001b[0m\u001b[37m\u001b[0m \u001b[1m4s\u001b[0m 82ms/step - accuracy: 0.0268 - loss: 0.0078\n",
      "Epoch 13/300\n",
      "\u001b[1m49/49\u001b[0m \u001b[32m━━━━━━━━━━━━━━━━━━━━\u001b[0m\u001b[37m\u001b[0m \u001b[1m4s\u001b[0m 87ms/step - accuracy: 0.0268 - loss: 0.0078\n",
      "Epoch 14/300\n",
      "\u001b[1m49/49\u001b[0m \u001b[32m━━━━━━━━━━━━━━━━━━━━\u001b[0m\u001b[37m\u001b[0m \u001b[1m4s\u001b[0m 77ms/step - accuracy: 0.0269 - loss: 0.0079\n",
      "Epoch 15/300\n",
      "\u001b[1m49/49\u001b[0m \u001b[32m━━━━━━━━━━━━━━━━━━━━\u001b[0m\u001b[37m\u001b[0m \u001b[1m4s\u001b[0m 78ms/step - accuracy: 0.0278 - loss: 0.0075\n",
      "Epoch 16/300\n",
      "\u001b[1m49/49\u001b[0m \u001b[32m━━━━━━━━━━━━━━━━━━━━\u001b[0m\u001b[37m\u001b[0m \u001b[1m4s\u001b[0m 78ms/step - accuracy: 0.0238 - loss: 0.0078\n",
      "Epoch 17/300\n",
      "\u001b[1m49/49\u001b[0m \u001b[32m━━━━━━━━━━━━━━━━━━━━\u001b[0m\u001b[37m\u001b[0m \u001b[1m4s\u001b[0m 74ms/step - accuracy: 0.0229 - loss: 0.0074\n",
      "Epoch 18/300\n",
      "\u001b[1m49/49\u001b[0m \u001b[32m━━━━━━━━━━━━━━━━━━━━\u001b[0m\u001b[37m\u001b[0m \u001b[1m4s\u001b[0m 86ms/step - accuracy: 0.0227 - loss: 0.0071\n",
      "Epoch 19/300\n",
      "\u001b[1m49/49\u001b[0m \u001b[32m━━━━━━━━━━━━━━━━━━━━\u001b[0m\u001b[37m\u001b[0m \u001b[1m4s\u001b[0m 88ms/step - accuracy: 0.0246 - loss: 0.0072\n",
      "Epoch 20/300\n",
      "\u001b[1m49/49\u001b[0m \u001b[32m━━━━━━━━━━━━━━━━━━━━\u001b[0m\u001b[37m\u001b[0m \u001b[1m4s\u001b[0m 77ms/step - accuracy: 0.0230 - loss: 0.0066\n",
      "Epoch 21/300\n",
      "\u001b[1m49/49\u001b[0m \u001b[32m━━━━━━━━━━━━━━━━━━━━\u001b[0m\u001b[37m\u001b[0m \u001b[1m4s\u001b[0m 84ms/step - accuracy: 0.0243 - loss: 0.0067\n",
      "Epoch 22/300\n",
      "\u001b[1m49/49\u001b[0m \u001b[32m━━━━━━━━━━━━━━━━━━━━\u001b[0m\u001b[37m\u001b[0m \u001b[1m4s\u001b[0m 76ms/step - accuracy: 0.0265 - loss: 0.0069\n",
      "Epoch 23/300\n",
      "\u001b[1m49/49\u001b[0m \u001b[32m━━━━━━━━━━━━━━━━━━━━\u001b[0m\u001b[37m\u001b[0m \u001b[1m4s\u001b[0m 79ms/step - accuracy: 0.0240 - loss: 0.0072\n",
      "Epoch 24/300\n",
      "\u001b[1m49/49\u001b[0m \u001b[32m━━━━━━━━━━━━━━━━━━━━\u001b[0m\u001b[37m\u001b[0m \u001b[1m4s\u001b[0m 77ms/step - accuracy: 0.0265 - loss: 0.0067\n",
      "Epoch 25/300\n",
      "\u001b[1m49/49\u001b[0m \u001b[32m━━━━━━━━━━━━━━━━━━━━\u001b[0m\u001b[37m\u001b[0m \u001b[1m4s\u001b[0m 72ms/step - accuracy: 0.0266 - loss: 0.0065\n",
      "Epoch 26/300\n",
      "\u001b[1m49/49\u001b[0m \u001b[32m━━━━━━━━━━━━━━━━━━━━\u001b[0m\u001b[37m\u001b[0m \u001b[1m4s\u001b[0m 77ms/step - accuracy: 0.0289 - loss: 0.0065\n",
      "Epoch 27/300\n",
      "\u001b[1m49/49\u001b[0m \u001b[32m━━━━━━━━━━━━━━━━━━━━\u001b[0m\u001b[37m\u001b[0m \u001b[1m4s\u001b[0m 78ms/step - accuracy: 0.0244 - loss: 0.0067\n",
      "Epoch 28/300\n",
      "\u001b[1m49/49\u001b[0m \u001b[32m━━━━━━━━━━━━━━━━━━━━\u001b[0m\u001b[37m\u001b[0m \u001b[1m4s\u001b[0m 86ms/step - accuracy: 0.0237 - loss: 0.0063\n",
      "Epoch 29/300\n",
      "\u001b[1m49/49\u001b[0m \u001b[32m━━━━━━━━━━━━━━━━━━━━\u001b[0m\u001b[37m\u001b[0m \u001b[1m4s\u001b[0m 77ms/step - accuracy: 0.0230 - loss: 0.0060\n",
      "Epoch 30/300\n",
      "\u001b[1m49/49\u001b[0m \u001b[32m━━━━━━━━━━━━━━━━━━━━\u001b[0m\u001b[37m\u001b[0m \u001b[1m4s\u001b[0m 75ms/step - accuracy: 0.0262 - loss: 0.0060\n",
      "Epoch 31/300\n",
      "\u001b[1m49/49\u001b[0m \u001b[32m━━━━━━━━━━━━━━━━━━━━\u001b[0m\u001b[37m\u001b[0m \u001b[1m4s\u001b[0m 72ms/step - accuracy: 0.0271 - loss: 0.0064\n",
      "Epoch 32/300\n",
      "\u001b[1m49/49\u001b[0m \u001b[32m━━━━━━━━━━━━━━━━━━━━\u001b[0m\u001b[37m\u001b[0m \u001b[1m4s\u001b[0m 73ms/step - accuracy: 0.0246 - loss: 0.0060\n",
      "Epoch 33/300\n",
      "\u001b[1m49/49\u001b[0m \u001b[32m━━━━━━━━━━━━━━━━━━━━\u001b[0m\u001b[37m\u001b[0m \u001b[1m4s\u001b[0m 71ms/step - accuracy: 0.0223 - loss: 0.0060\n",
      "Epoch 34/300\n",
      "\u001b[1m49/49\u001b[0m \u001b[32m━━━━━━━━━━━━━━━━━━━━\u001b[0m\u001b[37m\u001b[0m \u001b[1m4s\u001b[0m 83ms/step - accuracy: 0.0287 - loss: 0.0058\n",
      "Epoch 35/300\n",
      "\u001b[1m49/49\u001b[0m \u001b[32m━━━━━━━━━━━━━━━━━━━━\u001b[0m\u001b[37m\u001b[0m \u001b[1m4s\u001b[0m 80ms/step - accuracy: 0.0220 - loss: 0.0060\n",
      "Epoch 36/300\n",
      "\u001b[1m49/49\u001b[0m \u001b[32m━━━━━━━━━━━━━━━━━━━━\u001b[0m\u001b[37m\u001b[0m \u001b[1m4s\u001b[0m 74ms/step - accuracy: 0.0265 - loss: 0.0057\n",
      "Epoch 37/300\n",
      "\u001b[1m49/49\u001b[0m \u001b[32m━━━━━━━━━━━━━━━━━━━━\u001b[0m\u001b[37m\u001b[0m \u001b[1m4s\u001b[0m 74ms/step - accuracy: 0.0283 - loss: 0.0062\n",
      "Epoch 38/300\n",
      "\u001b[1m49/49\u001b[0m \u001b[32m━━━━━━━━━━━━━━━━━━━━\u001b[0m\u001b[37m\u001b[0m \u001b[1m4s\u001b[0m 75ms/step - accuracy: 0.0252 - loss: 0.0057\n",
      "Epoch 39/300\n",
      "\u001b[1m49/49\u001b[0m \u001b[32m━━━━━━━━━━━━━━━━━━━━\u001b[0m\u001b[37m\u001b[0m \u001b[1m4s\u001b[0m 75ms/step - accuracy: 0.0250 - loss: 0.0054\n",
      "Epoch 40/300\n",
      "\u001b[1m49/49\u001b[0m \u001b[32m━━━━━━━━━━━━━━━━━━━━\u001b[0m\u001b[37m\u001b[0m \u001b[1m4s\u001b[0m 76ms/step - accuracy: 0.0269 - loss: 0.0056\n",
      "Epoch 41/300\n",
      "\u001b[1m49/49\u001b[0m \u001b[32m━━━━━━━━━━━━━━━━━━━━\u001b[0m\u001b[37m\u001b[0m \u001b[1m4s\u001b[0m 79ms/step - accuracy: 0.0296 - loss: 0.0055\n",
      "Epoch 42/300\n",
      "\u001b[1m49/49\u001b[0m \u001b[32m━━━━━━━━━━━━━━━━━━━━\u001b[0m\u001b[37m\u001b[0m \u001b[1m4s\u001b[0m 73ms/step - accuracy: 0.0260 - loss: 0.0055\n",
      "Epoch 43/300\n",
      "\u001b[1m49/49\u001b[0m \u001b[32m━━━━━━━━━━━━━━━━━━━━\u001b[0m\u001b[37m\u001b[0m \u001b[1m4s\u001b[0m 76ms/step - accuracy: 0.0233 - loss: 0.0057\n",
      "Epoch 44/300\n",
      "\u001b[1m49/49\u001b[0m \u001b[32m━━━━━━━━━━━━━━━━━━━━\u001b[0m\u001b[37m\u001b[0m \u001b[1m4s\u001b[0m 75ms/step - accuracy: 0.0274 - loss: 0.0053\n",
      "Epoch 45/300\n",
      "\u001b[1m49/49\u001b[0m \u001b[32m━━━━━━━━━━━━━━━━━━━━\u001b[0m\u001b[37m\u001b[0m \u001b[1m4s\u001b[0m 74ms/step - accuracy: 0.0281 - loss: 0.0055\n",
      "Epoch 46/300\n",
      "\u001b[1m49/49\u001b[0m \u001b[32m━━━━━━━━━━━━━━━━━━━━\u001b[0m\u001b[37m\u001b[0m \u001b[1m4s\u001b[0m 74ms/step - accuracy: 0.0225 - loss: 0.0055\n",
      "Epoch 47/300\n",
      "\u001b[1m49/49\u001b[0m \u001b[32m━━━━━━━━━━━━━━━━━━━━\u001b[0m\u001b[37m\u001b[0m \u001b[1m4s\u001b[0m 78ms/step - accuracy: 0.0299 - loss: 0.0053\n",
      "Epoch 48/300\n",
      "\u001b[1m49/49\u001b[0m \u001b[32m━━━━━━━━━━━━━━━━━━━━\u001b[0m\u001b[37m\u001b[0m \u001b[1m4s\u001b[0m 78ms/step - accuracy: 0.0245 - loss: 0.0053\n",
      "Epoch 49/300\n",
      "\u001b[1m49/49\u001b[0m \u001b[32m━━━━━━━━━━━━━━━━━━━━\u001b[0m\u001b[37m\u001b[0m \u001b[1m4s\u001b[0m 78ms/step - accuracy: 0.0262 - loss: 0.0049\n",
      "Epoch 50/300\n",
      "\u001b[1m49/49\u001b[0m \u001b[32m━━━━━━━━━━━━━━━━━━━━\u001b[0m\u001b[37m\u001b[0m \u001b[1m4s\u001b[0m 77ms/step - accuracy: 0.0212 - loss: 0.0054\n",
      "Epoch 51/300\n",
      "\u001b[1m49/49\u001b[0m \u001b[32m━━━━━━━━━━━━━━━━━━━━\u001b[0m\u001b[37m\u001b[0m \u001b[1m4s\u001b[0m 77ms/step - accuracy: 0.0241 - loss: 0.0054\n",
      "Epoch 52/300\n",
      "\u001b[1m49/49\u001b[0m \u001b[32m━━━━━━━━━━━━━━━━━━━━\u001b[0m\u001b[37m\u001b[0m \u001b[1m4s\u001b[0m 76ms/step - accuracy: 0.0275 - loss: 0.0053\n",
      "Epoch 53/300\n",
      "\u001b[1m49/49\u001b[0m \u001b[32m━━━━━━━━━━━━━━━━━━━━\u001b[0m\u001b[37m\u001b[0m \u001b[1m4s\u001b[0m 78ms/step - accuracy: 0.0285 - loss: 0.0051\n",
      "Epoch 54/300\n",
      "\u001b[1m49/49\u001b[0m \u001b[32m━━━━━━━━━━━━━━━━━━━━\u001b[0m\u001b[37m\u001b[0m \u001b[1m4s\u001b[0m 79ms/step - accuracy: 0.0272 - loss: 0.0052\n",
      "Epoch 55/300\n",
      "\u001b[1m49/49\u001b[0m \u001b[32m━━━━━━━━━━━━━━━━━━━━\u001b[0m\u001b[37m\u001b[0m \u001b[1m4s\u001b[0m 87ms/step - accuracy: 0.0263 - loss: 0.0050\n",
      "Epoch 56/300\n",
      "\u001b[1m49/49\u001b[0m \u001b[32m━━━━━━━━━━━━━━━━━━━━\u001b[0m\u001b[37m\u001b[0m \u001b[1m4s\u001b[0m 85ms/step - accuracy: 0.0254 - loss: 0.0053\n",
      "Epoch 57/300\n",
      "\u001b[1m49/49\u001b[0m \u001b[32m━━━━━━━━━━━━━━━━━━━━\u001b[0m\u001b[37m\u001b[0m \u001b[1m4s\u001b[0m 79ms/step - accuracy: 0.0258 - loss: 0.0051\n",
      "Epoch 58/300\n",
      "\u001b[1m49/49\u001b[0m \u001b[32m━━━━━━━━━━━━━━━━━━━━\u001b[0m\u001b[37m\u001b[0m \u001b[1m4s\u001b[0m 76ms/step - accuracy: 0.0206 - loss: 0.0049\n",
      "Epoch 59/300\n",
      "\u001b[1m49/49\u001b[0m \u001b[32m━━━━━━━━━━━━━━━━━━━━\u001b[0m\u001b[37m\u001b[0m \u001b[1m4s\u001b[0m 78ms/step - accuracy: 0.0243 - loss: 0.0049\n",
      "Epoch 60/300\n",
      "\u001b[1m49/49\u001b[0m \u001b[32m━━━━━━━━━━━━━━━━━━━━\u001b[0m\u001b[37m\u001b[0m \u001b[1m4s\u001b[0m 82ms/step - accuracy: 0.0279 - loss: 0.0056\n",
      "Epoch 61/300\n",
      "\u001b[1m49/49\u001b[0m \u001b[32m━━━━━━━━━━━━━━━━━━━━\u001b[0m\u001b[37m\u001b[0m \u001b[1m4s\u001b[0m 78ms/step - accuracy: 0.0267 - loss: 0.0052\n",
      "Epoch 62/300\n",
      "\u001b[1m49/49\u001b[0m \u001b[32m━━━━━━━━━━━━━━━━━━━━\u001b[0m\u001b[37m\u001b[0m \u001b[1m4s\u001b[0m 80ms/step - accuracy: 0.0290 - loss: 0.0052\n",
      "Epoch 63/300\n",
      "\u001b[1m49/49\u001b[0m \u001b[32m━━━━━━━━━━━━━━━━━━━━\u001b[0m\u001b[37m\u001b[0m \u001b[1m4s\u001b[0m 79ms/step - accuracy: 0.0251 - loss: 0.0051\n",
      "Epoch 64/300\n",
      "\u001b[1m49/49\u001b[0m \u001b[32m━━━━━━━━━━━━━━━━━━━━\u001b[0m\u001b[37m\u001b[0m \u001b[1m4s\u001b[0m 86ms/step - accuracy: 0.0240 - loss: 0.0047\n",
      "Epoch 65/300\n",
      "\u001b[1m49/49\u001b[0m \u001b[32m━━━━━━━━━━━━━━━━━━━━\u001b[0m\u001b[37m\u001b[0m \u001b[1m4s\u001b[0m 83ms/step - accuracy: 0.0280 - loss: 0.0052\n",
      "Epoch 66/300\n",
      "\u001b[1m49/49\u001b[0m \u001b[32m━━━━━━━━━━━━━━━━━━━━\u001b[0m\u001b[37m\u001b[0m \u001b[1m4s\u001b[0m 79ms/step - accuracy: 0.0265 - loss: 0.0050\n",
      "Epoch 67/300\n",
      "\u001b[1m49/49\u001b[0m \u001b[32m━━━━━━━━━━━━━━━━━━━━\u001b[0m\u001b[37m\u001b[0m \u001b[1m4s\u001b[0m 77ms/step - accuracy: 0.0310 - loss: 0.0050\n",
      "Epoch 68/300\n",
      "\u001b[1m49/49\u001b[0m \u001b[32m━━━━━━━━━━━━━━━━━━━━\u001b[0m\u001b[37m\u001b[0m \u001b[1m4s\u001b[0m 78ms/step - accuracy: 0.0270 - loss: 0.0048\n",
      "Epoch 69/300\n",
      "\u001b[1m49/49\u001b[0m \u001b[32m━━━━━━━━━━━━━━━━━━━━\u001b[0m\u001b[37m\u001b[0m \u001b[1m4s\u001b[0m 81ms/step - accuracy: 0.0225 - loss: 0.0048\n",
      "Epoch 70/300\n",
      "\u001b[1m49/49\u001b[0m \u001b[32m━━━━━━━━━━━━━━━━━━━━\u001b[0m\u001b[37m\u001b[0m \u001b[1m4s\u001b[0m 92ms/step - accuracy: 0.0248 - loss: 0.0048\n",
      "Epoch 71/300\n",
      "\u001b[1m49/49\u001b[0m \u001b[32m━━━━━━━━━━━━━━━━━━━━\u001b[0m\u001b[37m\u001b[0m \u001b[1m5s\u001b[0m 97ms/step - accuracy: 0.0241 - loss: 0.0051\n",
      "Epoch 72/300\n",
      "\u001b[1m49/49\u001b[0m \u001b[32m━━━━━━━━━━━━━━━━━━━━\u001b[0m\u001b[37m\u001b[0m \u001b[1m4s\u001b[0m 82ms/step - accuracy: 0.0264 - loss: 0.0050\n",
      "Epoch 73/300\n",
      "\u001b[1m49/49\u001b[0m \u001b[32m━━━━━━━━━━━━━━━━━━━━\u001b[0m\u001b[37m\u001b[0m \u001b[1m4s\u001b[0m 79ms/step - accuracy: 0.0302 - loss: 0.0050\n",
      "Epoch 74/300\n",
      "\u001b[1m49/49\u001b[0m \u001b[32m━━━━━━━━━━━━━━━━━━━━\u001b[0m\u001b[37m\u001b[0m \u001b[1m4s\u001b[0m 81ms/step - accuracy: 0.0310 - loss: 0.0052\n",
      "Epoch 75/300\n",
      "\u001b[1m49/49\u001b[0m \u001b[32m━━━━━━━━━━━━━━━━━━━━\u001b[0m\u001b[37m\u001b[0m \u001b[1m4s\u001b[0m 80ms/step - accuracy: 0.0227 - loss: 0.0051\n",
      "Epoch 76/300\n",
      "\u001b[1m49/49\u001b[0m \u001b[32m━━━━━━━━━━━━━━━━━━━━\u001b[0m\u001b[37m\u001b[0m \u001b[1m4s\u001b[0m 80ms/step - accuracy: 0.0274 - loss: 0.0054\n",
      "Epoch 77/300\n",
      "\u001b[1m49/49\u001b[0m \u001b[32m━━━━━━━━━━━━━━━━━━━━\u001b[0m\u001b[37m\u001b[0m \u001b[1m4s\u001b[0m 81ms/step - accuracy: 0.0246 - loss: 0.0049\n",
      "Epoch 78/300\n",
      "\u001b[1m49/49\u001b[0m \u001b[32m━━━━━━━━━━━━━━━━━━━━\u001b[0m\u001b[37m\u001b[0m \u001b[1m4s\u001b[0m 81ms/step - accuracy: 0.0262 - loss: 0.0049\n",
      "Epoch 79/300\n",
      "\u001b[1m49/49\u001b[0m \u001b[32m━━━━━━━━━━━━━━━━━━━━\u001b[0m\u001b[37m\u001b[0m \u001b[1m4s\u001b[0m 82ms/step - accuracy: 0.0244 - loss: 0.0049\n",
      "Epoch 80/300\n",
      "\u001b[1m49/49\u001b[0m \u001b[32m━━━━━━━━━━━━━━━━━━━━\u001b[0m\u001b[37m\u001b[0m \u001b[1m4s\u001b[0m 82ms/step - accuracy: 0.0314 - loss: 0.0051\n",
      "Epoch 81/300\n",
      "\u001b[1m49/49\u001b[0m \u001b[32m━━━━━━━━━━━━━━━━━━━━\u001b[0m\u001b[37m\u001b[0m \u001b[1m4s\u001b[0m 82ms/step - accuracy: 0.0225 - loss: 0.0050\n",
      "Epoch 82/300\n",
      "\u001b[1m49/49\u001b[0m \u001b[32m━━━━━━━━━━━━━━━━━━━━\u001b[0m\u001b[37m\u001b[0m \u001b[1m4s\u001b[0m 79ms/step - accuracy: 0.0216 - loss: 0.0053\n",
      "Epoch 83/300\n",
      "\u001b[1m49/49\u001b[0m \u001b[32m━━━━━━━━━━━━━━━━━━━━\u001b[0m\u001b[37m\u001b[0m \u001b[1m4s\u001b[0m 81ms/step - accuracy: 0.0256 - loss: 0.0052\n",
      "Epoch 84/300\n",
      "\u001b[1m49/49\u001b[0m \u001b[32m━━━━━━━━━━━━━━━━━━━━\u001b[0m\u001b[37m\u001b[0m \u001b[1m4s\u001b[0m 82ms/step - accuracy: 0.0292 - loss: 0.0048\n",
      "Epoch 85/300\n",
      "\u001b[1m49/49\u001b[0m \u001b[32m━━━━━━━━━━━━━━━━━━━━\u001b[0m\u001b[37m\u001b[0m \u001b[1m4s\u001b[0m 81ms/step - accuracy: 0.0258 - loss: 0.0049\n",
      "Epoch 86/300\n",
      "\u001b[1m49/49\u001b[0m \u001b[32m━━━━━━━━━━━━━━━━━━━━\u001b[0m\u001b[37m\u001b[0m \u001b[1m4s\u001b[0m 82ms/step - accuracy: 0.0282 - loss: 0.0047\n",
      "Epoch 87/300\n",
      "\u001b[1m49/49\u001b[0m \u001b[32m━━━━━━━━━━━━━━━━━━━━\u001b[0m\u001b[37m\u001b[0m \u001b[1m5s\u001b[0m 99ms/step - accuracy: 0.0239 - loss: 0.0045\n",
      "Epoch 88/300\n",
      "\u001b[1m49/49\u001b[0m \u001b[32m━━━━━━━━━━━━━━━━━━━━\u001b[0m\u001b[37m\u001b[0m \u001b[1m4s\u001b[0m 81ms/step - accuracy: 0.0267 - loss: 0.0047\n",
      "Epoch 89/300\n",
      "\u001b[1m49/49\u001b[0m \u001b[32m━━━━━━━━━━━━━━━━━━━━\u001b[0m\u001b[37m\u001b[0m \u001b[1m5s\u001b[0m 94ms/step - accuracy: 0.0268 - loss: 0.0050\n",
      "Epoch 90/300\n",
      "\u001b[1m49/49\u001b[0m \u001b[32m━━━━━━━━━━━━━━━━━━━━\u001b[0m\u001b[37m\u001b[0m \u001b[1m4s\u001b[0m 81ms/step - accuracy: 0.0222 - loss: 0.0050\n",
      "Epoch 91/300\n",
      "\u001b[1m49/49\u001b[0m \u001b[32m━━━━━━━━━━━━━━━━━━━━\u001b[0m\u001b[37m\u001b[0m \u001b[1m4s\u001b[0m 76ms/step - accuracy: 0.0287 - loss: 0.0049\n",
      "Epoch 92/300\n",
      "\u001b[1m49/49\u001b[0m \u001b[32m━━━━━━━━━━━━━━━━━━━━\u001b[0m\u001b[37m\u001b[0m \u001b[1m4s\u001b[0m 80ms/step - accuracy: 0.0194 - loss: 0.0048\n",
      "Epoch 93/300\n",
      "\u001b[1m49/49\u001b[0m \u001b[32m━━━━━━━━━━━━━━━━━━━━\u001b[0m\u001b[37m\u001b[0m \u001b[1m4s\u001b[0m 79ms/step - accuracy: 0.0242 - loss: 0.0049\n",
      "Epoch 94/300\n",
      "\u001b[1m49/49\u001b[0m \u001b[32m━━━━━━━━━━━━━━━━━━━━\u001b[0m\u001b[37m\u001b[0m \u001b[1m4s\u001b[0m 78ms/step - accuracy: 0.0227 - loss: 0.0047\n",
      "Epoch 95/300\n",
      "\u001b[1m49/49\u001b[0m \u001b[32m━━━━━━━━━━━━━━━━━━━━\u001b[0m\u001b[37m\u001b[0m \u001b[1m4s\u001b[0m 78ms/step - accuracy: 0.0174 - loss: 0.0049\n",
      "Epoch 96/300\n",
      "\u001b[1m49/49\u001b[0m \u001b[32m━━━━━━━━━━━━━━━━━━━━\u001b[0m\u001b[37m\u001b[0m \u001b[1m4s\u001b[0m 79ms/step - accuracy: 0.0259 - loss: 0.0052\n",
      "Epoch 97/300\n",
      "\u001b[1m49/49\u001b[0m \u001b[32m━━━━━━━━━━━━━━━━━━━━\u001b[0m\u001b[37m\u001b[0m \u001b[1m4s\u001b[0m 78ms/step - accuracy: 0.0272 - loss: 0.0046\n",
      "Epoch 98/300\n",
      "\u001b[1m49/49\u001b[0m \u001b[32m━━━━━━━━━━━━━━━━━━━━\u001b[0m\u001b[37m\u001b[0m \u001b[1m4s\u001b[0m 80ms/step - accuracy: 0.0249 - loss: 0.0050\n",
      "Epoch 99/300\n",
      "\u001b[1m49/49\u001b[0m \u001b[32m━━━━━━━━━━━━━━━━━━━━\u001b[0m\u001b[37m\u001b[0m \u001b[1m4s\u001b[0m 81ms/step - accuracy: 0.0274 - loss: 0.0050\n",
      "Epoch 100/300\n",
      "\u001b[1m49/49\u001b[0m \u001b[32m━━━━━━━━━━━━━━━━━━━━\u001b[0m\u001b[37m\u001b[0m \u001b[1m4s\u001b[0m 79ms/step - accuracy: 0.0268 - loss: 0.0048\n",
      "Epoch 101/300\n",
      "\u001b[1m49/49\u001b[0m \u001b[32m━━━━━━━━━━━━━━━━━━━━\u001b[0m\u001b[37m\u001b[0m \u001b[1m4s\u001b[0m 80ms/step - accuracy: 0.0293 - loss: 0.0049\n",
      "Epoch 102/300\n",
      "\u001b[1m49/49\u001b[0m \u001b[32m━━━━━━━━━━━━━━━━━━━━\u001b[0m\u001b[37m\u001b[0m \u001b[1m4s\u001b[0m 77ms/step - accuracy: 0.0273 - loss: 0.0049\n",
      "Epoch 103/300\n",
      "\u001b[1m49/49\u001b[0m \u001b[32m━━━━━━━━━━━━━━━━━━━━\u001b[0m\u001b[37m\u001b[0m \u001b[1m4s\u001b[0m 76ms/step - accuracy: 0.0248 - loss: 0.0051\n",
      "Epoch 104/300\n",
      "\u001b[1m49/49\u001b[0m \u001b[32m━━━━━━━━━━━━━━━━━━━━\u001b[0m\u001b[37m\u001b[0m \u001b[1m4s\u001b[0m 79ms/step - accuracy: 0.0222 - loss: 0.0048\n",
      "Epoch 105/300\n",
      "\u001b[1m49/49\u001b[0m \u001b[32m━━━━━━━━━━━━━━━━━━━━\u001b[0m\u001b[37m\u001b[0m \u001b[1m4s\u001b[0m 79ms/step - accuracy: 0.0280 - loss: 0.0047\n",
      "Epoch 106/300\n",
      "\u001b[1m49/49\u001b[0m \u001b[32m━━━━━━━━━━━━━━━━━━━━\u001b[0m\u001b[37m\u001b[0m \u001b[1m4s\u001b[0m 76ms/step - accuracy: 0.0248 - loss: 0.0051\n",
      "Epoch 107/300\n",
      "\u001b[1m49/49\u001b[0m \u001b[32m━━━━━━━━━━━━━━━━━━━━\u001b[0m\u001b[37m\u001b[0m \u001b[1m4s\u001b[0m 78ms/step - accuracy: 0.0301 - loss: 0.0047\n",
      "Epoch 108/300\n",
      "\u001b[1m49/49\u001b[0m \u001b[32m━━━━━━━━━━━━━━━━━━━━\u001b[0m\u001b[37m\u001b[0m \u001b[1m4s\u001b[0m 78ms/step - accuracy: 0.0215 - loss: 0.0049\n",
      "Epoch 109/300\n",
      "\u001b[1m49/49\u001b[0m \u001b[32m━━━━━━━━━━━━━━━━━━━━\u001b[0m\u001b[37m\u001b[0m \u001b[1m4s\u001b[0m 78ms/step - accuracy: 0.0233 - loss: 0.0052\n",
      "Epoch 110/300\n",
      "\u001b[1m49/49\u001b[0m \u001b[32m━━━━━━━━━━━━━━━━━━━━\u001b[0m\u001b[37m\u001b[0m \u001b[1m4s\u001b[0m 78ms/step - accuracy: 0.0257 - loss: 0.0048\n",
      "Epoch 111/300\n",
      "\u001b[1m49/49\u001b[0m \u001b[32m━━━━━━━━━━━━━━━━━━━━\u001b[0m\u001b[37m\u001b[0m \u001b[1m4s\u001b[0m 77ms/step - accuracy: 0.0247 - loss: 0.0047\n",
      "Epoch 112/300\n",
      "\u001b[1m49/49\u001b[0m \u001b[32m━━━━━━━━━━━━━━━━━━━━\u001b[0m\u001b[37m\u001b[0m \u001b[1m4s\u001b[0m 78ms/step - accuracy: 0.0272 - loss: 0.0052\n",
      "Epoch 113/300\n",
      "\u001b[1m49/49\u001b[0m \u001b[32m━━━━━━━━━━━━━━━━━━━━\u001b[0m\u001b[37m\u001b[0m \u001b[1m4s\u001b[0m 77ms/step - accuracy: 0.0318 - loss: 0.0049\n",
      "Epoch 114/300\n",
      "\u001b[1m49/49\u001b[0m \u001b[32m━━━━━━━━━━━━━━━━━━━━\u001b[0m\u001b[37m\u001b[0m \u001b[1m4s\u001b[0m 77ms/step - accuracy: 0.0271 - loss: 0.0053\n",
      "Epoch 115/300\n",
      "\u001b[1m49/49\u001b[0m \u001b[32m━━━━━━━━━━━━━━━━━━━━\u001b[0m\u001b[37m\u001b[0m \u001b[1m4s\u001b[0m 82ms/step - accuracy: 0.0294 - loss: 0.0049\n",
      "Epoch 116/300\n",
      "\u001b[1m49/49\u001b[0m \u001b[32m━━━━━━━━━━━━━━━━━━━━\u001b[0m\u001b[37m\u001b[0m \u001b[1m4s\u001b[0m 76ms/step - accuracy: 0.0238 - loss: 0.0049\n",
      "Epoch 117/300\n",
      "\u001b[1m49/49\u001b[0m \u001b[32m━━━━━━━━━━━━━━━━━━━━\u001b[0m\u001b[37m\u001b[0m \u001b[1m4s\u001b[0m 78ms/step - accuracy: 0.0311 - loss: 0.0050\n",
      "Epoch 118/300\n",
      "\u001b[1m49/49\u001b[0m \u001b[32m━━━━━━━━━━━━━━━━━━━━\u001b[0m\u001b[37m\u001b[0m \u001b[1m4s\u001b[0m 87ms/step - accuracy: 0.0222 - loss: 0.0048\n",
      "Epoch 119/300\n",
      "\u001b[1m49/49\u001b[0m \u001b[32m━━━━━━━━━━━━━━━━━━━━\u001b[0m\u001b[37m\u001b[0m \u001b[1m4s\u001b[0m 77ms/step - accuracy: 0.0286 - loss: 0.0050\n",
      "Epoch 120/300\n",
      "\u001b[1m49/49\u001b[0m \u001b[32m━━━━━━━━━━━━━━━━━━━━\u001b[0m\u001b[37m\u001b[0m \u001b[1m5s\u001b[0m 102ms/step - accuracy: 0.0261 - loss: 0.0049\n",
      "Epoch 121/300\n",
      "\u001b[1m49/49\u001b[0m \u001b[32m━━━━━━━━━━━━━━━━━━━━\u001b[0m\u001b[37m\u001b[0m \u001b[1m4s\u001b[0m 82ms/step - accuracy: 0.0239 - loss: 0.0048\n",
      "Epoch 122/300\n",
      "\u001b[1m49/49\u001b[0m \u001b[32m━━━━━━━━━━━━━━━━━━━━\u001b[0m\u001b[37m\u001b[0m \u001b[1m4s\u001b[0m 83ms/step - accuracy: 0.0267 - loss: 0.0047\n",
      "Epoch 123/300\n",
      "\u001b[1m49/49\u001b[0m \u001b[32m━━━━━━━━━━━━━━━━━━━━\u001b[0m\u001b[37m\u001b[0m \u001b[1m4s\u001b[0m 89ms/step - accuracy: 0.0256 - loss: 0.0049\n",
      "Epoch 124/300\n",
      "\u001b[1m49/49\u001b[0m \u001b[32m━━━━━━━━━━━━━━━━━━━━\u001b[0m\u001b[37m\u001b[0m \u001b[1m4s\u001b[0m 85ms/step - accuracy: 0.0268 - loss: 0.0048\n",
      "Epoch 125/300\n",
      "\u001b[1m49/49\u001b[0m \u001b[32m━━━━━━━━━━━━━━━━━━━━\u001b[0m\u001b[37m\u001b[0m \u001b[1m4s\u001b[0m 82ms/step - accuracy: 0.0290 - loss: 0.0049\n",
      "Epoch 126/300\n",
      "\u001b[1m49/49\u001b[0m \u001b[32m━━━━━━━━━━━━━━━━━━━━\u001b[0m\u001b[37m\u001b[0m \u001b[1m4s\u001b[0m 82ms/step - accuracy: 0.0247 - loss: 0.0046\n",
      "Epoch 127/300\n",
      "\u001b[1m49/49\u001b[0m \u001b[32m━━━━━━━━━━━━━━━━━━━━\u001b[0m\u001b[37m\u001b[0m \u001b[1m4s\u001b[0m 82ms/step - accuracy: 0.0244 - loss: 0.0048\n",
      "Epoch 128/300\n",
      "\u001b[1m49/49\u001b[0m \u001b[32m━━━━━━━━━━━━━━━━━━━━\u001b[0m\u001b[37m\u001b[0m \u001b[1m4s\u001b[0m 84ms/step - accuracy: 0.0289 - loss: 0.0048\n",
      "Epoch 129/300\n",
      "\u001b[1m49/49\u001b[0m \u001b[32m━━━━━━━━━━━━━━━━━━━━\u001b[0m\u001b[37m\u001b[0m \u001b[1m4s\u001b[0m 81ms/step - accuracy: 0.0257 - loss: 0.0050\n",
      "Epoch 130/300\n",
      "\u001b[1m49/49\u001b[0m \u001b[32m━━━━━━━━━━━━━━━━━━━━\u001b[0m\u001b[37m\u001b[0m \u001b[1m4s\u001b[0m 80ms/step - accuracy: 0.0255 - loss: 0.0050\n",
      "Epoch 131/300\n",
      "\u001b[1m49/49\u001b[0m \u001b[32m━━━━━━━━━━━━━━━━━━━━\u001b[0m\u001b[37m\u001b[0m \u001b[1m4s\u001b[0m 80ms/step - accuracy: 0.0255 - loss: 0.0049\n",
      "Epoch 132/300\n",
      "\u001b[1m49/49\u001b[0m \u001b[32m━━━━━━━━━━━━━━━━━━━━\u001b[0m\u001b[37m\u001b[0m \u001b[1m4s\u001b[0m 80ms/step - accuracy: 0.0259 - loss: 0.0049\n",
      "Epoch 133/300\n",
      "\u001b[1m49/49\u001b[0m \u001b[32m━━━━━━━━━━━━━━━━━━━━\u001b[0m\u001b[37m\u001b[0m \u001b[1m5s\u001b[0m 102ms/step - accuracy: 0.0240 - loss: 0.0051\n",
      "Epoch 134/300\n",
      "\u001b[1m49/49\u001b[0m \u001b[32m━━━━━━━━━━━━━━━━━━━━\u001b[0m\u001b[37m\u001b[0m \u001b[1m4s\u001b[0m 89ms/step - accuracy: 0.0300 - loss: 0.0048\n",
      "Epoch 135/300\n",
      "\u001b[1m49/49\u001b[0m \u001b[32m━━━━━━━━━━━━━━━━━━━━\u001b[0m\u001b[37m\u001b[0m \u001b[1m5s\u001b[0m 100ms/step - accuracy: 0.0266 - loss: 0.0045\n",
      "Epoch 136/300\n",
      "\u001b[1m49/49\u001b[0m \u001b[32m━━━━━━━━━━━━━━━━━━━━\u001b[0m\u001b[37m\u001b[0m \u001b[1m5s\u001b[0m 104ms/step - accuracy: 0.0250 - loss: 0.0048\n",
      "Epoch 137/300\n",
      "\u001b[1m49/49\u001b[0m \u001b[32m━━━━━━━━━━━━━━━━━━━━\u001b[0m\u001b[37m\u001b[0m \u001b[1m5s\u001b[0m 92ms/step - accuracy: 0.0230 - loss: 0.0047\n",
      "Epoch 138/300\n",
      "\u001b[1m49/49\u001b[0m \u001b[32m━━━━━━━━━━━━━━━━━━━━\u001b[0m\u001b[37m\u001b[0m \u001b[1m5s\u001b[0m 93ms/step - accuracy: 0.0292 - loss: 0.0052\n",
      "Epoch 139/300\n",
      "\u001b[1m49/49\u001b[0m \u001b[32m━━━━━━━━━━━━━━━━━━━━\u001b[0m\u001b[37m\u001b[0m \u001b[1m5s\u001b[0m 92ms/step - accuracy: 0.0284 - loss: 0.0048\n",
      "Epoch 140/300\n",
      "\u001b[1m49/49\u001b[0m \u001b[32m━━━━━━━━━━━━━━━━━━━━\u001b[0m\u001b[37m\u001b[0m \u001b[1m5s\u001b[0m 93ms/step - accuracy: 0.0258 - loss: 0.0048\n",
      "Epoch 141/300\n",
      "\u001b[1m49/49\u001b[0m \u001b[32m━━━━━━━━━━━━━━━━━━━━\u001b[0m\u001b[37m\u001b[0m \u001b[1m4s\u001b[0m 90ms/step - accuracy: 0.0264 - loss: 0.0048\n",
      "Epoch 142/300\n",
      "\u001b[1m49/49\u001b[0m \u001b[32m━━━━━━━━━━━━━━━━━━━━\u001b[0m\u001b[37m\u001b[0m \u001b[1m4s\u001b[0m 88ms/step - accuracy: 0.0273 - loss: 0.0047\n",
      "Epoch 143/300\n",
      "\u001b[1m49/49\u001b[0m \u001b[32m━━━━━━━━━━━━━━━━━━━━\u001b[0m\u001b[37m\u001b[0m \u001b[1m4s\u001b[0m 87ms/step - accuracy: 0.0225 - loss: 0.0046\n",
      "Epoch 144/300\n",
      "\u001b[1m49/49\u001b[0m \u001b[32m━━━━━━━━━━━━━━━━━━━━\u001b[0m\u001b[37m\u001b[0m \u001b[1m5s\u001b[0m 100ms/step - accuracy: 0.0301 - loss: 0.0050\n",
      "Epoch 145/300\n",
      "\u001b[1m49/49\u001b[0m \u001b[32m━━━━━━━━━━━━━━━━━━━━\u001b[0m\u001b[37m\u001b[0m \u001b[1m5s\u001b[0m 92ms/step - accuracy: 0.0253 - loss: 0.0048\n",
      "Epoch 146/300\n",
      "\u001b[1m49/49\u001b[0m \u001b[32m━━━━━━━━━━━━━━━━━━━━\u001b[0m\u001b[37m\u001b[0m \u001b[1m4s\u001b[0m 87ms/step - accuracy: 0.0287 - loss: 0.0050\n",
      "Epoch 147/300\n",
      "\u001b[1m49/49\u001b[0m \u001b[32m━━━━━━━━━━━━━━━━━━━━\u001b[0m\u001b[37m\u001b[0m \u001b[1m4s\u001b[0m 85ms/step - accuracy: 0.0235 - loss: 0.0048\n",
      "Epoch 148/300\n",
      "\u001b[1m49/49\u001b[0m \u001b[32m━━━━━━━━━━━━━━━━━━━━\u001b[0m\u001b[37m\u001b[0m \u001b[1m4s\u001b[0m 84ms/step - accuracy: 0.0269 - loss: 0.0047\n",
      "Epoch 149/300\n",
      "\u001b[1m49/49\u001b[0m \u001b[32m━━━━━━━━━━━━━━━━━━━━\u001b[0m\u001b[37m\u001b[0m \u001b[1m4s\u001b[0m 87ms/step - accuracy: 0.0262 - loss: 0.0049\n",
      "Epoch 150/300\n",
      "\u001b[1m49/49\u001b[0m \u001b[32m━━━━━━━━━━━━━━━━━━━━\u001b[0m\u001b[37m\u001b[0m \u001b[1m5s\u001b[0m 104ms/step - accuracy: 0.0269 - loss: 0.0048\n",
      "Epoch 151/300\n",
      "\u001b[1m49/49\u001b[0m \u001b[32m━━━━━━━━━━━━━━━━━━━━\u001b[0m\u001b[37m\u001b[0m \u001b[1m5s\u001b[0m 92ms/step - accuracy: 0.0242 - loss: 0.0047\n",
      "Epoch 152/300\n",
      "\u001b[1m49/49\u001b[0m \u001b[32m━━━━━━━━━━━━━━━━━━━━\u001b[0m\u001b[37m\u001b[0m \u001b[1m4s\u001b[0m 89ms/step - accuracy: 0.0239 - loss: 0.0047\n",
      "Epoch 153/300\n",
      "\u001b[1m49/49\u001b[0m \u001b[32m━━━━━━━━━━━━━━━━━━━━\u001b[0m\u001b[37m\u001b[0m \u001b[1m4s\u001b[0m 90ms/step - accuracy: 0.0230 - loss: 0.0049\n",
      "Epoch 154/300\n",
      "\u001b[1m49/49\u001b[0m \u001b[32m━━━━━━━━━━━━━━━━━━━━\u001b[0m\u001b[37m\u001b[0m \u001b[1m4s\u001b[0m 89ms/step - accuracy: 0.0267 - loss: 0.0048\n",
      "Epoch 155/300\n",
      "\u001b[1m49/49\u001b[0m \u001b[32m━━━━━━━━━━━━━━━━━━━━\u001b[0m\u001b[37m\u001b[0m \u001b[1m5s\u001b[0m 95ms/step - accuracy: 0.0277 - loss: 0.0045\n",
      "Epoch 156/300\n",
      "\u001b[1m49/49\u001b[0m \u001b[32m━━━━━━━━━━━━━━━━━━━━\u001b[0m\u001b[37m\u001b[0m \u001b[1m4s\u001b[0m 90ms/step - accuracy: 0.0294 - loss: 0.0049\n",
      "Epoch 157/300\n",
      "\u001b[1m49/49\u001b[0m \u001b[32m━━━━━━━━━━━━━━━━━━━━\u001b[0m\u001b[37m\u001b[0m \u001b[1m4s\u001b[0m 91ms/step - accuracy: 0.0251 - loss: 0.0049\n",
      "Epoch 158/300\n",
      "\u001b[1m49/49\u001b[0m \u001b[32m━━━━━━━━━━━━━━━━━━━━\u001b[0m\u001b[37m\u001b[0m \u001b[1m5s\u001b[0m 91ms/step - accuracy: 0.0243 - loss: 0.0049\n",
      "Epoch 159/300\n",
      "\u001b[1m49/49\u001b[0m \u001b[32m━━━━━━━━━━━━━━━━━━━━\u001b[0m\u001b[37m\u001b[0m \u001b[1m4s\u001b[0m 89ms/step - accuracy: 0.0307 - loss: 0.0046\n",
      "Epoch 160/300\n",
      "\u001b[1m49/49\u001b[0m \u001b[32m━━━━━━━━━━━━━━━━━━━━\u001b[0m\u001b[37m\u001b[0m \u001b[1m4s\u001b[0m 88ms/step - accuracy: 0.0253 - loss: 0.0052\n",
      "Epoch 161/300\n",
      "\u001b[1m49/49\u001b[0m \u001b[32m━━━━━━━━━━━━━━━━━━━━\u001b[0m\u001b[37m\u001b[0m \u001b[1m4s\u001b[0m 87ms/step - accuracy: 0.0250 - loss: 0.0052\n",
      "Epoch 162/300\n",
      "\u001b[1m49/49\u001b[0m \u001b[32m━━━━━━━━━━━━━━━━━━━━\u001b[0m\u001b[37m\u001b[0m \u001b[1m4s\u001b[0m 88ms/step - accuracy: 0.0290 - loss: 0.0052\n",
      "Epoch 163/300\n",
      "\u001b[1m49/49\u001b[0m \u001b[32m━━━━━━━━━━━━━━━━━━━━\u001b[0m\u001b[37m\u001b[0m \u001b[1m6s\u001b[0m 116ms/step - accuracy: 0.0280 - loss: 0.0049\n",
      "Epoch 164/300\n",
      "\u001b[1m49/49\u001b[0m \u001b[32m━━━━━━━━━━━━━━━━━━━━\u001b[0m\u001b[37m\u001b[0m \u001b[1m5s\u001b[0m 99ms/step - accuracy: 0.0255 - loss: 0.0051\n",
      "Epoch 165/300\n",
      "\u001b[1m49/49\u001b[0m \u001b[32m━━━━━━━━━━━━━━━━━━━━\u001b[0m\u001b[37m\u001b[0m \u001b[1m5s\u001b[0m 98ms/step - accuracy: 0.0281 - loss: 0.0047\n",
      "Epoch 166/300\n",
      "\u001b[1m49/49\u001b[0m \u001b[32m━━━━━━━━━━━━━━━━━━━━\u001b[0m\u001b[37m\u001b[0m \u001b[1m4s\u001b[0m 89ms/step - accuracy: 0.0292 - loss: 0.0048\n",
      "Epoch 167/300\n",
      "\u001b[1m49/49\u001b[0m \u001b[32m━━━━━━━━━━━━━━━━━━━━\u001b[0m\u001b[37m\u001b[0m \u001b[1m4s\u001b[0m 89ms/step - accuracy: 0.0272 - loss: 0.0047\n",
      "Epoch 168/300\n",
      "\u001b[1m49/49\u001b[0m \u001b[32m━━━━━━━━━━━━━━━━━━━━\u001b[0m\u001b[37m\u001b[0m \u001b[1m4s\u001b[0m 89ms/step - accuracy: 0.0265 - loss: 0.0050\n",
      "Epoch 169/300\n",
      "\u001b[1m49/49\u001b[0m \u001b[32m━━━━━━━━━━━━━━━━━━━━\u001b[0m\u001b[37m\u001b[0m \u001b[1m4s\u001b[0m 90ms/step - accuracy: 0.0258 - loss: 0.0047\n",
      "Epoch 170/300\n",
      "\u001b[1m49/49\u001b[0m \u001b[32m━━━━━━━━━━━━━━━━━━━━\u001b[0m\u001b[37m\u001b[0m \u001b[1m4s\u001b[0m 88ms/step - accuracy: 0.0225 - loss: 0.0049\n",
      "Epoch 171/300\n",
      "\u001b[1m49/49\u001b[0m \u001b[32m━━━━━━━━━━━━━━━━━━━━\u001b[0m\u001b[37m\u001b[0m \u001b[1m4s\u001b[0m 89ms/step - accuracy: 0.0279 - loss: 0.0047\n",
      "Epoch 172/300\n",
      "\u001b[1m49/49\u001b[0m \u001b[32m━━━━━━━━━━━━━━━━━━━━\u001b[0m\u001b[37m\u001b[0m \u001b[1m4s\u001b[0m 90ms/step - accuracy: 0.0250 - loss: 0.0048\n",
      "Epoch 173/300\n",
      "\u001b[1m49/49\u001b[0m \u001b[32m━━━━━━━━━━━━━━━━━━━━\u001b[0m\u001b[37m\u001b[0m \u001b[1m4s\u001b[0m 89ms/step - accuracy: 0.0285 - loss: 0.0051\n",
      "Epoch 174/300\n",
      "\u001b[1m49/49\u001b[0m \u001b[32m━━━━━━━━━━━━━━━━━━━━\u001b[0m\u001b[37m\u001b[0m \u001b[1m4s\u001b[0m 90ms/step - accuracy: 0.0259 - loss: 0.0050\n",
      "Epoch 175/300\n",
      "\u001b[1m49/49\u001b[0m \u001b[32m━━━━━━━━━━━━━━━━━━━━\u001b[0m\u001b[37m\u001b[0m \u001b[1m4s\u001b[0m 89ms/step - accuracy: 0.0267 - loss: 0.0049\n",
      "Epoch 176/300\n",
      "\u001b[1m49/49\u001b[0m \u001b[32m━━━━━━━━━━━━━━━━━━━━\u001b[0m\u001b[37m\u001b[0m \u001b[1m5s\u001b[0m 106ms/step - accuracy: 0.0272 - loss: 0.0050\n",
      "Epoch 177/300\n",
      "\u001b[1m49/49\u001b[0m \u001b[32m━━━━━━━━━━━━━━━━━━━━\u001b[0m\u001b[37m\u001b[0m \u001b[1m4s\u001b[0m 86ms/step - accuracy: 0.0211 - loss: 0.0048\n",
      "Epoch 178/300\n",
      "\u001b[1m49/49\u001b[0m \u001b[32m━━━━━━━━━━━━━━━━━━━━\u001b[0m\u001b[37m\u001b[0m \u001b[1m4s\u001b[0m 89ms/step - accuracy: 0.0257 - loss: 0.0047\n",
      "Epoch 179/300\n",
      "\u001b[1m49/49\u001b[0m \u001b[32m━━━━━━━━━━━━━━━━━━━━\u001b[0m\u001b[37m\u001b[0m \u001b[1m4s\u001b[0m 88ms/step - accuracy: 0.0271 - loss: 0.0053\n",
      "Epoch 180/300\n",
      "\u001b[1m49/49\u001b[0m \u001b[32m━━━━━━━━━━━━━━━━━━━━\u001b[0m\u001b[37m\u001b[0m \u001b[1m4s\u001b[0m 85ms/step - accuracy: 0.0235 - loss: 0.0048\n",
      "Epoch 181/300\n",
      "\u001b[1m49/49\u001b[0m \u001b[32m━━━━━━━━━━━━━━━━━━━━\u001b[0m\u001b[37m\u001b[0m \u001b[1m4s\u001b[0m 84ms/step - accuracy: 0.0227 - loss: 0.0049\n",
      "Epoch 182/300\n",
      "\u001b[1m49/49\u001b[0m \u001b[32m━━━━━━━━━━━━━━━━━━━━\u001b[0m\u001b[37m\u001b[0m \u001b[1m4s\u001b[0m 85ms/step - accuracy: 0.0259 - loss: 0.0046\n",
      "Epoch 183/300\n",
      "\u001b[1m49/49\u001b[0m \u001b[32m━━━━━━━━━━━━━━━━━━━━\u001b[0m\u001b[37m\u001b[0m \u001b[1m4s\u001b[0m 88ms/step - accuracy: 0.0249 - loss: 0.0048\n",
      "Epoch 184/300\n",
      "\u001b[1m49/49\u001b[0m \u001b[32m━━━━━━━━━━━━━━━━━━━━\u001b[0m\u001b[37m\u001b[0m \u001b[1m5s\u001b[0m 100ms/step - accuracy: 0.0188 - loss: 0.0049\n",
      "Epoch 185/300\n",
      "\u001b[1m49/49\u001b[0m \u001b[32m━━━━━━━━━━━━━━━━━━━━\u001b[0m\u001b[37m\u001b[0m \u001b[1m5s\u001b[0m 92ms/step - accuracy: 0.0296 - loss: 0.0046\n",
      "Epoch 186/300\n",
      "\u001b[1m49/49\u001b[0m \u001b[32m━━━━━━━━━━━━━━━━━━━━\u001b[0m\u001b[37m\u001b[0m \u001b[1m5s\u001b[0m 95ms/step - accuracy: 0.0233 - loss: 0.0046\n",
      "Epoch 187/300\n",
      "\u001b[1m49/49\u001b[0m \u001b[32m━━━━━━━━━━━━━━━━━━━━\u001b[0m\u001b[37m\u001b[0m \u001b[1m4s\u001b[0m 90ms/step - accuracy: 0.0290 - loss: 0.0046\n",
      "Epoch 188/300\n",
      "\u001b[1m49/49\u001b[0m \u001b[32m━━━━━━━━━━━━━━━━━━━━\u001b[0m\u001b[37m\u001b[0m \u001b[1m5s\u001b[0m 92ms/step - accuracy: 0.0270 - loss: 0.0046\n",
      "Epoch 189/300\n",
      "\u001b[1m49/49\u001b[0m \u001b[32m━━━━━━━━━━━━━━━━━━━━\u001b[0m\u001b[37m\u001b[0m \u001b[1m5s\u001b[0m 92ms/step - accuracy: 0.0291 - loss: 0.0048\n",
      "Epoch 190/300\n",
      "\u001b[1m49/49\u001b[0m \u001b[32m━━━━━━━━━━━━━━━━━━━━\u001b[0m\u001b[37m\u001b[0m \u001b[1m5s\u001b[0m 92ms/step - accuracy: 0.0257 - loss: 0.0048\n",
      "Epoch 191/300\n",
      "\u001b[1m49/49\u001b[0m \u001b[32m━━━━━━━━━━━━━━━━━━━━\u001b[0m\u001b[37m\u001b[0m \u001b[1m4s\u001b[0m 91ms/step - accuracy: 0.0315 - loss: 0.0049\n",
      "Epoch 192/300\n",
      "\u001b[1m49/49\u001b[0m \u001b[32m━━━━━━━━━━━━━━━━━━━━\u001b[0m\u001b[37m\u001b[0m \u001b[1m4s\u001b[0m 91ms/step - accuracy: 0.0284 - loss: 0.0046\n",
      "Epoch 193/300\n",
      "\u001b[1m49/49\u001b[0m \u001b[32m━━━━━━━━━━━━━━━━━━━━\u001b[0m\u001b[37m\u001b[0m \u001b[1m5s\u001b[0m 91ms/step - accuracy: 0.0255 - loss: 0.0049\n",
      "Epoch 194/300\n",
      "\u001b[1m49/49\u001b[0m \u001b[32m━━━━━━━━━━━━━━━━━━━━\u001b[0m\u001b[37m\u001b[0m \u001b[1m5s\u001b[0m 108ms/step - accuracy: 0.0235 - loss: 0.0045\n",
      "Epoch 195/300\n",
      "\u001b[1m49/49\u001b[0m \u001b[32m━━━━━━━━━━━━━━━━━━━━\u001b[0m\u001b[37m\u001b[0m \u001b[1m4s\u001b[0m 90ms/step - accuracy: 0.0261 - loss: 0.0052\n",
      "Epoch 196/300\n",
      "\u001b[1m49/49\u001b[0m \u001b[32m━━━━━━━━━━━━━━━━━━━━\u001b[0m\u001b[37m\u001b[0m \u001b[1m4s\u001b[0m 89ms/step - accuracy: 0.0258 - loss: 0.0050\n",
      "Epoch 197/300\n",
      "\u001b[1m49/49\u001b[0m \u001b[32m━━━━━━━━━━━━━━━━━━━━\u001b[0m\u001b[37m\u001b[0m \u001b[1m4s\u001b[0m 87ms/step - accuracy: 0.0270 - loss: 0.0049\n",
      "Epoch 198/300\n",
      "\u001b[1m49/49\u001b[0m \u001b[32m━━━━━━━━━━━━━━━━━━━━\u001b[0m\u001b[37m\u001b[0m \u001b[1m4s\u001b[0m 92ms/step - accuracy: 0.0255 - loss: 0.0048\n",
      "Epoch 199/300\n",
      "\u001b[1m49/49\u001b[0m \u001b[32m━━━━━━━━━━━━━━━━━━━━\u001b[0m\u001b[37m\u001b[0m \u001b[1m4s\u001b[0m 86ms/step - accuracy: 0.0245 - loss: 0.0049\n",
      "Epoch 200/300\n",
      "\u001b[1m49/49\u001b[0m \u001b[32m━━━━━━━━━━━━━━━━━━━━\u001b[0m\u001b[37m\u001b[0m \u001b[1m4s\u001b[0m 88ms/step - accuracy: 0.0275 - loss: 0.0043\n",
      "Epoch 201/300\n",
      "\u001b[1m49/49\u001b[0m \u001b[32m━━━━━━━━━━━━━━━━━━━━\u001b[0m\u001b[37m\u001b[0m \u001b[1m4s\u001b[0m 91ms/step - accuracy: 0.0257 - loss: 0.0045\n",
      "Epoch 202/300\n",
      "\u001b[1m49/49\u001b[0m \u001b[32m━━━━━━━━━━━━━━━━━━━━\u001b[0m\u001b[37m\u001b[0m \u001b[1m4s\u001b[0m 86ms/step - accuracy: 0.0234 - loss: 0.0049\n",
      "Epoch 203/300\n",
      "\u001b[1m49/49\u001b[0m \u001b[32m━━━━━━━━━━━━━━━━━━━━\u001b[0m\u001b[37m\u001b[0m \u001b[1m4s\u001b[0m 88ms/step - accuracy: 0.0219 - loss: 0.0051\n",
      "Epoch 204/300\n",
      "\u001b[1m49/49\u001b[0m \u001b[32m━━━━━━━━━━━━━━━━━━━━\u001b[0m\u001b[37m\u001b[0m \u001b[1m4s\u001b[0m 87ms/step - accuracy: 0.0260 - loss: 0.0047\n",
      "Epoch 205/300\n",
      "\u001b[1m49/49\u001b[0m \u001b[32m━━━━━━━━━━━━━━━━━━━━\u001b[0m\u001b[37m\u001b[0m \u001b[1m4s\u001b[0m 88ms/step - accuracy: 0.0264 - loss: 0.0047\n",
      "Epoch 206/300\n",
      "\u001b[1m49/49\u001b[0m \u001b[32m━━━━━━━━━━━━━━━━━━━━\u001b[0m\u001b[37m\u001b[0m \u001b[1m4s\u001b[0m 85ms/step - accuracy: 0.0242 - loss: 0.0052\n",
      "Epoch 207/300\n",
      "\u001b[1m49/49\u001b[0m \u001b[32m━━━━━━━━━━━━━━━━━━━━\u001b[0m\u001b[37m\u001b[0m \u001b[1m4s\u001b[0m 92ms/step - accuracy: 0.0236 - loss: 0.0047\n",
      "Epoch 208/300\n",
      "\u001b[1m49/49\u001b[0m \u001b[32m━━━━━━━━━━━━━━━━━━━━\u001b[0m\u001b[37m\u001b[0m \u001b[1m4s\u001b[0m 88ms/step - accuracy: 0.0255 - loss: 0.0050\n",
      "Epoch 209/300\n",
      "\u001b[1m49/49\u001b[0m \u001b[32m━━━━━━━━━━━━━━━━━━━━\u001b[0m\u001b[37m\u001b[0m \u001b[1m4s\u001b[0m 86ms/step - accuracy: 0.0241 - loss: 0.0053\n",
      "Epoch 210/300\n",
      "\u001b[1m49/49\u001b[0m \u001b[32m━━━━━━━━━━━━━━━━━━━━\u001b[0m\u001b[37m\u001b[0m \u001b[1m5s\u001b[0m 94ms/step - accuracy: 0.0269 - loss: 0.0047\n",
      "Epoch 211/300\n",
      "\u001b[1m49/49\u001b[0m \u001b[32m━━━━━━━━━━━━━━━━━━━━\u001b[0m\u001b[37m\u001b[0m \u001b[1m5s\u001b[0m 112ms/step - accuracy: 0.0239 - loss: 0.0049\n",
      "Epoch 212/300\n",
      "\u001b[1m49/49\u001b[0m \u001b[32m━━━━━━━━━━━━━━━━━━━━\u001b[0m\u001b[37m\u001b[0m \u001b[1m5s\u001b[0m 104ms/step - accuracy: 0.0295 - loss: 0.0048\n",
      "Epoch 213/300\n",
      "\u001b[1m49/49\u001b[0m \u001b[32m━━━━━━━━━━━━━━━━━━━━\u001b[0m\u001b[37m\u001b[0m \u001b[1m5s\u001b[0m 93ms/step - accuracy: 0.0219 - loss: 0.0046\n",
      "Epoch 214/300\n",
      "\u001b[1m49/49\u001b[0m \u001b[32m━━━━━━━━━━━━━━━━━━━━\u001b[0m\u001b[37m\u001b[0m \u001b[1m5s\u001b[0m 92ms/step - accuracy: 0.0277 - loss: 0.0052\n",
      "Epoch 215/300\n",
      "\u001b[1m49/49\u001b[0m \u001b[32m━━━━━━━━━━━━━━━━━━━━\u001b[0m\u001b[37m\u001b[0m \u001b[1m5s\u001b[0m 91ms/step - accuracy: 0.0265 - loss: 0.0050\n",
      "Epoch 216/300\n",
      "\u001b[1m49/49\u001b[0m \u001b[32m━━━━━━━━━━━━━━━━━━━━\u001b[0m\u001b[37m\u001b[0m \u001b[1m5s\u001b[0m 92ms/step - accuracy: 0.0276 - loss: 0.0048\n",
      "Epoch 217/300\n",
      "\u001b[1m49/49\u001b[0m \u001b[32m━━━━━━━━━━━━━━━━━━━━\u001b[0m\u001b[37m\u001b[0m \u001b[1m5s\u001b[0m 97ms/step - accuracy: 0.0249 - loss: 0.0049\n",
      "Epoch 218/300\n",
      "\u001b[1m49/49\u001b[0m \u001b[32m━━━━━━━━━━━━━━━━━━━━\u001b[0m\u001b[37m\u001b[0m \u001b[1m5s\u001b[0m 94ms/step - accuracy: 0.0240 - loss: 0.0048\n",
      "Epoch 219/300\n",
      "\u001b[1m49/49\u001b[0m \u001b[32m━━━━━━━━━━━━━━━━━━━━\u001b[0m\u001b[37m\u001b[0m \u001b[1m5s\u001b[0m 104ms/step - accuracy: 0.0329 - loss: 0.0052\n",
      "Epoch 220/300\n",
      "\u001b[1m49/49\u001b[0m \u001b[32m━━━━━━━━━━━━━━━━━━━━\u001b[0m\u001b[37m\u001b[0m \u001b[1m4s\u001b[0m 87ms/step - accuracy: 0.0253 - loss: 0.0048\n",
      "Epoch 221/300\n",
      "\u001b[1m49/49\u001b[0m \u001b[32m━━━━━━━━━━━━━━━━━━━━\u001b[0m\u001b[37m\u001b[0m \u001b[1m4s\u001b[0m 86ms/step - accuracy: 0.0265 - loss: 0.0048\n",
      "Epoch 222/300\n",
      "\u001b[1m49/49\u001b[0m \u001b[32m━━━━━━━━━━━━━━━━━━━━\u001b[0m\u001b[37m\u001b[0m \u001b[1m5s\u001b[0m 98ms/step - accuracy: 0.0258 - loss: 0.0048\n",
      "Epoch 223/300\n",
      "\u001b[1m49/49\u001b[0m \u001b[32m━━━━━━━━━━━━━━━━━━━━\u001b[0m\u001b[37m\u001b[0m \u001b[1m5s\u001b[0m 92ms/step - accuracy: 0.0268 - loss: 0.0050\n",
      "Epoch 224/300\n",
      "\u001b[1m49/49\u001b[0m \u001b[32m━━━━━━━━━━━━━━━━━━━━\u001b[0m\u001b[37m\u001b[0m \u001b[1m5s\u001b[0m 92ms/step - accuracy: 0.0249 - loss: 0.0045\n",
      "Epoch 225/300\n",
      "\u001b[1m49/49\u001b[0m \u001b[32m━━━━━━━━━━━━━━━━━━━━\u001b[0m\u001b[37m\u001b[0m \u001b[1m5s\u001b[0m 94ms/step - accuracy: 0.0301 - loss: 0.0051\n",
      "Epoch 226/300\n",
      "\u001b[1m49/49\u001b[0m \u001b[32m━━━━━━━━━━━━━━━━━━━━\u001b[0m\u001b[37m\u001b[0m \u001b[1m5s\u001b[0m 93ms/step - accuracy: 0.0280 - loss: 0.0049\n",
      "Epoch 227/300\n",
      "\u001b[1m49/49\u001b[0m \u001b[32m━━━━━━━━━━━━━━━━━━━━\u001b[0m\u001b[37m\u001b[0m \u001b[1m5s\u001b[0m 92ms/step - accuracy: 0.0278 - loss: 0.0051\n",
      "Epoch 228/300\n",
      "\u001b[1m49/49\u001b[0m \u001b[32m━━━━━━━━━━━━━━━━━━━━\u001b[0m\u001b[37m\u001b[0m \u001b[1m5s\u001b[0m 94ms/step - accuracy: 0.0291 - loss: 0.0048\n",
      "Epoch 229/300\n",
      "\u001b[1m49/49\u001b[0m \u001b[32m━━━━━━━━━━━━━━━━━━━━\u001b[0m\u001b[37m\u001b[0m \u001b[1m5s\u001b[0m 93ms/step - accuracy: 0.0300 - loss: 0.0049\n",
      "Epoch 230/300\n",
      "\u001b[1m49/49\u001b[0m \u001b[32m━━━━━━━━━━━━━━━━━━━━\u001b[0m\u001b[37m\u001b[0m \u001b[1m5s\u001b[0m 94ms/step - accuracy: 0.0273 - loss: 0.0049\n",
      "Epoch 231/300\n",
      "\u001b[1m49/49\u001b[0m \u001b[32m━━━━━━━━━━━━━━━━━━━━\u001b[0m\u001b[37m\u001b[0m \u001b[1m5s\u001b[0m 99ms/step - accuracy: 0.0233 - loss: 0.0045\n",
      "Epoch 232/300\n",
      "\u001b[1m49/49\u001b[0m \u001b[32m━━━━━━━━━━━━━━━━━━━━\u001b[0m\u001b[37m\u001b[0m \u001b[1m5s\u001b[0m 92ms/step - accuracy: 0.0228 - loss: 0.0047\n",
      "Epoch 233/300\n",
      "\u001b[1m49/49\u001b[0m \u001b[32m━━━━━━━━━━━━━━━━━━━━\u001b[0m\u001b[37m\u001b[0m \u001b[1m5s\u001b[0m 93ms/step - accuracy: 0.0282 - loss: 0.0047\n",
      "Epoch 234/300\n",
      "\u001b[1m49/49\u001b[0m \u001b[32m━━━━━━━━━━━━━━━━━━━━\u001b[0m\u001b[37m\u001b[0m \u001b[1m5s\u001b[0m 103ms/step - accuracy: 0.0258 - loss: 0.0043\n",
      "Epoch 235/300\n",
      "\u001b[1m49/49\u001b[0m \u001b[32m━━━━━━━━━━━━━━━━━━━━\u001b[0m\u001b[37m\u001b[0m \u001b[1m5s\u001b[0m 97ms/step - accuracy: 0.0304 - loss: 0.0050\n",
      "Epoch 236/300\n",
      "\u001b[1m49/49\u001b[0m \u001b[32m━━━━━━━━━━━━━━━━━━━━\u001b[0m\u001b[37m\u001b[0m \u001b[1m5s\u001b[0m 99ms/step - accuracy: 0.0275 - loss: 0.0045\n",
      "Epoch 237/300\n",
      "\u001b[1m49/49\u001b[0m \u001b[32m━━━━━━━━━━━━━━━━━━━━\u001b[0m\u001b[37m\u001b[0m \u001b[1m5s\u001b[0m 103ms/step - accuracy: 0.0228 - loss: 0.0050\n",
      "Epoch 238/300\n",
      "\u001b[1m49/49\u001b[0m \u001b[32m━━━━━━━━━━━━━━━━━━━━\u001b[0m\u001b[37m\u001b[0m \u001b[1m5s\u001b[0m 101ms/step - accuracy: 0.0234 - loss: 0.0049\n",
      "Epoch 239/300\n",
      "\u001b[1m49/49\u001b[0m \u001b[32m━━━━━━━━━━━━━━━━━━━━\u001b[0m\u001b[37m\u001b[0m \u001b[1m5s\u001b[0m 103ms/step - accuracy: 0.0275 - loss: 0.0049\n",
      "Epoch 240/300\n",
      "\u001b[1m49/49\u001b[0m \u001b[32m━━━━━━━━━━━━━━━━━━━━\u001b[0m\u001b[37m\u001b[0m \u001b[1m5s\u001b[0m 104ms/step - accuracy: 0.0244 - loss: 0.0051\n",
      "Epoch 241/300\n",
      "\u001b[1m49/49\u001b[0m \u001b[32m━━━━━━━━━━━━━━━━━━━━\u001b[0m\u001b[37m\u001b[0m \u001b[1m5s\u001b[0m 96ms/step - accuracy: 0.0286 - loss: 0.0047\n",
      "Epoch 242/300\n",
      "\u001b[1m49/49\u001b[0m \u001b[32m━━━━━━━━━━━━━━━━━━━━\u001b[0m\u001b[37m\u001b[0m \u001b[1m5s\u001b[0m 101ms/step - accuracy: 0.0293 - loss: 0.0048\n",
      "Epoch 243/300\n",
      "\u001b[1m49/49\u001b[0m \u001b[32m━━━━━━━━━━━━━━━━━━━━\u001b[0m\u001b[37m\u001b[0m \u001b[1m5s\u001b[0m 93ms/step - accuracy: 0.0226 - loss: 0.0049\n",
      "Epoch 244/300\n",
      "\u001b[1m49/49\u001b[0m \u001b[32m━━━━━━━━━━━━━━━━━━━━\u001b[0m\u001b[37m\u001b[0m \u001b[1m4s\u001b[0m 91ms/step - accuracy: 0.0241 - loss: 0.0047\n",
      "Epoch 245/300\n",
      "\u001b[1m49/49\u001b[0m \u001b[32m━━━━━━━━━━━━━━━━━━━━\u001b[0m\u001b[37m\u001b[0m \u001b[1m4s\u001b[0m 92ms/step - accuracy: 0.0265 - loss: 0.0049\n",
      "Epoch 246/300\n",
      "\u001b[1m49/49\u001b[0m \u001b[32m━━━━━━━━━━━━━━━━━━━━\u001b[0m\u001b[37m\u001b[0m \u001b[1m4s\u001b[0m 89ms/step - accuracy: 0.0236 - loss: 0.0046\n",
      "Epoch 247/300\n",
      "\u001b[1m49/49\u001b[0m \u001b[32m━━━━━━━━━━━━━━━━━━━━\u001b[0m\u001b[37m\u001b[0m \u001b[1m4s\u001b[0m 89ms/step - accuracy: 0.0214 - loss: 0.0053\n",
      "Epoch 248/300\n",
      "\u001b[1m49/49\u001b[0m \u001b[32m━━━━━━━━━━━━━━━━━━━━\u001b[0m\u001b[37m\u001b[0m \u001b[1m5s\u001b[0m 94ms/step - accuracy: 0.0291 - loss: 0.0043\n",
      "Epoch 249/300\n",
      "\u001b[1m49/49\u001b[0m \u001b[32m━━━━━━━━━━━━━━━━━━━━\u001b[0m\u001b[37m\u001b[0m \u001b[1m4s\u001b[0m 87ms/step - accuracy: 0.0212 - loss: 0.0049\n",
      "Epoch 250/300\n",
      "\u001b[1m49/49\u001b[0m \u001b[32m━━━━━━━━━━━━━━━━━━━━\u001b[0m\u001b[37m\u001b[0m \u001b[1m4s\u001b[0m 88ms/step - accuracy: 0.0302 - loss: 0.0046\n",
      "Epoch 251/300\n",
      "\u001b[1m49/49\u001b[0m \u001b[32m━━━━━━━━━━━━━━━━━━━━\u001b[0m\u001b[37m\u001b[0m \u001b[1m4s\u001b[0m 89ms/step - accuracy: 0.0260 - loss: 0.0048\n",
      "Epoch 252/300\n",
      "\u001b[1m49/49\u001b[0m \u001b[32m━━━━━━━━━━━━━━━━━━━━\u001b[0m\u001b[37m\u001b[0m \u001b[1m5s\u001b[0m 93ms/step - accuracy: 0.0258 - loss: 0.0047\n",
      "Epoch 253/300\n",
      "\u001b[1m49/49\u001b[0m \u001b[32m━━━━━━━━━━━━━━━━━━━━\u001b[0m\u001b[37m\u001b[0m \u001b[1m4s\u001b[0m 88ms/step - accuracy: 0.0291 - loss: 0.0048\n",
      "Epoch 254/300\n",
      "\u001b[1m49/49\u001b[0m \u001b[32m━━━━━━━━━━━━━━━━━━━━\u001b[0m\u001b[37m\u001b[0m \u001b[1m4s\u001b[0m 87ms/step - accuracy: 0.0278 - loss: 0.0051\n",
      "Epoch 255/300\n",
      "\u001b[1m49/49\u001b[0m \u001b[32m━━━━━━━━━━━━━━━━━━━━\u001b[0m\u001b[37m\u001b[0m \u001b[1m4s\u001b[0m 89ms/step - accuracy: 0.0259 - loss: 0.0048\n",
      "Epoch 256/300\n",
      "\u001b[1m49/49\u001b[0m \u001b[32m━━━━━━━━━━━━━━━━━━━━\u001b[0m\u001b[37m\u001b[0m \u001b[1m5s\u001b[0m 94ms/step - accuracy: 0.0252 - loss: 0.0048\n",
      "Epoch 257/300\n",
      "\u001b[1m49/49\u001b[0m \u001b[32m━━━━━━━━━━━━━━━━━━━━\u001b[0m\u001b[37m\u001b[0m \u001b[1m5s\u001b[0m 105ms/step - accuracy: 0.0303 - loss: 0.0047\n",
      "Epoch 258/300\n",
      "\u001b[1m49/49\u001b[0m \u001b[32m━━━━━━━━━━━━━━━━━━━━\u001b[0m\u001b[37m\u001b[0m \u001b[1m5s\u001b[0m 104ms/step - accuracy: 0.0218 - loss: 0.0049\n",
      "Epoch 259/300\n",
      "\u001b[1m49/49\u001b[0m \u001b[32m━━━━━━━━━━━━━━━━━━━━\u001b[0m\u001b[37m\u001b[0m \u001b[1m5s\u001b[0m 100ms/step - accuracy: 0.0254 - loss: 0.0049\n",
      "Epoch 260/300\n",
      "\u001b[1m49/49\u001b[0m \u001b[32m━━━━━━━━━━━━━━━━━━━━\u001b[0m\u001b[37m\u001b[0m \u001b[1m5s\u001b[0m 97ms/step - accuracy: 0.0221 - loss: 0.0045\n",
      "Epoch 261/300\n",
      "\u001b[1m49/49\u001b[0m \u001b[32m━━━━━━━━━━━━━━━━━━━━\u001b[0m\u001b[37m\u001b[0m \u001b[1m5s\u001b[0m 102ms/step - accuracy: 0.0267 - loss: 0.0045\n",
      "Epoch 262/300\n",
      "\u001b[1m49/49\u001b[0m \u001b[32m━━━━━━━━━━━━━━━━━━━━\u001b[0m\u001b[37m\u001b[0m \u001b[1m5s\u001b[0m 92ms/step - accuracy: 0.0255 - loss: 0.0046\n",
      "Epoch 263/300\n",
      "\u001b[1m49/49\u001b[0m \u001b[32m━━━━━━━━━━━━━━━━━━━━\u001b[0m\u001b[37m\u001b[0m \u001b[1m5s\u001b[0m 110ms/step - accuracy: 0.0249 - loss: 0.0047\n",
      "Epoch 264/300\n",
      "\u001b[1m49/49\u001b[0m \u001b[32m━━━━━━━━━━━━━━━━━━━━\u001b[0m\u001b[37m\u001b[0m \u001b[1m5s\u001b[0m 102ms/step - accuracy: 0.0295 - loss: 0.0049\n",
      "Epoch 265/300\n",
      "\u001b[1m49/49\u001b[0m \u001b[32m━━━━━━━━━━━━━━━━━━━━\u001b[0m\u001b[37m\u001b[0m \u001b[1m5s\u001b[0m 98ms/step - accuracy: 0.0237 - loss: 0.0050\n",
      "Epoch 266/300\n",
      "\u001b[1m49/49\u001b[0m \u001b[32m━━━━━━━━━━━━━━━━━━━━\u001b[0m\u001b[37m\u001b[0m \u001b[1m5s\u001b[0m 98ms/step - accuracy: 0.0291 - loss: 0.0049\n",
      "Epoch 267/300\n",
      "\u001b[1m49/49\u001b[0m \u001b[32m━━━━━━━━━━━━━━━━━━━━\u001b[0m\u001b[37m\u001b[0m \u001b[1m5s\u001b[0m 97ms/step - accuracy: 0.0296 - loss: 0.0051\n",
      "Epoch 268/300\n",
      "\u001b[1m49/49\u001b[0m \u001b[32m━━━━━━━━━━━━━━━━━━━━\u001b[0m\u001b[37m\u001b[0m \u001b[1m5s\u001b[0m 108ms/step - accuracy: 0.0314 - loss: 0.0048\n",
      "Epoch 269/300\n",
      "\u001b[1m49/49\u001b[0m \u001b[32m━━━━━━━━━━━━━━━━━━━━\u001b[0m\u001b[37m\u001b[0m \u001b[1m4s\u001b[0m 89ms/step - accuracy: 0.0248 - loss: 0.0045\n",
      "Epoch 270/300\n",
      "\u001b[1m49/49\u001b[0m \u001b[32m━━━━━━━━━━━━━━━━━━━━\u001b[0m\u001b[37m\u001b[0m \u001b[1m4s\u001b[0m 87ms/step - accuracy: 0.0284 - loss: 0.0046\n",
      "Epoch 271/300\n",
      "\u001b[1m49/49\u001b[0m \u001b[32m━━━━━━━━━━━━━━━━━━━━\u001b[0m\u001b[37m\u001b[0m \u001b[1m4s\u001b[0m 86ms/step - accuracy: 0.0235 - loss: 0.0051\n",
      "Epoch 272/300\n",
      "\u001b[1m49/49\u001b[0m \u001b[32m━━━━━━━━━━━━━━━━━━━━\u001b[0m\u001b[37m\u001b[0m \u001b[1m5s\u001b[0m 110ms/step - accuracy: 0.0271 - loss: 0.0046\n",
      "Epoch 273/300\n",
      "\u001b[1m49/49\u001b[0m \u001b[32m━━━━━━━━━━━━━━━━━━━━\u001b[0m\u001b[37m\u001b[0m \u001b[1m5s\u001b[0m 97ms/step - accuracy: 0.0266 - loss: 0.0048\n",
      "Epoch 274/300\n",
      "\u001b[1m49/49\u001b[0m \u001b[32m━━━━━━━━━━━━━━━━━━━━\u001b[0m\u001b[37m\u001b[0m \u001b[1m4s\u001b[0m 89ms/step - accuracy: 0.0276 - loss: 0.0050\n",
      "Epoch 275/300\n",
      "\u001b[1m49/49\u001b[0m \u001b[32m━━━━━━━━━━━━━━━━━━━━\u001b[0m\u001b[37m\u001b[0m \u001b[1m5s\u001b[0m 96ms/step - accuracy: 0.0322 - loss: 0.0046\n",
      "Epoch 276/300\n",
      "\u001b[1m49/49\u001b[0m \u001b[32m━━━━━━━━━━━━━━━━━━━━\u001b[0m\u001b[37m\u001b[0m \u001b[1m5s\u001b[0m 96ms/step - accuracy: 0.0247 - loss: 0.0048\n",
      "Epoch 277/300\n",
      "\u001b[1m49/49\u001b[0m \u001b[32m━━━━━━━━━━━━━━━━━━━━\u001b[0m\u001b[37m\u001b[0m \u001b[1m5s\u001b[0m 99ms/step - accuracy: 0.0280 - loss: 0.0046\n",
      "Epoch 278/300\n",
      "\u001b[1m49/49\u001b[0m \u001b[32m━━━━━━━━━━━━━━━━━━━━\u001b[0m\u001b[37m\u001b[0m \u001b[1m6s\u001b[0m 115ms/step - accuracy: 0.0287 - loss: 0.0048\n",
      "Epoch 279/300\n",
      "\u001b[1m49/49\u001b[0m \u001b[32m━━━━━━━━━━━━━━━━━━━━\u001b[0m\u001b[37m\u001b[0m \u001b[1m5s\u001b[0m 95ms/step - accuracy: 0.0278 - loss: 0.0049\n",
      "Epoch 280/300\n",
      "\u001b[1m49/49\u001b[0m \u001b[32m━━━━━━━━━━━━━━━━━━━━\u001b[0m\u001b[37m\u001b[0m \u001b[1m4s\u001b[0m 90ms/step - accuracy: 0.0316 - loss: 0.0047\n",
      "Epoch 281/300\n",
      "\u001b[1m49/49\u001b[0m \u001b[32m━━━━━━━━━━━━━━━━━━━━\u001b[0m\u001b[37m\u001b[0m \u001b[1m4s\u001b[0m 86ms/step - accuracy: 0.0233 - loss: 0.0047\n",
      "Epoch 282/300\n",
      "\u001b[1m49/49\u001b[0m \u001b[32m━━━━━━━━━━━━━━━━━━━━\u001b[0m\u001b[37m\u001b[0m \u001b[1m4s\u001b[0m 89ms/step - accuracy: 0.0256 - loss: 0.0048\n",
      "Epoch 283/300\n",
      "\u001b[1m49/49\u001b[0m \u001b[32m━━━━━━━━━━━━━━━━━━━━\u001b[0m\u001b[37m\u001b[0m \u001b[1m4s\u001b[0m 88ms/step - accuracy: 0.0243 - loss: 0.0048\n",
      "Epoch 284/300\n",
      "\u001b[1m49/49\u001b[0m \u001b[32m━━━━━━━━━━━━━━━━━━━━\u001b[0m\u001b[37m\u001b[0m \u001b[1m4s\u001b[0m 88ms/step - accuracy: 0.0308 - loss: 0.0048\n",
      "Epoch 285/300\n",
      "\u001b[1m49/49\u001b[0m \u001b[32m━━━━━━━━━━━━━━━━━━━━\u001b[0m\u001b[37m\u001b[0m \u001b[1m4s\u001b[0m 87ms/step - accuracy: 0.0270 - loss: 0.0051\n",
      "Epoch 286/300\n",
      "\u001b[1m49/49\u001b[0m \u001b[32m━━━━━━━━━━━━━━━━━━━━\u001b[0m\u001b[37m\u001b[0m \u001b[1m4s\u001b[0m 91ms/step - accuracy: 0.0286 - loss: 0.0048\n",
      "Epoch 287/300\n",
      "\u001b[1m49/49\u001b[0m \u001b[32m━━━━━━━━━━━━━━━━━━━━\u001b[0m\u001b[37m\u001b[0m \u001b[1m4s\u001b[0m 90ms/step - accuracy: 0.0256 - loss: 0.0049\n",
      "Epoch 288/300\n",
      "\u001b[1m49/49\u001b[0m \u001b[32m━━━━━━━━━━━━━━━━━━━━\u001b[0m\u001b[37m\u001b[0m \u001b[1m4s\u001b[0m 91ms/step - accuracy: 0.0189 - loss: 0.0048\n",
      "Epoch 289/300\n",
      "\u001b[1m49/49\u001b[0m \u001b[32m━━━━━━━━━━━━━━━━━━━━\u001b[0m\u001b[37m\u001b[0m \u001b[1m4s\u001b[0m 87ms/step - accuracy: 0.0274 - loss: 0.0048\n",
      "Epoch 290/300\n",
      "\u001b[1m49/49\u001b[0m \u001b[32m━━━━━━━━━━━━━━━━━━━━\u001b[0m\u001b[37m\u001b[0m \u001b[1m4s\u001b[0m 87ms/step - accuracy: 0.0253 - loss: 0.0047\n",
      "Epoch 291/300\n",
      "\u001b[1m49/49\u001b[0m \u001b[32m━━━━━━━━━━━━━━━━━━━━\u001b[0m\u001b[37m\u001b[0m \u001b[1m4s\u001b[0m 86ms/step - accuracy: 0.0311 - loss: 0.0047\n",
      "Epoch 292/300\n",
      "\u001b[1m49/49\u001b[0m \u001b[32m━━━━━━━━━━━━━━━━━━━━\u001b[0m\u001b[37m\u001b[0m \u001b[1m4s\u001b[0m 86ms/step - accuracy: 0.0246 - loss: 0.0047\n",
      "Epoch 293/300\n",
      "\u001b[1m49/49\u001b[0m \u001b[32m━━━━━━━━━━━━━━━━━━━━\u001b[0m\u001b[37m\u001b[0m \u001b[1m4s\u001b[0m 84ms/step - accuracy: 0.0220 - loss: 0.0047\n",
      "Epoch 294/300\n",
      "\u001b[1m49/49\u001b[0m \u001b[32m━━━━━━━━━━━━━━━━━━━━\u001b[0m\u001b[37m\u001b[0m \u001b[1m4s\u001b[0m 87ms/step - accuracy: 0.0259 - loss: 0.0048\n",
      "Epoch 295/300\n",
      "\u001b[1m49/49\u001b[0m \u001b[32m━━━━━━━━━━━━━━━━━━━━\u001b[0m\u001b[37m\u001b[0m \u001b[1m4s\u001b[0m 86ms/step - accuracy: 0.0231 - loss: 0.0050\n",
      "Epoch 296/300\n",
      "\u001b[1m49/49\u001b[0m \u001b[32m━━━━━━━━━━━━━━━━━━━━\u001b[0m\u001b[37m\u001b[0m \u001b[1m4s\u001b[0m 87ms/step - accuracy: 0.0240 - loss: 0.0045\n",
      "Epoch 297/300\n",
      "\u001b[1m49/49\u001b[0m \u001b[32m━━━━━━━━━━━━━━━━━━━━\u001b[0m\u001b[37m\u001b[0m \u001b[1m4s\u001b[0m 85ms/step - accuracy: 0.0294 - loss: 0.0046\n",
      "Epoch 298/300\n",
      "\u001b[1m49/49\u001b[0m \u001b[32m━━━━━━━━━━━━━━━━━━━━\u001b[0m\u001b[37m\u001b[0m \u001b[1m4s\u001b[0m 87ms/step - accuracy: 0.0260 - loss: 0.0053\n",
      "Epoch 299/300\n",
      "\u001b[1m49/49\u001b[0m \u001b[32m━━━━━━━━━━━━━━━━━━━━\u001b[0m\u001b[37m\u001b[0m \u001b[1m4s\u001b[0m 91ms/step - accuracy: 0.0289 - loss: 0.0051\n",
      "Epoch 300/300\n",
      "\u001b[1m49/49\u001b[0m \u001b[32m━━━━━━━━━━━━━━━━━━━━\u001b[0m\u001b[37m\u001b[0m \u001b[1m4s\u001b[0m 87ms/step - accuracy: 0.0234 - loss: 0.0049\n"
     ]
    }
   ],
   "source": [
    "import pandas as pd\n",
    "import numpy as np\n",
    "train = pd.read_csv('train.csv',parse_dates=['Month'])\n",
    "test2 = pd.read_csv('test.csv',parse_dates=['Month'])\n",
    "train.set_index('Month',inplace=True)\n",
    "test2.set_index('Month',inplace=True)\n",
    "\n",
    "from tensorflow.keras.layers import LSTM, Dense, Dropout,Bidirectional\n",
    "scaler = MinMaxScaler(feature_range=(0, 1))\n",
    "train['Avg_sunspot_count'] = scaler.fit_transform(train['Avg_sunspot_count'].values.reshape(-1, 1))\n",
    "# Create sequences of data points\n",
    "def create_sequences(data, seq_length):\n",
    "    xs, ys = [], []\n",
    "    for i in range(len(data) - seq_length):\n",
    "        x = data[i:i + seq_length]\n",
    "        y = data[i + seq_length]\n",
    "        xs.append(x)\n",
    "        ys.append(y)\n",
    "    return np.array(xs), np.array(ys)\n",
    "\n",
    "seq_length = 28\n",
    "X, y = create_sequences(train['Avg_sunspot_count'].values, seq_length)\n",
    "\n",
    "# Reshape data for LSTM [samples, time steps, features]\n",
    "X = X.reshape((X.shape[0], X.shape[1], 1))\n",
    "#X_test = X_test.reshape((X_test.shape[0], X_test.shape[1], 1))\n",
    "\n",
    "# Build the LSTM model\n",
    "model1 = Sequential()\n",
    "model1.add(LSTM(150, return_sequences=True, input_shape=(seq_length, 1)))\n",
    "model1.add(LSTM(150, return_sequences=False))\n",
    "model1.add(Dense(512))\n",
    "model1.add(Dense(256))\n",
    "model1.add(Dense(128))\n",
    "model1.add(Dense(64))\n",
    "model1.add(Dense(32))\n",
    "model1.add(Dense(16))\n",
    "model1.add(Dense(1))\n",
    "\n",
    "model1.compile(optimizer='sgd', loss='mean_squared_error',metrics=['accuracy'])\n",
    "\n",
    "# Train the model\n",
    "history = model1.fit(X, y, batch_size=64, epochs=300)"
   ]
  },
  {
   "cell_type": "code",
   "execution_count": 249,
   "id": "9a691e46-20c4-44bd-8711-31a7d6ad3258",
   "metadata": {
    "scrolled": true
   },
   "outputs": [
    {
     "name": "stdout",
     "output_type": "stream",
     "text": [
      "\u001b[1m1/1\u001b[0m \u001b[32m━━━━━━━━━━━━━━━━━━━━\u001b[0m\u001b[37m\u001b[0m \u001b[1m0s\u001b[0m 193ms/step\n",
      "\u001b[1m1/1\u001b[0m \u001b[32m━━━━━━━━━━━━━━━━━━━━\u001b[0m\u001b[37m\u001b[0m \u001b[1m0s\u001b[0m 17ms/step\n",
      "\u001b[1m1/1\u001b[0m \u001b[32m━━━━━━━━━━━━━━━━━━━━\u001b[0m\u001b[37m\u001b[0m \u001b[1m0s\u001b[0m 16ms/step\n",
      "\u001b[1m1/1\u001b[0m \u001b[32m━━━━━━━━━━━━━━━━━━━━\u001b[0m\u001b[37m\u001b[0m \u001b[1m0s\u001b[0m 15ms/step\n",
      "\u001b[1m1/1\u001b[0m \u001b[32m━━━━━━━━━━━━━━━━━━━━\u001b[0m\u001b[37m\u001b[0m \u001b[1m0s\u001b[0m 16ms/step\n",
      "\u001b[1m1/1\u001b[0m \u001b[32m━━━━━━━━━━━━━━━━━━━━\u001b[0m\u001b[37m\u001b[0m \u001b[1m0s\u001b[0m 16ms/step\n",
      "\u001b[1m1/1\u001b[0m \u001b[32m━━━━━━━━━━━━━━━━━━━━\u001b[0m\u001b[37m\u001b[0m \u001b[1m0s\u001b[0m 16ms/step\n",
      "\u001b[1m1/1\u001b[0m \u001b[32m━━━━━━━━━━━━━━━━━━━━\u001b[0m\u001b[37m\u001b[0m \u001b[1m0s\u001b[0m 16ms/step\n",
      "\u001b[1m1/1\u001b[0m \u001b[32m━━━━━━━━━━━━━━━━━━━━\u001b[0m\u001b[37m\u001b[0m \u001b[1m0s\u001b[0m 16ms/step\n",
      "\u001b[1m1/1\u001b[0m \u001b[32m━━━━━━━━━━━━━━━━━━━━\u001b[0m\u001b[37m\u001b[0m \u001b[1m0s\u001b[0m 16ms/step\n",
      "\u001b[1m1/1\u001b[0m \u001b[32m━━━━━━━━━━━━━━━━━━━━\u001b[0m\u001b[37m\u001b[0m \u001b[1m0s\u001b[0m 19ms/step\n",
      "\u001b[1m1/1\u001b[0m \u001b[32m━━━━━━━━━━━━━━━━━━━━\u001b[0m\u001b[37m\u001b[0m \u001b[1m0s\u001b[0m 16ms/step\n",
      "\u001b[1m1/1\u001b[0m \u001b[32m━━━━━━━━━━━━━━━━━━━━\u001b[0m\u001b[37m\u001b[0m \u001b[1m0s\u001b[0m 53ms/step\n",
      "\u001b[1m1/1\u001b[0m \u001b[32m━━━━━━━━━━━━━━━━━━━━\u001b[0m\u001b[37m\u001b[0m \u001b[1m0s\u001b[0m 16ms/step\n",
      "\u001b[1m1/1\u001b[0m \u001b[32m━━━━━━━━━━━━━━━━━━━━\u001b[0m\u001b[37m\u001b[0m \u001b[1m0s\u001b[0m 17ms/step\n",
      "\u001b[1m1/1\u001b[0m \u001b[32m━━━━━━━━━━━━━━━━━━━━\u001b[0m\u001b[37m\u001b[0m \u001b[1m0s\u001b[0m 16ms/step\n",
      "\u001b[1m1/1\u001b[0m \u001b[32m━━━━━━━━━━━━━━━━━━━━\u001b[0m\u001b[37m\u001b[0m \u001b[1m0s\u001b[0m 17ms/step\n",
      "\u001b[1m1/1\u001b[0m \u001b[32m━━━━━━━━━━━━━━━━━━━━\u001b[0m\u001b[37m\u001b[0m \u001b[1m0s\u001b[0m 17ms/step\n",
      "\u001b[1m1/1\u001b[0m \u001b[32m━━━━━━━━━━━━━━━━━━━━\u001b[0m\u001b[37m\u001b[0m \u001b[1m0s\u001b[0m 15ms/step\n",
      "\u001b[1m1/1\u001b[0m \u001b[32m━━━━━━━━━━━━━━━━━━━━\u001b[0m\u001b[37m\u001b[0m \u001b[1m0s\u001b[0m 18ms/step\n",
      "\u001b[1m1/1\u001b[0m \u001b[32m━━━━━━━━━━━━━━━━━━━━\u001b[0m\u001b[37m\u001b[0m \u001b[1m0s\u001b[0m 17ms/step\n",
      "\u001b[1m1/1\u001b[0m \u001b[32m━━━━━━━━━━━━━━━━━━━━\u001b[0m\u001b[37m\u001b[0m \u001b[1m0s\u001b[0m 16ms/step\n",
      "\u001b[1m1/1\u001b[0m \u001b[32m━━━━━━━━━━━━━━━━━━━━\u001b[0m\u001b[37m\u001b[0m \u001b[1m0s\u001b[0m 16ms/step\n",
      "\u001b[1m1/1\u001b[0m \u001b[32m━━━━━━━━━━━━━━━━━━━━\u001b[0m\u001b[37m\u001b[0m \u001b[1m0s\u001b[0m 17ms/step\n",
      "\u001b[1m1/1\u001b[0m \u001b[32m━━━━━━━━━━━━━━━━━━━━\u001b[0m\u001b[37m\u001b[0m \u001b[1m0s\u001b[0m 16ms/step\n",
      "\u001b[1m1/1\u001b[0m \u001b[32m━━━━━━━━━━━━━━━━━━━━\u001b[0m\u001b[37m\u001b[0m \u001b[1m0s\u001b[0m 16ms/step\n",
      "\u001b[1m1/1\u001b[0m \u001b[32m━━━━━━━━━━━━━━━━━━━━\u001b[0m\u001b[37m\u001b[0m \u001b[1m0s\u001b[0m 16ms/step\n",
      "\u001b[1m1/1\u001b[0m \u001b[32m━━━━━━━━━━━━━━━━━━━━\u001b[0m\u001b[37m\u001b[0m \u001b[1m0s\u001b[0m 16ms/step\n",
      "\u001b[1m1/1\u001b[0m \u001b[32m━━━━━━━━━━━━━━━━━━━━\u001b[0m\u001b[37m\u001b[0m \u001b[1m0s\u001b[0m 16ms/step\n",
      "\u001b[1m1/1\u001b[0m \u001b[32m━━━━━━━━━━━━━━━━━━━━\u001b[0m\u001b[37m\u001b[0m \u001b[1m0s\u001b[0m 16ms/step\n",
      "\u001b[1m1/1\u001b[0m \u001b[32m━━━━━━━━━━━━━━━━━━━━\u001b[0m\u001b[37m\u001b[0m \u001b[1m0s\u001b[0m 16ms/step\n",
      "\u001b[1m1/1\u001b[0m \u001b[32m━━━━━━━━━━━━━━━━━━━━\u001b[0m\u001b[37m\u001b[0m \u001b[1m0s\u001b[0m 17ms/step\n",
      "\u001b[1m1/1\u001b[0m \u001b[32m━━━━━━━━━━━━━━━━━━━━\u001b[0m\u001b[37m\u001b[0m \u001b[1m0s\u001b[0m 16ms/step\n",
      "\u001b[1m1/1\u001b[0m \u001b[32m━━━━━━━━━━━━━━━━━━━━\u001b[0m\u001b[37m\u001b[0m \u001b[1m0s\u001b[0m 16ms/step\n",
      "\u001b[1m1/1\u001b[0m \u001b[32m━━━━━━━━━━━━━━━━━━━━\u001b[0m\u001b[37m\u001b[0m \u001b[1m0s\u001b[0m 16ms/step\n",
      "\u001b[1m1/1\u001b[0m \u001b[32m━━━━━━━━━━━━━━━━━━━━\u001b[0m\u001b[37m\u001b[0m \u001b[1m0s\u001b[0m 16ms/step\n",
      "\u001b[1m1/1\u001b[0m \u001b[32m━━━━━━━━━━━━━━━━━━━━\u001b[0m\u001b[37m\u001b[0m \u001b[1m0s\u001b[0m 17ms/step\n",
      "\u001b[1m1/1\u001b[0m \u001b[32m━━━━━━━━━━━━━━━━━━━━\u001b[0m\u001b[37m\u001b[0m \u001b[1m0s\u001b[0m 16ms/step\n",
      "\u001b[1m1/1\u001b[0m \u001b[32m━━━━━━━━━━━━━━━━━━━━\u001b[0m\u001b[37m\u001b[0m \u001b[1m0s\u001b[0m 16ms/step\n",
      "\u001b[1m1/1\u001b[0m \u001b[32m━━━━━━━━━━━━━━━━━━━━\u001b[0m\u001b[37m\u001b[0m \u001b[1m0s\u001b[0m 16ms/step\n",
      "\u001b[1m1/1\u001b[0m \u001b[32m━━━━━━━━━━━━━━━━━━━━\u001b[0m\u001b[37m\u001b[0m \u001b[1m0s\u001b[0m 16ms/step\n",
      "\u001b[1m1/1\u001b[0m \u001b[32m━━━━━━━━━━━━━━━━━━━━\u001b[0m\u001b[37m\u001b[0m \u001b[1m0s\u001b[0m 17ms/step\n",
      "\u001b[1m1/1\u001b[0m \u001b[32m━━━━━━━━━━━━━━━━━━━━\u001b[0m\u001b[37m\u001b[0m \u001b[1m0s\u001b[0m 21ms/step\n",
      "\u001b[1m1/1\u001b[0m \u001b[32m━━━━━━━━━━━━━━━━━━━━\u001b[0m\u001b[37m\u001b[0m \u001b[1m0s\u001b[0m 16ms/step\n",
      "\u001b[1m1/1\u001b[0m \u001b[32m━━━━━━━━━━━━━━━━━━━━\u001b[0m\u001b[37m\u001b[0m \u001b[1m0s\u001b[0m 17ms/step\n",
      "\u001b[1m1/1\u001b[0m \u001b[32m━━━━━━━━━━━━━━━━━━━━\u001b[0m\u001b[37m\u001b[0m \u001b[1m0s\u001b[0m 16ms/step\n",
      "\u001b[1m1/1\u001b[0m \u001b[32m━━━━━━━━━━━━━━━━━━━━\u001b[0m\u001b[37m\u001b[0m \u001b[1m0s\u001b[0m 16ms/step\n",
      "\u001b[1m1/1\u001b[0m \u001b[32m━━━━━━━━━━━━━━━━━━━━\u001b[0m\u001b[37m\u001b[0m \u001b[1m0s\u001b[0m 16ms/step\n",
      "\u001b[1m1/1\u001b[0m \u001b[32m━━━━━━━━━━━━━━━━━━━━\u001b[0m\u001b[37m\u001b[0m \u001b[1m0s\u001b[0m 17ms/step\n",
      "\u001b[1m1/1\u001b[0m \u001b[32m━━━━━━━━━━━━━━━━━━━━\u001b[0m\u001b[37m\u001b[0m \u001b[1m0s\u001b[0m 16ms/step\n",
      "\u001b[1m1/1\u001b[0m \u001b[32m━━━━━━━━━━━━━━━━━━━━\u001b[0m\u001b[37m\u001b[0m \u001b[1m0s\u001b[0m 17ms/step\n",
      "\u001b[1m1/1\u001b[0m \u001b[32m━━━━━━━━━━━━━━━━━━━━\u001b[0m\u001b[37m\u001b[0m \u001b[1m0s\u001b[0m 17ms/step\n",
      "\u001b[1m1/1\u001b[0m \u001b[32m━━━━━━━━━━━━━━━━━━━━\u001b[0m\u001b[37m\u001b[0m \u001b[1m0s\u001b[0m 16ms/step\n",
      "\u001b[1m1/1\u001b[0m \u001b[32m━━━━━━━━━━━━━━━━━━━━\u001b[0m\u001b[37m\u001b[0m \u001b[1m0s\u001b[0m 17ms/step\n",
      "\u001b[1m1/1\u001b[0m \u001b[32m━━━━━━━━━━━━━━━━━━━━\u001b[0m\u001b[37m\u001b[0m \u001b[1m0s\u001b[0m 18ms/step\n",
      "\u001b[1m1/1\u001b[0m \u001b[32m━━━━━━━━━━━━━━━━━━━━\u001b[0m\u001b[37m\u001b[0m \u001b[1m0s\u001b[0m 18ms/step\n",
      "\u001b[1m1/1\u001b[0m \u001b[32m━━━━━━━━━━━━━━━━━━━━\u001b[0m\u001b[37m\u001b[0m \u001b[1m0s\u001b[0m 18ms/step\n",
      "\u001b[1m1/1\u001b[0m \u001b[32m━━━━━━━━━━━━━━━━━━━━\u001b[0m\u001b[37m\u001b[0m \u001b[1m0s\u001b[0m 20ms/step\n",
      "\u001b[1m1/1\u001b[0m \u001b[32m━━━━━━━━━━━━━━━━━━━━\u001b[0m\u001b[37m\u001b[0m \u001b[1m0s\u001b[0m 16ms/step\n",
      "\u001b[1m1/1\u001b[0m \u001b[32m━━━━━━━━━━━━━━━━━━━━\u001b[0m\u001b[37m\u001b[0m \u001b[1m0s\u001b[0m 20ms/step\n",
      "\u001b[1m1/1\u001b[0m \u001b[32m━━━━━━━━━━━━━━━━━━━━\u001b[0m\u001b[37m\u001b[0m \u001b[1m0s\u001b[0m 17ms/step\n",
      "\u001b[1m1/1\u001b[0m \u001b[32m━━━━━━━━━━━━━━━━━━━━\u001b[0m\u001b[37m\u001b[0m \u001b[1m0s\u001b[0m 18ms/step\n",
      "\u001b[1m1/1\u001b[0m \u001b[32m━━━━━━━━━━━━━━━━━━━━\u001b[0m\u001b[37m\u001b[0m \u001b[1m0s\u001b[0m 17ms/step\n",
      "\u001b[1m1/1\u001b[0m \u001b[32m━━━━━━━━━━━━━━━━━━━━\u001b[0m\u001b[37m\u001b[0m \u001b[1m0s\u001b[0m 16ms/step\n",
      "\u001b[1m1/1\u001b[0m \u001b[32m━━━━━━━━━━━━━━━━━━━━\u001b[0m\u001b[37m\u001b[0m \u001b[1m0s\u001b[0m 16ms/step\n",
      "\u001b[1m1/1\u001b[0m \u001b[32m━━━━━━━━━━━━━━━━━━━━\u001b[0m\u001b[37m\u001b[0m \u001b[1m0s\u001b[0m 20ms/step\n",
      "\u001b[1m1/1\u001b[0m \u001b[32m━━━━━━━━━━━━━━━━━━━━\u001b[0m\u001b[37m\u001b[0m \u001b[1m0s\u001b[0m 17ms/step\n",
      "\u001b[1m1/1\u001b[0m \u001b[32m━━━━━━━━━━━━━━━━━━━━\u001b[0m\u001b[37m\u001b[0m \u001b[1m0s\u001b[0m 17ms/step\n",
      "\u001b[1m1/1\u001b[0m \u001b[32m━━━━━━━━━━━━━━━━━━━━\u001b[0m\u001b[37m\u001b[0m \u001b[1m0s\u001b[0m 16ms/step\n",
      "\u001b[1m1/1\u001b[0m \u001b[32m━━━━━━━━━━━━━━━━━━━━\u001b[0m\u001b[37m\u001b[0m \u001b[1m0s\u001b[0m 17ms/step\n",
      "\u001b[1m1/1\u001b[0m \u001b[32m━━━━━━━━━━━━━━━━━━━━\u001b[0m\u001b[37m\u001b[0m \u001b[1m0s\u001b[0m 17ms/step\n",
      "\u001b[1m1/1\u001b[0m \u001b[32m━━━━━━━━━━━━━━━━━━━━\u001b[0m\u001b[37m\u001b[0m \u001b[1m0s\u001b[0m 53ms/step\n",
      "\u001b[1m1/1\u001b[0m \u001b[32m━━━━━━━━━━━━━━━━━━━━\u001b[0m\u001b[37m\u001b[0m \u001b[1m0s\u001b[0m 16ms/step\n",
      "\u001b[1m1/1\u001b[0m \u001b[32m━━━━━━━━━━━━━━━━━━━━\u001b[0m\u001b[37m\u001b[0m \u001b[1m0s\u001b[0m 17ms/step\n",
      "\u001b[1m1/1\u001b[0m \u001b[32m━━━━━━━━━━━━━━━━━━━━\u001b[0m\u001b[37m\u001b[0m \u001b[1m0s\u001b[0m 17ms/step\n",
      "\u001b[1m1/1\u001b[0m \u001b[32m━━━━━━━━━━━━━━━━━━━━\u001b[0m\u001b[37m\u001b[0m \u001b[1m0s\u001b[0m 17ms/step\n",
      "\u001b[1m1/1\u001b[0m \u001b[32m━━━━━━━━━━━━━━━━━━━━\u001b[0m\u001b[37m\u001b[0m \u001b[1m0s\u001b[0m 17ms/step\n",
      "\u001b[1m1/1\u001b[0m \u001b[32m━━━━━━━━━━━━━━━━━━━━\u001b[0m\u001b[37m\u001b[0m \u001b[1m0s\u001b[0m 17ms/step\n",
      "\u001b[1m1/1\u001b[0m \u001b[32m━━━━━━━━━━━━━━━━━━━━\u001b[0m\u001b[37m\u001b[0m \u001b[1m0s\u001b[0m 17ms/step\n",
      "\u001b[1m1/1\u001b[0m \u001b[32m━━━━━━━━━━━━━━━━━━━━\u001b[0m\u001b[37m\u001b[0m \u001b[1m0s\u001b[0m 17ms/step\n",
      "\u001b[1m1/1\u001b[0m \u001b[32m━━━━━━━━━━━━━━━━━━━━\u001b[0m\u001b[37m\u001b[0m \u001b[1m0s\u001b[0m 17ms/step\n",
      "\u001b[1m1/1\u001b[0m \u001b[32m━━━━━━━━━━━━━━━━━━━━\u001b[0m\u001b[37m\u001b[0m \u001b[1m0s\u001b[0m 17ms/step\n",
      "\u001b[1m1/1\u001b[0m \u001b[32m━━━━━━━━━━━━━━━━━━━━\u001b[0m\u001b[37m\u001b[0m \u001b[1m0s\u001b[0m 16ms/step\n",
      "\u001b[1m1/1\u001b[0m \u001b[32m━━━━━━━━━━━━━━━━━━━━\u001b[0m\u001b[37m\u001b[0m \u001b[1m0s\u001b[0m 16ms/step\n",
      "\u001b[1m1/1\u001b[0m \u001b[32m━━━━━━━━━━━━━━━━━━━━\u001b[0m\u001b[37m\u001b[0m \u001b[1m0s\u001b[0m 16ms/step\n",
      "\u001b[1m1/1\u001b[0m \u001b[32m━━━━━━━━━━━━━━━━━━━━\u001b[0m\u001b[37m\u001b[0m \u001b[1m0s\u001b[0m 17ms/step\n",
      "\u001b[1m1/1\u001b[0m \u001b[32m━━━━━━━━━━━━━━━━━━━━\u001b[0m\u001b[37m\u001b[0m \u001b[1m0s\u001b[0m 16ms/step\n",
      "\u001b[1m1/1\u001b[0m \u001b[32m━━━━━━━━━━━━━━━━━━━━\u001b[0m\u001b[37m\u001b[0m \u001b[1m0s\u001b[0m 17ms/step\n",
      "\u001b[1m1/1\u001b[0m \u001b[32m━━━━━━━━━━━━━━━━━━━━\u001b[0m\u001b[37m\u001b[0m \u001b[1m0s\u001b[0m 17ms/step\n",
      "\u001b[1m1/1\u001b[0m \u001b[32m━━━━━━━━━━━━━━━━━━━━\u001b[0m\u001b[37m\u001b[0m \u001b[1m0s\u001b[0m 17ms/step\n",
      "\u001b[1m1/1\u001b[0m \u001b[32m━━━━━━━━━━━━━━━━━━━━\u001b[0m\u001b[37m\u001b[0m \u001b[1m0s\u001b[0m 17ms/step\n",
      "\u001b[1m1/1\u001b[0m \u001b[32m━━━━━━━━━━━━━━━━━━━━\u001b[0m\u001b[37m\u001b[0m \u001b[1m0s\u001b[0m 16ms/step\n",
      "\u001b[1m1/1\u001b[0m \u001b[32m━━━━━━━━━━━━━━━━━━━━\u001b[0m\u001b[37m\u001b[0m \u001b[1m0s\u001b[0m 17ms/step\n",
      "\u001b[1m1/1\u001b[0m \u001b[32m━━━━━━━━━━━━━━━━━━━━\u001b[0m\u001b[37m\u001b[0m \u001b[1m0s\u001b[0m 54ms/step\n",
      "\u001b[1m1/1\u001b[0m \u001b[32m━━━━━━━━━━━━━━━━━━━━\u001b[0m\u001b[37m\u001b[0m \u001b[1m0s\u001b[0m 17ms/step\n",
      "\u001b[1m1/1\u001b[0m \u001b[32m━━━━━━━━━━━━━━━━━━━━\u001b[0m\u001b[37m\u001b[0m \u001b[1m0s\u001b[0m 17ms/step\n",
      "\u001b[1m1/1\u001b[0m \u001b[32m━━━━━━━━━━━━━━━━━━━━\u001b[0m\u001b[37m\u001b[0m \u001b[1m0s\u001b[0m 17ms/step\n",
      "\u001b[1m1/1\u001b[0m \u001b[32m━━━━━━━━━━━━━━━━━━━━\u001b[0m\u001b[37m\u001b[0m \u001b[1m0s\u001b[0m 17ms/step\n",
      "\u001b[1m1/1\u001b[0m \u001b[32m━━━━━━━━━━━━━━━━━━━━\u001b[0m\u001b[37m\u001b[0m \u001b[1m0s\u001b[0m 16ms/step\n",
      "\u001b[1m1/1\u001b[0m \u001b[32m━━━━━━━━━━━━━━━━━━━━\u001b[0m\u001b[37m\u001b[0m \u001b[1m0s\u001b[0m 17ms/step\n",
      "\u001b[1m1/1\u001b[0m \u001b[32m━━━━━━━━━━━━━━━━━━━━\u001b[0m\u001b[37m\u001b[0m \u001b[1m0s\u001b[0m 16ms/step\n",
      "\u001b[1m1/1\u001b[0m \u001b[32m━━━━━━━━━━━━━━━━━━━━\u001b[0m\u001b[37m\u001b[0m \u001b[1m0s\u001b[0m 17ms/step\n",
      "\u001b[1m1/1\u001b[0m \u001b[32m━━━━━━━━━━━━━━━━━━━━\u001b[0m\u001b[37m\u001b[0m \u001b[1m0s\u001b[0m 16ms/step\n",
      "\u001b[1m1/1\u001b[0m \u001b[32m━━━━━━━━━━━━━━━━━━━━\u001b[0m\u001b[37m\u001b[0m \u001b[1m0s\u001b[0m 17ms/step\n",
      "\u001b[1m1/1\u001b[0m \u001b[32m━━━━━━━━━━━━━━━━━━━━\u001b[0m\u001b[37m\u001b[0m \u001b[1m0s\u001b[0m 17ms/step\n",
      "\u001b[1m1/1\u001b[0m \u001b[32m━━━━━━━━━━━━━━━━━━━━\u001b[0m\u001b[37m\u001b[0m \u001b[1m0s\u001b[0m 16ms/step\n",
      "\u001b[1m1/1\u001b[0m \u001b[32m━━━━━━━━━━━━━━━━━━━━\u001b[0m\u001b[37m\u001b[0m \u001b[1m0s\u001b[0m 17ms/step\n",
      "\u001b[1m1/1\u001b[0m \u001b[32m━━━━━━━━━━━━━━━━━━━━\u001b[0m\u001b[37m\u001b[0m \u001b[1m0s\u001b[0m 17ms/step\n",
      "\u001b[1m1/1\u001b[0m \u001b[32m━━━━━━━━━━━━━━━━━━━━\u001b[0m\u001b[37m\u001b[0m \u001b[1m0s\u001b[0m 46ms/step\n",
      "\u001b[1m1/1\u001b[0m \u001b[32m━━━━━━━━━━━━━━━━━━━━\u001b[0m\u001b[37m\u001b[0m \u001b[1m0s\u001b[0m 18ms/step\n",
      "\u001b[1m1/1\u001b[0m \u001b[32m━━━━━━━━━━━━━━━━━━━━\u001b[0m\u001b[37m\u001b[0m \u001b[1m0s\u001b[0m 17ms/step\n",
      "\u001b[1m1/1\u001b[0m \u001b[32m━━━━━━━━━━━━━━━━━━━━\u001b[0m\u001b[37m\u001b[0m \u001b[1m0s\u001b[0m 16ms/step\n",
      "\u001b[1m1/1\u001b[0m \u001b[32m━━━━━━━━━━━━━━━━━━━━\u001b[0m\u001b[37m\u001b[0m \u001b[1m0s\u001b[0m 16ms/step\n",
      "\u001b[1m1/1\u001b[0m \u001b[32m━━━━━━━━━━━━━━━━━━━━\u001b[0m\u001b[37m\u001b[0m \u001b[1m0s\u001b[0m 17ms/step\n",
      "\u001b[1m1/1\u001b[0m \u001b[32m━━━━━━━━━━━━━━━━━━━━\u001b[0m\u001b[37m\u001b[0m \u001b[1m0s\u001b[0m 17ms/step\n",
      "\u001b[1m1/1\u001b[0m \u001b[32m━━━━━━━━━━━━━━━━━━━━\u001b[0m\u001b[37m\u001b[0m \u001b[1m0s\u001b[0m 17ms/step\n",
      "\u001b[1m1/1\u001b[0m \u001b[32m━━━━━━━━━━━━━━━━━━━━\u001b[0m\u001b[37m\u001b[0m \u001b[1m0s\u001b[0m 16ms/step\n",
      "\u001b[1m1/1\u001b[0m \u001b[32m━━━━━━━━━━━━━━━━━━━━\u001b[0m\u001b[37m\u001b[0m \u001b[1m0s\u001b[0m 17ms/step\n",
      "\u001b[1m1/1\u001b[0m \u001b[32m━━━━━━━━━━━━━━━━━━━━\u001b[0m\u001b[37m\u001b[0m \u001b[1m0s\u001b[0m 20ms/step\n",
      "\u001b[1m1/1\u001b[0m \u001b[32m━━━━━━━━━━━━━━━━━━━━\u001b[0m\u001b[37m\u001b[0m \u001b[1m0s\u001b[0m 20ms/step\n"
     ]
    }
   ],
   "source": [
    "# Function to predict future values\n",
    "def predict_future_values(model, initial_sequence, n_steps, scaler):\n",
    "    current_sequence = initial_sequence.reshape((1, len(initial_sequence), 1))\n",
    "    future_predictions = []\n",
    "\n",
    "    for _ in range(n_steps):\n",
    "        # Predict the next value\n",
    "        next_value = model.predict(current_sequence)\n",
    "        \n",
    "        # Store the prediction\n",
    "        future_predictions.append(next_value[0, 0])\n",
    "        \n",
    "        # Update the sequence: remove the first value and append the new predicted value\n",
    "        current_sequence = np.append(current_sequence[:, 1:, :], [next_value], axis=1)\n",
    "\n",
    "    # Inverse transform the predictions to the original scale\n",
    "    future_predictions = scaler.inverse_transform(np.array(future_predictions).reshape(-1, 1))\n",
    "    return future_predictions\n",
    "\n",
    "# Number of future steps to predict\n",
    "n_steps = len(test.index)\n",
    "\n",
    "# Get the initial sequence from the end of the data\n",
    "initial_sequence = train['Avg_sunspot_count'].values[-int(seq_length):]\n",
    "\n",
    "# Predict future values\n",
    "future_predictions = predict_future_values(model1, initial_sequence, n_steps, scaler)"
   ]
  },
  {
   "cell_type": "code",
   "execution_count": 219,
   "id": "a9048dd0-d9ea-4bfd-9223-13ebc3d0904d",
   "metadata": {
    "scrolled": true
   },
   "outputs": [
    {
     "data": {
      "text/plain": [
       "Month\n",
       "2011-01-01    27.3\n",
       "2011-02-01    48.3\n",
       "2011-03-01    78.6\n",
       "2011-04-01    76.1\n",
       "2011-05-01    58.2\n",
       "              ... \n",
       "2020-08-01     7.5\n",
       "2020-09-01     0.6\n",
       "2020-10-01    14.6\n",
       "2020-11-01    34.5\n",
       "2020-12-01    23.1\n",
       "Name: Sunspots, Length: 120, dtype: float64"
      ]
     },
     "execution_count": 219,
     "metadata": {},
     "output_type": "execute_result"
    }
   ],
   "source": [
    "val.index = test.index\n",
    "val"
   ]
  },
  {
   "cell_type": "code",
   "execution_count": 250,
   "id": "a690c219-f987-415d-9870-8eeff0f147ca",
   "metadata": {},
   "outputs": [
    {
     "data": {
      "text/plain": [
       "array([ 40.68498 ,  42.48996 ,  44.74531 ,  47.247772,  49.834232,\n",
       "        52.486385,  55.16833 ,  57.85774 ,  60.539272,  63.213646,\n",
       "        65.87664 ,  68.50101 ,  71.04343 ,  73.579445,  76.060585,\n",
       "        78.46933 ,  80.8625  ,  83.20051 ,  85.51079 ,  87.70229 ,\n",
       "        89.72151 ,  91.679375,  93.57065 ,  95.39454 ,  97.1406  ,\n",
       "        98.81312 , 100.36151 , 101.80023 , 103.07293 , 104.33212 ,\n",
       "       105.48265 , 106.529854, 107.47655 , 108.32404 , 109.07361 ,\n",
       "       109.72644 , 110.28397 , 110.74768 , 111.11938 , 111.40115 ,\n",
       "       111.5951  , 111.70326 , 111.728455, 111.67328 , 111.54043 ,\n",
       "       111.33315 , 111.0545  , 110.70793 , 110.29638 , 109.822624,\n",
       "       109.29025 , 108.7028  , 108.06384 , 107.37693 , 106.64574 ,\n",
       "       105.87352 , 105.06373 , 104.219574, 103.34498 , 102.44334 ,\n",
       "       101.518005, 100.572334,  99.60965 ,  98.6332  ,  97.64612 ,\n",
       "        96.651535,  95.65248 ,  94.65187 ,  93.65255 ,  92.65729 ,\n",
       "        91.668686,  90.68937 ,  89.72169 ,  88.76803 ,  87.83059 ,\n",
       "        86.91147 ,  86.012634,  85.13599 ,  84.28324 ,  83.45603 ,\n",
       "        82.65581 ,  81.88404 ,  81.14194 ,  80.43063 ,  79.75113 ,\n",
       "        79.10435 ,  78.491035,  77.91189 ,  77.367424,  76.85806 ,\n",
       "        76.38414 ,  75.945854,  75.543335,  75.17656 ,  74.84543 ,\n",
       "        74.54976 ,  74.28925 ,  74.06356 ,  73.87217 ,  73.71457 ,\n",
       "        73.59012 ,  73.49816 ,  73.43786 ,  73.408455,  73.409004,\n",
       "        73.43858 ,  73.49619 ,  73.58075 ,  73.69121 ,  73.826416,\n",
       "        73.98519 ,  74.16637 ,  74.36869 ,  74.59094 ,  74.83185 ,\n",
       "        75.09013 ,  75.36451 ,  75.653694,  75.95639 ,  76.27132 ],\n",
       "      dtype=float32)"
      ]
     },
     "execution_count": 250,
     "metadata": {},
     "output_type": "execute_result"
    }
   ],
   "source": [
    "future_predictions.reshape(1,-1)[0]"
   ]
  },
  {
   "cell_type": "code",
   "execution_count": 254,
   "id": "c1e4c1ca-e750-448b-b572-a0fd7485b9a1",
   "metadata": {},
   "outputs": [
    {
     "data": {
      "image/png": "[encoded data removed]",
      "text/plain": [
       "<Figure size 640x480 with 1 Axes>"
      ]
     },
     "metadata": {},
     "output_type": "display_data"
    }
   ],
   "source": [
    "import matplotlib.pyplot as plt\n",
    "plt.plot(test.index,val,label='Predicted Data - ARIMA')\n",
    "plt.plot(test.index,np.round(future_predictions.reshape(1,-1)[0]+SARIMA_Predictions_Submission),label='Predicted Data - LSTM')\n",
    "plt.legend(loc='best')\n",
    "plt.grid();"
   ]
  },
  {
   "cell_type": "code",
   "execution_count": 252,
   "id": "ac6c9701-7166-4f29-94f8-49b18bcc4475",
   "metadata": {},
   "outputs": [],
   "source": [
    "test4 = pd.read_csv('SN_m_tot_V2.0.csv',parse_dates=['Year'])"
   ]
  },
  {
   "cell_type": "code",
   "execution_count": 253,
   "id": "9c621d9c-fb1e-4add-b745-c040c105cea0",
   "metadata": {},
   "outputs": [],
   "source": [
    "val = np.array(test4[(test4['Year']>'2010')&(test4['Year']<'2021')]['Sunspots'])"
   ]
  },
  {
   "cell_type": "code",
   "execution_count": 258,
   "id": "673da533-6ad2-4cac-afad-22050fcdcb6e",
   "metadata": {},
   "outputs": [
    {
     "ename": "ValueError",
     "evalue": "Input contains NaN.",
     "output_type": "error",
     "traceback": [
      "\u001b[0;31m---------------------------------------------------------------------------\u001b[0m",
      "\u001b[0;31mValueError\u001b[0m                                Traceback (most recent call last)",
      "Cell \u001b[0;32mIn[258], line 1\u001b[0m\n\u001b[0;32m----> 1\u001b[0m rmse \u001b[38;5;241m=\u001b[39m mean_squared_error(val,test[\u001b[38;5;124m'\u001b[39m\u001b[38;5;124mAvg_sunspot_count\u001b[39m\u001b[38;5;124m'\u001b[39m],squared\u001b[38;5;241m=\u001b[39m\u001b[38;5;28;01mFalse\u001b[39;00m)\n\u001b[1;32m      2\u001b[0m \u001b[38;5;28mprint\u001b[39m(rmse)\n",
      "File \u001b[0;32m/opt/anaconda3/lib/python3.11/site-packages/sklearn/metrics/_regression.py:442\u001b[0m, in \u001b[0;36mmean_squared_error\u001b[0;34m(y_true, y_pred, sample_weight, multioutput, squared)\u001b[0m\n\u001b[1;32m    382\u001b[0m \u001b[38;5;28;01mdef\u001b[39;00m \u001b[38;5;21mmean_squared_error\u001b[39m(\n\u001b[1;32m    383\u001b[0m     y_true, y_pred, \u001b[38;5;241m*\u001b[39m, sample_weight\u001b[38;5;241m=\u001b[39m\u001b[38;5;28;01mNone\u001b[39;00m, multioutput\u001b[38;5;241m=\u001b[39m\u001b[38;5;124m\"\u001b[39m\u001b[38;5;124muniform_average\u001b[39m\u001b[38;5;124m\"\u001b[39m, squared\u001b[38;5;241m=\u001b[39m\u001b[38;5;28;01mTrue\u001b[39;00m\n\u001b[1;32m    384\u001b[0m ):\n\u001b[1;32m    385\u001b[0m \u001b[38;5;250m    \u001b[39m\u001b[38;5;124;03m\"\"\"Mean squared error regression loss.\u001b[39;00m\n\u001b[1;32m    386\u001b[0m \n\u001b[1;32m    387\u001b[0m \u001b[38;5;124;03m    Read more in the :ref:`User Guide <mean_squared_error>`.\u001b[39;00m\n\u001b[0;32m   (...)\u001b[0m\n\u001b[1;32m    440\u001b[0m \u001b[38;5;124;03m    0.825...\u001b[39;00m\n\u001b[1;32m    441\u001b[0m \u001b[38;5;124;03m    \"\"\"\u001b[39;00m\n\u001b[0;32m--> 442\u001b[0m     y_type, y_true, y_pred, multioutput \u001b[38;5;241m=\u001b[39m _check_reg_targets(\n\u001b[1;32m    443\u001b[0m         y_true, y_pred, multioutput\n\u001b[1;32m    444\u001b[0m     )\n\u001b[1;32m    445\u001b[0m     check_consistent_length(y_true, y_pred, sample_weight)\n\u001b[1;32m    446\u001b[0m     output_errors \u001b[38;5;241m=\u001b[39m np\u001b[38;5;241m.\u001b[39maverage((y_true \u001b[38;5;241m-\u001b[39m y_pred) \u001b[38;5;241m*\u001b[39m\u001b[38;5;241m*\u001b[39m \u001b[38;5;241m2\u001b[39m, axis\u001b[38;5;241m=\u001b[39m\u001b[38;5;241m0\u001b[39m, weights\u001b[38;5;241m=\u001b[39msample_weight)\n",
      "File \u001b[0;32m/opt/anaconda3/lib/python3.11/site-packages/sklearn/metrics/_regression.py:102\u001b[0m, in \u001b[0;36m_check_reg_targets\u001b[0;34m(y_true, y_pred, multioutput, dtype)\u001b[0m\n\u001b[1;32m    100\u001b[0m check_consistent_length(y_true, y_pred)\n\u001b[1;32m    101\u001b[0m y_true \u001b[38;5;241m=\u001b[39m check_array(y_true, ensure_2d\u001b[38;5;241m=\u001b[39m\u001b[38;5;28;01mFalse\u001b[39;00m, dtype\u001b[38;5;241m=\u001b[39mdtype)\n\u001b[0;32m--> 102\u001b[0m y_pred \u001b[38;5;241m=\u001b[39m check_array(y_pred, ensure_2d\u001b[38;5;241m=\u001b[39m\u001b[38;5;28;01mFalse\u001b[39;00m, dtype\u001b[38;5;241m=\u001b[39mdtype)\n\u001b[1;32m    104\u001b[0m \u001b[38;5;28;01mif\u001b[39;00m y_true\u001b[38;5;241m.\u001b[39mndim \u001b[38;5;241m==\u001b[39m \u001b[38;5;241m1\u001b[39m:\n\u001b[1;32m    105\u001b[0m     y_true \u001b[38;5;241m=\u001b[39m y_true\u001b[38;5;241m.\u001b[39mreshape((\u001b[38;5;241m-\u001b[39m\u001b[38;5;241m1\u001b[39m, \u001b[38;5;241m1\u001b[39m))\n",
      "File \u001b[0;32m/opt/anaconda3/lib/python3.11/site-packages/sklearn/utils/validation.py:921\u001b[0m, in \u001b[0;36mcheck_array\u001b[0;34m(array, accept_sparse, accept_large_sparse, dtype, order, copy, force_all_finite, ensure_2d, allow_nd, ensure_min_samples, ensure_min_features, estimator, input_name)\u001b[0m\n\u001b[1;32m    915\u001b[0m         \u001b[38;5;28;01mraise\u001b[39;00m \u001b[38;5;167;01mValueError\u001b[39;00m(\n\u001b[1;32m    916\u001b[0m             \u001b[38;5;124m\"\u001b[39m\u001b[38;5;124mFound array with dim \u001b[39m\u001b[38;5;132;01m%d\u001b[39;00m\u001b[38;5;124m. \u001b[39m\u001b[38;5;132;01m%s\u001b[39;00m\u001b[38;5;124m expected <= 2.\u001b[39m\u001b[38;5;124m\"\u001b[39m\n\u001b[1;32m    917\u001b[0m             \u001b[38;5;241m%\u001b[39m (array\u001b[38;5;241m.\u001b[39mndim, estimator_name)\n\u001b[1;32m    918\u001b[0m         )\n\u001b[1;32m    920\u001b[0m     \u001b[38;5;28;01mif\u001b[39;00m force_all_finite:\n\u001b[0;32m--> 921\u001b[0m         _assert_all_finite(\n\u001b[1;32m    922\u001b[0m             array,\n\u001b[1;32m    923\u001b[0m             input_name\u001b[38;5;241m=\u001b[39minput_name,\n\u001b[1;32m    924\u001b[0m             estimator_name\u001b[38;5;241m=\u001b[39mestimator_name,\n\u001b[1;32m    925\u001b[0m             allow_nan\u001b[38;5;241m=\u001b[39mforce_all_finite \u001b[38;5;241m==\u001b[39m \u001b[38;5;124m\"\u001b[39m\u001b[38;5;124mallow-nan\u001b[39m\u001b[38;5;124m\"\u001b[39m,\n\u001b[1;32m    926\u001b[0m         )\n\u001b[1;32m    928\u001b[0m \u001b[38;5;28;01mif\u001b[39;00m ensure_min_samples \u001b[38;5;241m>\u001b[39m \u001b[38;5;241m0\u001b[39m:\n\u001b[1;32m    929\u001b[0m     n_samples \u001b[38;5;241m=\u001b[39m _num_samples(array)\n",
      "File \u001b[0;32m/opt/anaconda3/lib/python3.11/site-packages/sklearn/utils/validation.py:161\u001b[0m, in \u001b[0;36m_assert_all_finite\u001b[0;34m(X, allow_nan, msg_dtype, estimator_name, input_name)\u001b[0m\n\u001b[1;32m    144\u001b[0m \u001b[38;5;28;01mif\u001b[39;00m estimator_name \u001b[38;5;129;01mand\u001b[39;00m input_name \u001b[38;5;241m==\u001b[39m \u001b[38;5;124m\"\u001b[39m\u001b[38;5;124mX\u001b[39m\u001b[38;5;124m\"\u001b[39m \u001b[38;5;129;01mand\u001b[39;00m has_nan_error:\n\u001b[1;32m    145\u001b[0m     \u001b[38;5;66;03m# Improve the error message on how to handle missing values in\u001b[39;00m\n\u001b[1;32m    146\u001b[0m     \u001b[38;5;66;03m# scikit-learn.\u001b[39;00m\n\u001b[1;32m    147\u001b[0m     msg_err \u001b[38;5;241m+\u001b[39m\u001b[38;5;241m=\u001b[39m (\n\u001b[1;32m    148\u001b[0m         \u001b[38;5;124mf\u001b[39m\u001b[38;5;124m\"\u001b[39m\u001b[38;5;130;01m\\n\u001b[39;00m\u001b[38;5;132;01m{\u001b[39;00mestimator_name\u001b[38;5;132;01m}\u001b[39;00m\u001b[38;5;124m does not accept missing values\u001b[39m\u001b[38;5;124m\"\u001b[39m\n\u001b[1;32m    149\u001b[0m         \u001b[38;5;124m\"\u001b[39m\u001b[38;5;124m encoded as NaN natively. For supervised learning, you might want\u001b[39m\u001b[38;5;124m\"\u001b[39m\n\u001b[0;32m   (...)\u001b[0m\n\u001b[1;32m    159\u001b[0m         \u001b[38;5;124m\"\u001b[39m\u001b[38;5;124m#estimators-that-handle-nan-values\u001b[39m\u001b[38;5;124m\"\u001b[39m\n\u001b[1;32m    160\u001b[0m     )\n\u001b[0;32m--> 161\u001b[0m \u001b[38;5;28;01mraise\u001b[39;00m \u001b[38;5;167;01mValueError\u001b[39;00m(msg_err)\n",
      "\u001b[0;31mValueError\u001b[0m: Input contains NaN."
     ]
    }
   ],
   "source": [
    "rmse = mean_squared_error(val,test['Avg_sunspot_count'],squared=False)\n",
    "print(rmse)"
   ]
  },
  {
   "cell_type": "code",
   "execution_count": 255,
   "id": "8441afc8-3848-451f-b463-b941316e3ed5",
   "metadata": {},
   "outputs": [],
   "source": [
    "test['Avg_sunspot_count'] = val"
   ]
  },
  {
   "cell_type": "code",
   "execution_count": 256,
   "id": "786312bc-818e-4867-954c-bc4d9046be68",
   "metadata": {},
   "outputs": [],
   "source": [
    "test['Avg_sunspot_count'] = test['Avg_sunspot_count'].rolling(2).mean()"
   ]
  },
  {
   "cell_type": "code",
   "execution_count": 260,
   "id": "5ca0e27b-abd8-4474-bc63-bbce670c3465",
   "metadata": {},
   "outputs": [],
   "source": [
    "test['Avg_sunspot_count']['2011-01-01'] = val[0]"
   ]
  },
  {
   "cell_type": "code",
   "execution_count": 259,
   "id": "3eb234ae-171b-446e-ba6b-680d7fb9208c",
   "metadata": {},
   "outputs": [],
   "source": [
    "test['Avg_sunspot_count'] = future_predictions.reshape(1,-1)[0]"
   ]
  },
  {
   "cell_type": "code",
   "execution_count": 261,
   "id": "2b7cfdec-1b22-4354-b1a5-7b2b1966e757",
   "metadata": {},
   "outputs": [
    {
     "data": {
      "text/html": [
       "<div>\n",
       "<style scoped>\n",
       "    .dataframe tbody tr th:only-of-type {\n",
       "        vertical-align: middle;\n",
       "    }\n",
       "\n",
       "    .dataframe tbody tr th {\n",
       "        vertical-align: top;\n",
       "    }\n",
       "\n",
       "    .dataframe thead th {\n",
       "        text-align: right;\n",
       "    }\n",
       "</style>\n",
       "<table border=\"1\" class=\"dataframe\">\n",
       "  <thead>\n",
       "    <tr style=\"text-align: right;\">\n",
       "      <th></th>\n",
       "      <th>Avg_sunspot_count</th>\n",
       "    </tr>\n",
       "    <tr>\n",
       "      <th>Month</th>\n",
       "      <th></th>\n",
       "    </tr>\n",
       "  </thead>\n",
       "  <tbody>\n",
       "    <tr>\n",
       "      <th>2011-01-01</th>\n",
       "      <td>27.30</td>\n",
       "    </tr>\n",
       "    <tr>\n",
       "      <th>2011-02-01</th>\n",
       "      <td>37.80</td>\n",
       "    </tr>\n",
       "    <tr>\n",
       "      <th>2011-03-01</th>\n",
       "      <td>63.45</td>\n",
       "    </tr>\n",
       "    <tr>\n",
       "      <th>2011-04-01</th>\n",
       "      <td>77.35</td>\n",
       "    </tr>\n",
       "    <tr>\n",
       "      <th>2011-05-01</th>\n",
       "      <td>67.15</td>\n",
       "    </tr>\n",
       "  </tbody>\n",
       "</table>\n",
       "</div>"
      ],
      "text/plain": [
       "            Avg_sunspot_count\n",
       "Month                        \n",
       "2011-01-01              27.30\n",
       "2011-02-01              37.80\n",
       "2011-03-01              63.45\n",
       "2011-04-01              77.35\n",
       "2011-05-01              67.15"
      ]
     },
     "execution_count": 261,
     "metadata": {},
     "output_type": "execute_result"
    }
   ],
   "source": [
    "test.head()"
   ]
  },
  {
   "cell_type": "code",
   "execution_count": 250,
   "id": "0e9b25c9-b8b5-41f0-838a-e7e37a84bba5",
   "metadata": {},
   "outputs": [],
   "source": [
    "df = pd.concat([train,test[:'2015-05-01']])"
   ]
  },
  {
   "cell_type": "code",
   "execution_count": 237,
   "id": "97ec4363-2276-4685-abe1-f9a3e8eb6342",
   "metadata": {},
   "outputs": [],
   "source": [
    "test3 = test.copy()"
   ]
  },
  {
   "cell_type": "code",
   "execution_count": 238,
   "id": "4b7f9584-0e29-4275-80fc-f8cf877704e4",
   "metadata": {},
   "outputs": [],
   "source": [
    "test3['Avg_sunspot_count'] = future_predictions.reshape(1,-1)[0]"
   ]
  },
  {
   "cell_type": "code",
   "execution_count": 239,
   "id": "2c5db61b-4853-4b91-b513-adf12645201c",
   "metadata": {},
   "outputs": [],
   "source": [
    "test['2015-05-01':] = test['2015-05-01':]-test3['2015-05-01':]"
   ]
  },
  {
   "cell_type": "code",
   "execution_count": 199,
   "id": "5428813f-1970-433a-ae38-0d895f0acb15",
   "metadata": {},
   "outputs": [],
   "source": [
    "future_predictions.reshape(1,-1)[0][87:] = np.array(SARIMA_Predictions_Submission)[87:]"
   ]
  },
  {
   "cell_type": "code",
   "execution_count": 197,
   "id": "ecf91226-5dae-404d-b30f-51adae90a81b",
   "metadata": {},
   "outputs": [],
   "source": [
    "offset = []\n",
    "for i,_ in enumerate(np.array(SARIMA_Predictions_Submission)[87:]): \n",
    "    offset.append(10*np.exp(-(1+(0.01*i))))\n",
    "\n",
    "offset = np.array(offset)\n",
    "np.array(SARIMA_Predictions_Submission)[87:] = np.array(SARIMA_Predictions_Submission)[87:] + offset"
   ]
  },
  {
   "cell_type": "code",
   "execution_count": 198,
   "id": "174b6887-9bef-4b82-8761-fae279d42d16",
   "metadata": {},
   "outputs": [
    {
     "data": {
      "text/plain": [
       "array([26.1852548 , 25.95450977, 25.78401833, 25.57442698, 25.36760334,\n",
       "       25.19745998, 24.97992205, 24.7978029 , 24.61568302, 24.40596112,\n",
       "       24.23824841, 24.04349927, 23.85164257, 23.6851059 , 23.48623185,\n",
       "       23.31255625, 23.13877071, 22.94663448, 22.78387197, 22.60251313,\n",
       "       22.42392259, 22.26289847, 22.07991173, 21.91492438, 21.74987643,\n",
       "       21.57274057, 21.41622515, 21.24701131, 21.08033   , 20.92592052,\n",
       "       20.75669018, 20.60038662, 20.44413792])"
      ]
     },
     "execution_count": 198,
     "metadata": {},
     "output_type": "execute_result"
    }
   ],
   "source": [
    "np.array(SARIMA_Predictions_Submission)[87:]"
   ]
  },
  {
   "cell_type": "markdown",
   "id": "695979d7-af58-451b-8e74-4bd0d66f45d3",
   "metadata": {},
   "source": [
    "# Appending the LSTM Prediction to the train Data Set and the performing SARIMA on the entire set"
   ]
  },
  {
   "cell_type": "code",
   "execution_count": 79,
   "id": "907fd10e-bbdd-457e-adb6-d39307af3f5b",
   "metadata": {},
   "outputs": [],
   "source": [
    "import pandas as pd\n",
    "import numpy as np\n",
    "train = pd.read_csv('train.csv',parse_dates=['Month'])\n",
    "test = pd.read_csv('test.csv',parse_dates=['Month'])\n",
    "train.set_index('Month',inplace=True)\n",
    "test.set_index('Month',inplace=True)"
   ]
  },
  {
   "cell_type": "code",
   "execution_count": 165,
   "id": "875e7914-c6b5-4522-a91d-d36bd78ac03f",
   "metadata": {
    "scrolled": true
   },
   "outputs": [],
   "source": [
    "test['Avg_sunspot_count'] = future_predictions.reshape(1,-1)[0]"
   ]
  },
  {
   "cell_type": "code",
   "execution_count": 215,
   "id": "38eb9a32-20ca-45e3-8be9-d76e83d645a3",
   "metadata": {},
   "outputs": [],
   "source": [
    "train = pd.concat([train,test])"
   ]
  },
  {
   "cell_type": "code",
   "execution_count": 218,
   "id": "a025c821-1670-4b07-a84e-faee2e5ce55d",
   "metadata": {},
   "outputs": [],
   "source": [
    "train_set = train[:-len(test.index)]\n",
    "test_set = train[-len(test.index):]"
   ]
  },
  {
   "cell_type": "code",
   "execution_count": 23,
   "id": "d60bb536-d4b9-49c2-9246-ff4698039627",
   "metadata": {},
   "outputs": [],
   "source": [
    "import pmdarima as pm"
   ]
  },
  {
   "cell_type": "code",
   "execution_count": 24,
   "id": "f15c7e07-63b0-4d45-b915-dcd0537a9eac",
   "metadata": {},
   "outputs": [
    {
     "name": "stdout",
     "output_type": "stream",
     "text": [
      " ARIMA(0,0,0)(0,0,0)[11] intercept   : AIC=35497.779, Time=0.34 sec\n",
      " ARIMA(0,0,0)(0,0,1)[11] intercept   : AIC=33661.989, Time=1.24 sec\n",
      " ARIMA(0,0,0)(0,0,2)[11] intercept   : AIC=32929.470, Time=3.80 sec\n",
      " ARIMA(0,0,0)(1,0,0)[11] intercept   : AIC=32915.237, Time=2.60 sec\n",
      " ARIMA(0,0,0)(1,0,1)[11] intercept   : AIC=32767.058, Time=3.20 sec\n",
      " ARIMA(0,0,0)(1,0,2)[11] intercept   : AIC=32609.876, Time=12.41 sec\n",
      " ARIMA(0,0,0)(2,0,0)[11] intercept   : AIC=32648.337, Time=7.45 sec\n",
      " ARIMA(0,0,0)(2,0,1)[11] intercept   : AIC=inf, Time=14.40 sec\n",
      " ARIMA(0,0,0)(2,0,2)[11] intercept   : AIC=inf, Time=14.33 sec\n",
      " ARIMA(0,0,1)(0,0,0)[11] intercept   : AIC=33009.387, Time=0.46 sec\n",
      " ARIMA(0,0,1)(0,0,1)[11] intercept   : AIC=32029.359, Time=2.74 sec\n",
      " ARIMA(0,0,1)(0,0,2)[11] intercept   : AIC=31604.560, Time=7.66 sec\n",
      " ARIMA(0,0,1)(1,0,0)[11] intercept   : AIC=31555.926, Time=3.36 sec\n",
      " ARIMA(0,0,1)(1,0,1)[11] intercept   : AIC=31545.935, Time=5.94 sec\n",
      " ARIMA(0,0,1)(1,0,2)[11] intercept   : AIC=31455.888, Time=20.82 sec\n",
      " ARIMA(0,0,1)(2,0,0)[11] intercept   : AIC=31536.511, Time=10.74 sec\n",
      " ARIMA(0,0,1)(2,0,1)[11] intercept   : AIC=inf, Time=12.06 sec\n",
      " ARIMA(0,0,1)(2,0,2)[11] intercept   : AIC=31537.728, Time=24.15 sec\n",
      " ARIMA(0,0,2)(0,0,0)[11] intercept   : AIC=31802.194, Time=1.12 sec\n",
      " ARIMA(0,0,2)(0,0,1)[11] intercept   : AIC=31277.797, Time=5.81 sec\n",
      " ARIMA(0,0,2)(0,0,2)[11] intercept   : AIC=31031.822, Time=8.64 sec\n",
      " ARIMA(0,0,2)(1,0,0)[11] intercept   : AIC=31017.558, Time=6.48 sec\n",
      " ARIMA(0,0,2)(1,0,1)[11] intercept   : AIC=31016.855, Time=8.78 sec\n",
      " ARIMA(0,0,2)(1,0,2)[11] intercept   : AIC=30957.026, Time=23.07 sec\n",
      " ARIMA(0,0,2)(2,0,0)[11] intercept   : AIC=31014.892, Time=12.69 sec\n",
      " ARIMA(0,0,2)(2,0,1)[11] intercept   : AIC=inf, Time=18.58 sec\n",
      " ARIMA(0,0,3)(0,0,0)[11] intercept   : AIC=31182.120, Time=1.67 sec\n",
      " ARIMA(0,0,3)(0,0,1)[11] intercept   : AIC=30841.488, Time=6.48 sec\n",
      " ARIMA(0,0,3)(0,0,2)[11] intercept   : AIC=30687.120, Time=12.53 sec\n",
      " ARIMA(0,0,3)(1,0,0)[11] intercept   : AIC=30695.339, Time=6.43 sec\n",
      " ARIMA(0,0,3)(1,0,1)[11] intercept   : AIC=30685.534, Time=11.27 sec\n",
      " ARIMA(0,0,3)(2,0,0)[11] intercept   : AIC=30677.923, Time=17.14 sec\n",
      " ARIMA(0,0,4)(0,0,0)[11] intercept   : AIC=30783.428, Time=2.09 sec\n",
      " ARIMA(0,0,4)(0,0,1)[11] intercept   : AIC=30583.013, Time=7.33 sec\n",
      " ARIMA(0,0,4)(1,0,0)[11] intercept   : AIC=30483.058, Time=7.95 sec\n",
      " ARIMA(0,0,5)(0,0,0)[11] intercept   : AIC=30534.182, Time=2.96 sec\n",
      " ARIMA(1,0,0)(0,0,0)[11] intercept   : AIC=29698.990, Time=0.33 sec\n",
      " ARIMA(1,0,0)(0,0,1)[11] intercept   : AIC=29694.690, Time=2.04 sec\n",
      " ARIMA(1,0,0)(0,0,2)[11] intercept   : AIC=29695.857, Time=9.18 sec\n",
      " ARIMA(1,0,0)(1,0,0)[11] intercept   : AIC=29694.481, Time=2.58 sec\n",
      " ARIMA(1,0,0)(1,0,1)[11] intercept   : AIC=29696.060, Time=3.74 sec\n",
      " ARIMA(1,0,0)(1,0,2)[11] intercept   : AIC=29697.993, Time=10.87 sec\n",
      " ARIMA(1,0,0)(2,0,0)[11] intercept   : AIC=29695.897, Time=15.14 sec\n",
      " ARIMA(1,0,0)(2,0,1)[11] intercept   : AIC=29697.790, Time=24.40 sec\n",
      " ARIMA(1,0,0)(2,0,2)[11] intercept   : AIC=29699.733, Time=22.82 sec\n",
      " ARIMA(1,0,1)(0,0,0)[11] intercept   : AIC=29306.120, Time=0.74 sec\n",
      " ARIMA(1,0,1)(0,0,1)[11] intercept   : AIC=29297.715, Time=4.22 sec\n",
      " ARIMA(1,0,1)(0,0,2)[11] intercept   : AIC=29299.586, Time=11.56 sec\n",
      " ARIMA(1,0,1)(1,0,0)[11] intercept   : AIC=29297.618, Time=4.27 sec\n",
      " ARIMA(1,0,1)(1,0,1)[11] intercept   : AIC=29299.602, Time=10.25 sec\n",
      " ARIMA(1,0,1)(1,0,2)[11] intercept   : AIC=29301.586, Time=17.00 sec\n",
      " ARIMA(1,0,1)(2,0,0)[11] intercept   : AIC=29299.599, Time=19.95 sec\n",
      " ARIMA(1,0,1)(2,0,1)[11] intercept   : AIC=29301.593, Time=17.75 sec\n",
      " ARIMA(1,0,2)(0,0,0)[11] intercept   : AIC=29263.998, Time=1.22 sec\n",
      " ARIMA(1,0,2)(0,0,1)[11] intercept   : AIC=29252.735, Time=6.64 sec\n",
      " ARIMA(1,0,2)(0,0,2)[11] intercept   : AIC=29254.559, Time=12.63 sec\n",
      " ARIMA(1,0,2)(1,0,0)[11] intercept   : AIC=29252.610, Time=5.73 sec\n",
      " ARIMA(1,0,2)(1,0,1)[11] intercept   : AIC=29254.605, Time=11.83 sec\n",
      " ARIMA(1,0,2)(2,0,0)[11] intercept   : AIC=29254.603, Time=22.51 sec\n",
      " ARIMA(1,0,3)(0,0,0)[11] intercept   : AIC=29265.965, Time=1.66 sec\n",
      " ARIMA(1,0,3)(0,0,1)[11] intercept   : AIC=29254.685, Time=8.49 sec\n",
      " ARIMA(1,0,3)(1,0,0)[11] intercept   : AIC=29254.567, Time=10.25 sec\n",
      " ARIMA(1,0,4)(0,0,0)[11] intercept   : AIC=29260.471, Time=2.24 sec\n",
      " ARIMA(2,0,0)(0,0,0)[11] intercept   : AIC=29456.482, Time=0.37 sec\n",
      " ARIMA(2,0,0)(0,0,1)[11] intercept   : AIC=29453.437, Time=2.98 sec\n",
      " ARIMA(2,0,0)(0,0,2)[11] intercept   : AIC=29455.006, Time=10.57 sec\n",
      " ARIMA(2,0,0)(1,0,0)[11] intercept   : AIC=29453.321, Time=5.54 sec\n",
      " ARIMA(2,0,0)(1,0,1)[11] intercept   : AIC=29455.041, Time=7.35 sec\n",
      " ARIMA(2,0,0)(1,0,2)[11] intercept   : AIC=29456.995, Time=22.10 sec\n",
      " ARIMA(2,0,0)(2,0,0)[11] intercept   : AIC=29454.999, Time=16.69 sec\n",
      " ARIMA(2,0,0)(2,0,1)[11] intercept   : AIC=29457.122, Time=14.15 sec\n",
      " ARIMA(2,0,1)(0,0,0)[11] intercept   : AIC=29268.568, Time=0.95 sec\n",
      " ARIMA(2,0,1)(0,0,1)[11] intercept   : AIC=29257.727, Time=6.22 sec\n",
      " ARIMA(2,0,1)(0,0,2)[11] intercept   : AIC=29259.475, Time=18.77 sec\n",
      " ARIMA(2,0,1)(1,0,0)[11] intercept   : AIC=29257.564, Time=12.64 sec\n",
      " ARIMA(2,0,1)(1,0,1)[11] intercept   : AIC=29259.543, Time=13.71 sec\n",
      " ARIMA(2,0,1)(2,0,0)[11] intercept   : AIC=29259.534, Time=37.71 sec\n",
      " ARIMA(2,0,2)(0,0,0)[11] intercept   : AIC=29265.980, Time=1.41 sec\n",
      " ARIMA(2,0,2)(0,0,1)[11] intercept   : AIC=29254.707, Time=6.84 sec\n",
      " ARIMA(2,0,2)(1,0,0)[11] intercept   : AIC=29254.586, Time=9.10 sec\n",
      " ARIMA(2,0,3)(0,0,0)[11] intercept   : AIC=29266.243, Time=1.75 sec\n",
      " ARIMA(3,0,0)(0,0,0)[11] intercept   : AIC=29337.760, Time=0.35 sec\n",
      " ARIMA(3,0,0)(0,0,1)[11] intercept   : AIC=29331.600, Time=7.59 sec\n",
      " ARIMA(3,0,0)(0,0,2)[11] intercept   : AIC=29333.600, Time=15.67 sec\n",
      " ARIMA(3,0,0)(1,0,0)[11] intercept   : AIC=29331.626, Time=7.53 sec\n",
      " ARIMA(3,0,0)(1,0,1)[11] intercept   : AIC=29333.600, Time=20.47 sec\n",
      " ARIMA(3,0,0)(2,0,0)[11] intercept   : AIC=29333.596, Time=48.97 sec\n",
      " ARIMA(3,0,1)(0,0,0)[11] intercept   : AIC=29263.591, Time=2.29 sec\n",
      " ARIMA(3,0,1)(0,0,1)[11] intercept   : AIC=29252.176, Time=18.43 sec\n",
      " ARIMA(3,0,1)(1,0,0)[11] intercept   : AIC=29252.073, Time=15.90 sec\n",
      " ARIMA(3,0,2)(0,0,0)[11] intercept   : AIC=29123.969, Time=4.97 sec\n",
      " ARIMA(4,0,0)(0,0,0)[11] intercept   : AIC=29276.629, Time=0.93 sec\n",
      " ARIMA(4,0,0)(0,0,1)[11] intercept   : AIC=29268.415, Time=14.13 sec\n",
      " ARIMA(4,0,0)(1,0,0)[11] intercept   : AIC=29268.365, Time=18.57 sec\n",
      " ARIMA(4,0,1)(0,0,0)[11] intercept   : AIC=29261.134, Time=4.25 sec\n",
      " ARIMA(5,0,0)(0,0,0)[11] intercept   : AIC=29266.254, Time=1.01 sec\n",
      "\n",
      "Best model:  ARIMA(3,0,2)(0,0,0)[11] intercept\n",
      "Total fit time: 939.108 seconds\n",
      "                               SARIMAX Results                                \n",
      "==============================================================================\n",
      "Dep. Variable:                      y   No. Observations:                 3144\n",
      "Model:               SARIMAX(3, 0, 2)   Log Likelihood              -14554.985\n",
      "Date:                Fri, 31 May 2024   AIC                          29123.969\n",
      "Time:                        19:45:39   BIC                          29166.342\n",
      "Sample:                    01-01-1749   HQIC                         29139.174\n",
      "                         - 12-01-2010                                         \n",
      "Covariance Type:                  opg                                         \n",
      "==============================================================================\n",
      "                 coef    std err          z      P>|z|      [0.025      0.975]\n",
      "------------------------------------------------------------------------------\n",
      "intercept      0.1184      0.026      4.572      0.000       0.068       0.169\n",
      "ar.L1          2.3217      0.020    114.217      0.000       2.282       2.362\n",
      "ar.L2         -1.6733      0.041    -41.206      0.000      -1.753      -1.594\n",
      "ar.L3          0.3501      0.021     16.931      0.000       0.310       0.391\n",
      "ma.L1         -1.7883      0.013   -134.555      0.000      -1.814      -1.762\n",
      "ma.L2          0.8127      0.013     60.990      0.000       0.787       0.839\n",
      "sigma2       619.9703     10.316     60.100      0.000     599.752     640.189\n",
      "===================================================================================\n",
      "Ljung-Box (L1) (Q):                   0.03   Jarque-Bera (JB):              1413.89\n",
      "Prob(Q):                              0.86   Prob(JB):                         0.00\n",
      "Heteroskedasticity (H):               1.03   Skew:                             0.52\n",
      "Prob(H) (two-sided):                  0.62   Kurtosis:                         6.12\n",
      "===================================================================================\n",
      "\n",
      "Warnings:\n",
      "[1] Covariance matrix calculated using the outer product of gradients (complex-step).\n"
     ]
    }
   ],
   "source": [
    "import pmdarima as pm\n",
    "\n",
    "auto_model = pm.auto_arima(train,\n",
    "                           seasonal=True,\n",
    "                           m=11,  # Seasonality cycle\n",
    "                           stepwise=False,\n",
    "                           scoring='mae',\n",
    "                           test='adf',\n",
    "                           trace=True)\n",
    "print(auto_model.summary())"
   ]
  },
  {
   "cell_type": "code",
   "execution_count": 25,
   "id": "2bbff59d-1132-42ce-8f0c-95591624376b",
   "metadata": {},
   "outputs": [
    {
     "name": "stderr",
     "output_type": "stream",
     "text": [
      "/opt/anaconda3/lib/python3.11/site-packages/statsmodels/tsa/base/tsa_model.py:473: ValueWarning: No frequency information was provided, so inferred frequency MS will be used.\n",
      "  self._init_dates(dates, freq)\n",
      "/opt/anaconda3/lib/python3.11/site-packages/statsmodels/tsa/base/tsa_model.py:473: ValueWarning: No frequency information was provided, so inferred frequency MS will be used.\n",
      "  self._init_dates(dates, freq)\n",
      "/opt/anaconda3/lib/python3.11/site-packages/statsmodels/tsa/base/tsa_model.py:473: ValueWarning: No frequency information was provided, so inferred frequency MS will be used.\n",
      "  self._init_dates(dates, freq)\n",
      "/opt/anaconda3/lib/python3.11/site-packages/statsmodels/base/model.py:607: ConvergenceWarning: Maximum Likelihood optimization failed to converge. Check mle_retvals\n",
      "  warnings.warn(\"Maximum Likelihood optimization failed to \"\n"
     ]
    },
    {
     "name": "stdout",
     "output_type": "stream",
     "text": [
      "                               SARIMAX Results                                \n",
      "==============================================================================\n",
      "Dep. Variable:      Avg_sunspot_count   No. Observations:                 3143\n",
      "Model:                 ARIMA(6, 0, 5)   Log Likelihood              -14584.512\n",
      "Date:                Fri, 31 May 2024   AIC                          29195.023\n",
      "Time:                        04:07:58   BIC                          29273.711\n",
      "Sample:                    02-01-1749   HQIC                         29223.260\n",
      "                         - 12-01-2010                                         \n",
      "Covariance Type:                  opg                                         \n",
      "==============================================================================\n",
      "                 coef    std err          z      P>|z|      [0.025      0.975]\n",
      "------------------------------------------------------------------------------\n",
      "const         -0.0070      0.367     -0.019      0.985      -0.726       0.712\n",
      "ar.L1         -0.7764      0.748     -1.037      0.300      -2.243       0.690\n",
      "ar.L2          0.5514      0.048     11.546      0.000       0.458       0.645\n",
      "ar.L3          1.1320      0.391      2.894      0.004       0.365       1.899\n",
      "ar.L4          0.2105      0.535      0.393      0.694      -0.839       1.260\n",
      "ar.L5         -0.3489      0.263     -1.325      0.185      -0.865       0.167\n",
      "ar.L6         -0.0599      0.046     -1.306      0.191      -0.150       0.030\n",
      "ma.L1          0.3361      0.750      0.448      0.654      -1.133       1.805\n",
      "ma.L2         -1.0282      0.336     -3.063      0.002      -1.686      -0.370\n",
      "ma.L3         -1.0348      0.495     -2.090      0.037      -2.005      -0.064\n",
      "ma.L4          0.3497      0.398      0.878      0.380      -0.431       1.130\n",
      "ma.L5          0.6015      0.568      1.059      0.290      -0.512       1.715\n",
      "sigma2       627.2806     10.288     60.971      0.000     607.116     647.445\n",
      "===================================================================================\n",
      "Ljung-Box (L1) (Q):                   0.01   Jarque-Bera (JB):              1173.80\n",
      "Prob(Q):                              0.91   Prob(JB):                         0.00\n",
      "Heteroskedasticity (H):               1.05   Skew:                             0.26\n",
      "Prob(H) (two-sided):                  0.45   Kurtosis:                         5.95\n",
      "===================================================================================\n",
      "\n",
      "Warnings:\n",
      "[1] Covariance matrix calculated using the outer product of gradients (complex-step).\n"
     ]
    }
   ],
   "source": [
    "import statsmodels.api as sm\n",
    "\n",
    "model = sm.tsa.arima.ARIMA(train, order=(6,0,5))\n",
    "results_Arima = model.fit()\n",
    "print(results_Arima.summary())"
   ]
  },
  {
   "cell_type": "code",
   "execution_count": 26,
   "id": "eb98df06-ffb5-49ba-9212-5653bafe1ea3",
   "metadata": {},
   "outputs": [],
   "source": [
    "ARIMA_predictions=results_Arima.forecast(len(test))\n",
    "#test['Avg_sunspot_count']['2015-05-01':] = ARIMA_predictions"
   ]
  },
  {
   "cell_type": "code",
   "execution_count": 27,
   "id": "47ee9ea0-4a5e-4757-8808-61eb4e5afc3e",
   "metadata": {},
   "outputs": [
    {
     "data": {
      "image/png": "[encoded data removed]",
      "text/plain": [
       "<Figure size 640x480 with 1 Axes>"
      ]
     },
     "metadata": {},
     "output_type": "display_data"
    }
   ],
   "source": [
    "plt.plot(train.diff(),label='Training Data')\n",
    "#plt.plot(train_testset,label='Test Data')\n",
    "plt.plot(test.index,ARIMA_predictions,label='Predicted Data - ARIMA')\n",
    "plt.legend(loc='best')\n",
    "plt.grid();"
   ]
  },
  {
   "cell_type": "code",
   "execution_count": null,
   "id": "1fbeed69-df2f-468c-bb03-b9dcc2ac0f6d",
   "metadata": {},
   "outputs": [],
   "source": []
  },
  {
   "cell_type": "code",
   "execution_count": 257,
   "id": "c8cdfe0e-213b-4817-996c-1f6a4dff58fa",
   "metadata": {},
   "outputs": [
    {
     "data": {
      "text/html": [
       "<div>\n",
       "<style scoped>\n",
       "    .dataframe tbody tr th:only-of-type {\n",
       "        vertical-align: middle;\n",
       "    }\n",
       "\n",
       "    .dataframe tbody tr th {\n",
       "        vertical-align: top;\n",
       "    }\n",
       "\n",
       "    .dataframe thead th {\n",
       "        text-align: right;\n",
       "    }\n",
       "</style>\n",
       "<table border=\"1\" class=\"dataframe\">\n",
       "  <thead>\n",
       "    <tr style=\"text-align: right;\">\n",
       "      <th></th>\n",
       "      <th>Avg_sunspot_count</th>\n",
       "    </tr>\n",
       "    <tr>\n",
       "      <th>Month</th>\n",
       "      <th></th>\n",
       "    </tr>\n",
       "  </thead>\n",
       "  <tbody>\n",
       "    <tr>\n",
       "      <th>2020-08-01</th>\n",
       "      <td>5.057324</td>\n",
       "    </tr>\n",
       "    <tr>\n",
       "      <th>2020-09-01</th>\n",
       "      <td>4.727926</td>\n",
       "    </tr>\n",
       "    <tr>\n",
       "      <th>2020-10-01</th>\n",
       "      <td>4.390193</td>\n",
       "    </tr>\n",
       "    <tr>\n",
       "      <th>2020-11-01</th>\n",
       "      <td>4.123172</td>\n",
       "    </tr>\n",
       "    <tr>\n",
       "      <th>2020-12-01</th>\n",
       "      <td>3.804710</td>\n",
       "    </tr>\n",
       "  </tbody>\n",
       "</table>\n",
       "</div>"
      ],
      "text/plain": [
       "            Avg_sunspot_count\n",
       "Month                        \n",
       "2020-08-01           5.057324\n",
       "2020-09-01           4.727926\n",
       "2020-10-01           4.390193\n",
       "2020-11-01           4.123172\n",
       "2020-12-01           3.804710"
      ]
     },
     "execution_count": 257,
     "metadata": {},
     "output_type": "execute_result"
    }
   ],
   "source": [
    "df = pd.concat([train,test])\n",
    "df.tail()"
   ]
  },
  {
   "cell_type": "code",
   "execution_count": 57,
   "id": "124aa1d1-b27f-4ff5-a5aa-309aab51bc6e",
   "metadata": {},
   "outputs": [
    {
     "name": "stdout",
     "output_type": "stream",
     "text": [
      "Performing stepwise search to minimize aic\n",
      " ARIMA(2,0,2)(1,0,1)[12] intercept   : AIC=-8358.255, Time=8.16 sec\n",
      " ARIMA(0,0,0)(0,0,0)[12] intercept   : AIC=-7812.357, Time=0.36 sec\n",
      " ARIMA(1,0,0)(1,0,0)[12] intercept   : AIC=-8112.576, Time=1.11 sec\n",
      " ARIMA(0,0,1)(0,0,1)[12] intercept   : AIC=-8307.112, Time=1.72 sec\n",
      " ARIMA(0,0,0)(0,0,0)[12]             : AIC=-7814.355, Time=0.24 sec\n",
      " ARIMA(2,0,2)(0,0,1)[12] intercept   : AIC=-8359.964, Time=7.30 sec\n",
      " ARIMA(2,0,2)(0,0,0)[12] intercept   : AIC=-8353.525, Time=1.96 sec\n",
      " ARIMA(2,0,2)(0,0,2)[12] intercept   : AIC=-8359.815, Time=19.83 sec\n",
      " ARIMA(2,0,2)(1,0,0)[12] intercept   : AIC=-8359.418, Time=6.33 sec\n",
      " ARIMA(2,0,2)(1,0,2)[12] intercept   : AIC=-8383.041, Time=23.87 sec\n",
      " ARIMA(2,0,2)(2,0,2)[12] intercept   : AIC=-8356.114, Time=24.43 sec\n",
      " ARIMA(2,0,2)(2,0,1)[12] intercept   : AIC=-8357.815, Time=21.73 sec\n",
      " ARIMA(1,0,2)(1,0,2)[12] intercept   : AIC=-8357.020, Time=26.55 sec\n",
      " ARIMA(2,0,1)(1,0,2)[12] intercept   : AIC=-8359.084, Time=19.49 sec\n",
      " ARIMA(3,0,2)(1,0,2)[12] intercept   : AIC=-8360.323, Time=27.86 sec\n",
      " ARIMA(2,0,3)(1,0,2)[12] intercept   : AIC=-8359.006, Time=25.61 sec\n",
      " ARIMA(1,0,1)(1,0,2)[12] intercept   : AIC=-8354.426, Time=15.90 sec\n",
      " ARIMA(1,0,3)(1,0,2)[12] intercept   : AIC=-8357.279, Time=10.53 sec\n",
      " ARIMA(3,0,1)(1,0,2)[12] intercept   : AIC=-8362.456, Time=20.21 sec\n",
      " ARIMA(3,0,3)(1,0,2)[12] intercept   : AIC=-8357.347, Time=27.80 sec\n",
      " ARIMA(2,0,2)(1,0,2)[12]             : AIC=-8426.243, Time=9.38 sec\n",
      " ARIMA(2,0,2)(0,0,2)[12]             : AIC=-8429.651, Time=8.50 sec\n",
      " ARIMA(2,0,2)(0,0,1)[12]             : AIC=-8429.682, Time=3.70 sec\n",
      " ARIMA(2,0,2)(0,0,0)[12]             : AIC=-8431.167, Time=1.29 sec\n",
      " ARIMA(2,0,2)(1,0,0)[12]             : AIC=-8429.347, Time=3.08 sec\n",
      " ARIMA(2,0,2)(1,0,1)[12]             : AIC=inf, Time=4.43 sec\n",
      " ARIMA(1,0,2)(0,0,0)[12]             : AIC=-8353.137, Time=0.54 sec\n",
      " ARIMA(2,0,1)(0,0,0)[12]             : AIC=-8355.158, Time=0.50 sec\n",
      " ARIMA(3,0,2)(0,0,0)[12]             : AIC=-8354.958, Time=1.03 sec\n",
      " ARIMA(2,0,3)(0,0,0)[12]             : AIC=-8353.819, Time=1.28 sec\n",
      " ARIMA(1,0,1)(0,0,0)[12]             : AIC=-8350.772, Time=0.31 sec\n",
      " ARIMA(1,0,3)(0,0,0)[12]             : AIC=-8353.291, Time=0.89 sec\n",
      " ARIMA(3,0,1)(0,0,0)[12]             : AIC=-8357.030, Time=0.89 sec\n",
      " ARIMA(3,0,3)(0,0,0)[12]             : AIC=-8351.906, Time=1.42 sec\n",
      "\n",
      "Best model:  ARIMA(2,0,2)(0,0,0)[12]          \n",
      "Total fit time: 328.237 seconds\n",
      "                               SARIMAX Results                                \n",
      "==============================================================================\n",
      "Dep. Variable:                      y   No. Observations:                 3143\n",
      "Model:               SARIMAX(2, 0, 2)   Log Likelihood                4220.584\n",
      "Date:                Fri, 31 May 2024   AIC                          -8431.167\n",
      "Time:                        04:29:52   BIC                          -8400.903\n",
      "Sample:                    02-01-1749   HQIC                         -8420.307\n",
      "                         - 12-01-2010                                         \n",
      "Covariance Type:                  opg                                         \n",
      "==============================================================================\n",
      "                 coef    std err          z      P>|z|      [0.025      0.975]\n",
      "------------------------------------------------------------------------------\n",
      "ar.L1          1.3267      0.021     63.044      0.000       1.285       1.368\n",
      "ar.L2         -0.3780      0.021    -17.792      0.000      -0.420      -0.336\n",
      "ma.L1         -1.7607      0.014   -127.471      0.000      -1.788      -1.734\n",
      "ma.L2          0.8004      0.014     58.554      0.000       0.774       0.827\n",
      "sigma2         0.0040   6.44e-05     61.941      0.000       0.004       0.004\n",
      "===================================================================================\n",
      "Ljung-Box (L1) (Q):                   0.16   Jarque-Bera (JB):              1159.49\n",
      "Prob(Q):                              0.68   Prob(JB):                         0.00\n",
      "Heteroskedasticity (H):               1.05   Skew:                             0.26\n",
      "Prob(H) (two-sided):                  0.47   Kurtosis:                         5.93\n",
      "===================================================================================\n",
      "\n",
      "Warnings:\n",
      "[1] Covariance matrix calculated using the outer product of gradients (complex-step).\n"
     ]
    }
   ],
   "source": [
    "import pmdarima as pm\n",
    "\n",
    "auto_model = pm.auto_arima(train.diff().dropna(),\n",
    "                           seasonal=True,\n",
    "                           stationary=True,\n",
    "                           m=12,  # Seasonality cycle\n",
    "                           stepwise=True,\n",
    "                           scoring='mse',\n",
    "                           test='adf',\n",
    "                           trace=True)\n",
    "print(auto_model.summary())"
   ]
  },
  {
   "cell_type": "code",
   "execution_count": 58,
   "id": "dbe9adff-9244-43fd-9c4c-4dc1cbdfc640",
   "metadata": {},
   "outputs": [
    {
     "name": "stderr",
     "output_type": "stream",
     "text": [
      "/opt/anaconda3/lib/python3.11/site-packages/statsmodels/tsa/base/tsa_model.py:473: ValueWarning: No frequency information was provided, so inferred frequency MS will be used.\n",
      "  self._init_dates(dates, freq)\n",
      "/opt/anaconda3/lib/python3.11/site-packages/statsmodels/tsa/base/tsa_model.py:473: ValueWarning: No frequency information was provided, so inferred frequency MS will be used.\n",
      "  self._init_dates(dates, freq)\n"
     ]
    },
    {
     "name": "stdout",
     "output_type": "stream",
     "text": [
      "                               SARIMAX Results                                \n",
      "==============================================================================\n",
      "Dep. Variable:      Avg_sunspot_count   No. Observations:                 3143\n",
      "Model:               SARIMAX(2, 0, 2)   Log Likelihood                4220.584\n",
      "Date:                Fri, 31 May 2024   AIC                          -8431.167\n",
      "Time:                        04:30:07   BIC                          -8400.903\n",
      "Sample:                    02-01-1749   HQIC                         -8420.307\n",
      "                         - 12-01-2010                                         \n",
      "Covariance Type:                  opg                                         \n",
      "==============================================================================\n",
      "                 coef    std err          z      P>|z|      [0.025      0.975]\n",
      "------------------------------------------------------------------------------\n",
      "ar.L1          1.3267      0.021     63.044      0.000       1.285       1.368\n",
      "ar.L2         -0.3780      0.021    -17.792      0.000      -0.420      -0.336\n",
      "ma.L1         -1.7607      0.014   -127.471      0.000      -1.788      -1.734\n",
      "ma.L2          0.8004      0.014     58.554      0.000       0.774       0.827\n",
      "sigma2         0.0040   6.44e-05     61.941      0.000       0.004       0.004\n",
      "===================================================================================\n",
      "Ljung-Box (L1) (Q):                   0.16   Jarque-Bera (JB):              1159.49\n",
      "Prob(Q):                              0.68   Prob(JB):                         0.00\n",
      "Heteroskedasticity (H):               1.05   Skew:                             0.26\n",
      "Prob(H) (two-sided):                  0.47   Kurtosis:                         5.93\n",
      "===================================================================================\n",
      "\n",
      "Warnings:\n",
      "[1] Covariance matrix calculated using the outer product of gradients (complex-step).\n"
     ]
    }
   ],
   "source": [
    "from statsmodels.tsa.statespace.sarimax import SARIMAX\n",
    "from sklearn.metrics import mean_squared_error\n",
    "model = SARIMAX(train.diff().dropna(),\n",
    "                order=auto_model.order,\n",
    "                seasonal_order=auto_model.seasonal_order,\n",
    "                time_varying_regression=True,\n",
    "                mle_regression=False,\n",
    "                validate_specification=False)  # Use seasonal_order suggested by auto_arima\n",
    "model_fit = model.fit(disp=False)\n",
    "print(model_fit.summary())"
   ]
  },
  {
   "cell_type": "code",
   "execution_count": 59,
   "id": "fb84c9f7-9153-4145-80a4-90e52b0653e2",
   "metadata": {},
   "outputs": [],
   "source": [
    "SARIMA_Predictions_Submission = model_fit.forecast(len(test))"
   ]
  },
  {
   "cell_type": "code",
   "execution_count": 60,
   "id": "f32cca0a-d084-43f8-b7ce-509ecc9478ce",
   "metadata": {},
   "outputs": [
    {
     "data": {
      "text/plain": [
       "array([1.06587289e-02, 5.89270604e-03, 3.78849431e-03, 2.79853660e-03,\n",
       "       2.28061701e-03, 1.96772951e-03, 1.74841360e-03, 1.57573071e-03,\n",
       "       1.42954280e-03, 1.30087691e-03, 1.18544139e-03, 1.08093458e-03,\n",
       "       9.85925227e-04, 8.99384635e-04, 8.20489077e-04, 7.48534614e-04,\n",
       "       6.82898731e-04, 6.23021661e-04, 5.68396097e-04, 5.18560613e-04,\n",
       "       4.73094822e-04, 4.31615433e-04, 3.93772862e-04, 3.59248216e-04,\n",
       "       3.27750580e-04, 2.99014550e-04, 2.72797996e-04, 2.48880019e-04,\n",
       "       2.27059087e-04, 2.07151338e-04, 1.88989031e-04, 1.72419132e-04,\n",
       "       1.57302024e-04, 1.43510331e-04, 1.30927846e-04, 1.19448549e-04,\n",
       "       1.08975717e-04, 9.94211064e-05, 9.07042106e-05, 8.27515818e-05,\n",
       "       7.54962118e-05, 6.88769673e-05, 6.28380750e-05, 5.73286518e-05,\n",
       "       5.23022756e-05, 4.77165945e-05, 4.35329700e-05, 3.97161510e-05,\n",
       "       3.62339774e-05, 3.30571087e-05, 3.01587767e-05, 2.75145604e-05,\n",
       "       2.51021797e-05, 2.29013081e-05, 2.08934013e-05, 1.90615408e-05,\n",
       "       1.73902914e-05, 1.58655713e-05, 1.44745333e-05, 1.32054567e-05,\n",
       "       1.20476484e-05, 1.09913526e-05, 1.00276691e-05, 9.14847807e-06,\n",
       "       8.34637143e-06, 7.61459069e-06, 6.94696994e-06, 6.33788385e-06,\n",
       "       5.78220030e-06, 5.27523715e-06, 4.81272276e-06, 4.39076002e-06,\n",
       "       4.00579349e-06, 3.65457949e-06, 3.33415871e-06, 3.04183131e-06,\n",
       "       2.77513415e-06, 2.53182007e-06, 2.30983891e-06, 2.10732030e-06,\n",
       "       1.92255780e-06, 1.75399464e-06, 1.60021051e-06, 1.45990963e-06,\n",
       "       1.33190985e-06, 1.21513264e-06, 1.10859405e-06, 1.01139639e-06,\n",
       "       9.22720682e-07, 8.41819751e-07, 7.68011932e-07, 7.00675325e-07,\n",
       "       6.39242556e-07, 5.83195999e-07, 5.32063408e-07, 4.85413944e-07,\n",
       "       4.42854543e-07, 4.04026601e-07, 3.68602958e-07, 3.36285137e-07,\n",
       "       3.06800829e-07, 2.79901602e-07, 2.55360806e-07, 2.32971662e-07,\n",
       "       2.12545519e-07, 1.93910269e-07, 1.76908893e-07, 1.61398139e-07,\n",
       "       1.47247313e-07, 1.34337182e-07, 1.22558967e-07, 1.11813424e-07,\n",
       "       1.02010013e-07, 9.30661308e-08, 8.49064171e-08, 7.74621186e-08,\n",
       "       7.06705103e-08, 6.44743664e-08, 5.88214789e-08, 5.36642168e-08])"
      ]
     },
     "execution_count": 60,
     "metadata": {},
     "output_type": "execute_result"
    }
   ],
   "source": [
    "np.array(SARIMA_Predictions_Submission)"
   ]
  },
  {
   "cell_type": "markdown",
   "id": "ef70420b-cd3f-4da5-8503-6179383bac19",
   "metadata": {},
   "source": [
    "# Prophet Model"
   ]
  },
  {
   "cell_type": "code",
   "execution_count": 22,
   "id": "16d1d720-7ca2-4238-838a-7b52b8be5363",
   "metadata": {},
   "outputs": [
    {
     "name": "stderr",
     "output_type": "stream",
     "text": [
      "15:48:50 - cmdstanpy - INFO - Chain [1] start processing\n",
      "15:48:50 - cmdstanpy - INFO - Chain [1] done processing\n"
     ]
    }
   ],
   "source": [
    "from prophet import Prophet\n",
    "import pandas as pd\n",
    "\n",
    "train = pd.read_csv('train.csv',parse_dates = ['Month'])\n",
    "test = pd.read_csv('test.csv',parse_dates = ['Month'])\n",
    "\n",
    "# Prepare data for Prophet\n",
    "df = train.copy()\n",
    "df.columns = ['ds','y']\n",
    "\n",
    "# Define and fit the model\n",
    "model = Prophet(growth='flat',\n",
    "                seasonality_mode='additive',\n",
    "                seasonality_prior_scale= 10000\n",
    "               )\n",
    "model.fit(df)\n",
    "\n",
    "# Make future dataframe and predictions\n",
    "future = model.make_future_dataframe(periods=len(test['Month']), freq='M')\n",
    "forecast = model.predict(future)"
   ]
  },
  {
   "cell_type": "code",
   "execution_count": 23,
   "id": "711c6c1a-1717-4b93-b33e-e1f92544fb1b",
   "metadata": {},
   "outputs": [
    {
     "data": {
      "text/plain": [
       "89.30435600041544"
      ]
     },
     "execution_count": 23,
     "metadata": {},
     "output_type": "execute_result"
    }
   ],
   "source": [
    "max(forecast[-(len(test['Month'])):]['yhat'])"
   ]
  },
  {
   "cell_type": "code",
   "execution_count": 24,
   "id": "0e692f9f-decd-4be9-a239-f4f9740509ba",
   "metadata": {},
   "outputs": [
    {
     "data": {
      "text/plain": [
       "74.87134900624761"
      ]
     },
     "execution_count": 24,
     "metadata": {},
     "output_type": "execute_result"
    }
   ],
   "source": [
    "min(forecast[-(len(test['Month'])):]['yhat'])"
   ]
  },
  {
   "cell_type": "markdown",
   "id": "5da9d5a6-f3f6-4d47-8618-6f9facff17ea",
   "metadata": {},
   "source": [
    "# Random Forest Method"
   ]
  },
  {
   "cell_type": "code",
   "execution_count": null,
   "id": "89e3675d-1768-412c-9a93-3b6ca2b47fd0",
   "metadata": {},
   "outputs": [],
   "source": []
  },
  {
   "cell_type": "code",
   "execution_count": 262,
   "id": "f3fc1e96-1615-40e9-84c4-e481bc4abe6d",
   "metadata": {},
   "outputs": [],
   "source": [
    "submission = pd.DataFrame()"
   ]
  },
  {
   "cell_type": "code",
   "execution_count": 263,
   "id": "06524a24-fe60-470c-8aff-8b982068a420",
   "metadata": {},
   "outputs": [],
   "source": [
    "test1 = pd.read_csv('test.csv')"
   ]
  },
  {
   "cell_type": "code",
   "execution_count": 264,
   "id": "d4e8039d-184b-4a69-a9bf-14e82066658f",
   "metadata": {},
   "outputs": [],
   "source": [
    "submission['Month'] = test1['Month']"
   ]
  },
  {
   "cell_type": "code",
   "execution_count": 265,
   "id": "088839f7-9097-4869-94cb-bd0843801420",
   "metadata": {},
   "outputs": [],
   "source": [
    "submission['Avg_sunspot_count'] = test['Avg_sunspot_count']"
   ]
  },
  {
   "cell_type": "code",
   "execution_count": 266,
   "id": "14087a14-569e-41ca-8e53-7c5d0475eb41",
   "metadata": {},
   "outputs": [],
   "source": [
    "submission.to_csv('submission5.csv',index=False)"
   ]
  },
  {
   "cell_type": "code",
   "execution_count": null,
   "id": "7f785ebf-70a7-4284-be76-021c7ab95b43",
   "metadata": {},
   "outputs": [],
   "source": []
  }
 ],
 "metadata": {
  "kernelspec": {
   "display_name": "Python 3 (ipykernel)",
   "language": "python",
   "name": "python3"
  },
  "language_info": {
   "codemirror_mode": {
    "name": "ipython",
    "version": 3
   },
   "file_extension": ".py",
   "mimetype": "text/x-python",
   "name": "python",
   "nbconvert_exporter": "python",
   "pygments_lexer": "ipython3",
   "version": "3.11.5"
  }
 },
 "nbformat": 4,
 "nbformat_minor": 5
}
